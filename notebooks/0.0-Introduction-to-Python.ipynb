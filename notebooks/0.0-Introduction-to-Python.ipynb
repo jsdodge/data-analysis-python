{
 "cells": [
  {
   "cell_type": "markdown",
   "metadata": {},
   "source": [
    "# Introduction to Python\n",
    "\n",
    "These notebooks are designed to teach you a bit of statistics and to acquaint you with the scientific programming language Python. Most modules contains questions related to [*Measurements and their Uncertainties*](http://www.oupcanada.com/catalog/9780199566334.html), by Hughes and Hase.\n"
   ]
  },
  {
   "cell_type": "markdown",
   "metadata": {
    "slideshow": {
     "slide_type": "slide"
    }
   },
   "source": [
    "* [Preliminaries](#Preliminaries)\n",
    "* [Using Python as a calculator](#Using-Python-as-a-calculator)\n",
    "* [Variables](#Variables)\n",
    "    * [Integers](#Integers)\n",
    "    * [Floating-point numbers](#Floating-point-numbers)\n",
    "    * [Strings](#Strings)\n",
    "    * [Lists](#Lists)\n",
    "* [Indexing](#Indexing)\n",
    "* [Further reading](#Further-reading)"
   ]
  },
  {
   "cell_type": "markdown",
   "metadata": {},
   "source": [
    "## Preliminaries\n",
    "Before getting started, read the introductory information on the [SFU GitLab](https://gitlab.rcg.sfu.ca/jsdodge/data-analysis-python) and follow the instructions there for using these notebooks."
   ]
  },
  {
   "cell_type": "markdown",
   "metadata": {
    "slideshow": {
     "slide_type": "slide"
    }
   },
   "source": [
    "## Using Python as a calculator"
   ]
  },
  {
   "cell_type": "code",
   "execution_count": 1,
   "metadata": {
    "slideshow": {
     "slide_type": "-"
    }
   },
   "outputs": [
    {
     "data": {
      "text/plain": [
       "7"
      ]
     },
     "execution_count": 1,
     "metadata": {},
     "output_type": "execute_result"
    }
   ],
   "source": [
    "# You can make comments by including a pound symbol (#) at the beginning of the line.\n",
    "# The following line calculates the sum of the two numbers.\n",
    "# In order to run this cell hold Shift and press the Enter.\n",
    "\n",
    "2 + 5"
   ]
  },
  {
   "cell_type": "code",
   "execution_count": 2,
   "metadata": {},
   "outputs": [
    {
     "data": {
      "text/plain": [
       "30"
      ]
     },
     "execution_count": 2,
     "metadata": {},
     "output_type": "execute_result"
    }
   ],
   "source": [
    "# It is possible to run multiple lines in the same cell\n",
    "# Note that the output only displays the result of the last line\n",
    "2 + 1\n",
    "5*6"
   ]
  },
  {
   "cell_type": "code",
   "execution_count": 3,
   "metadata": {},
   "outputs": [
    {
     "name": "stdout",
     "output_type": "stream",
     "text": [
      "5\n",
      "28\n"
     ]
    },
    {
     "data": {
      "text/plain": [
       "7"
      ]
     },
     "execution_count": 3,
     "metadata": {},
     "output_type": "execute_result"
    }
   ],
   "source": [
    "# In order to display the results of multiple line use print() funtion\n",
    "print(2 + 3)\n",
    "print(4*7)\n",
    "8 - 1"
   ]
  },
  {
   "cell_type": "code",
   "execution_count": 4,
   "metadata": {},
   "outputs": [
    {
     "name": "stdout",
     "output_type": "stream",
     "text": [
      "2.0\n",
      "2.6666666666666665\n"
     ]
    }
   ],
   "source": [
    "# Division\n",
    "# Note that division always returns a floating point number!\n",
    "print(4/2)\n",
    "print(8/3)"
   ]
  },
  {
   "cell_type": "code",
   "execution_count": 5,
   "metadata": {},
   "outputs": [
    {
     "name": "stdout",
     "output_type": "stream",
     "text": [
      "2 8 4.5\n"
     ]
    }
   ],
   "source": [
    "# It is possible to display multiple values with one print() function\n",
    "# by separating the items by commas\n",
    "print(2, 5 + 3, 9/2)"
   ]
  },
  {
   "cell_type": "code",
   "execution_count": 6,
   "metadata": {},
   "outputs": [
    {
     "name": "stdout",
     "output_type": "stream",
     "text": [
      "25\n",
      "3.0\n"
     ]
    }
   ],
   "source": [
    "# In Python ** is used to calculate powers\n",
    "print(5**2)\n",
    "print(9**0.5)"
   ]
  },
  {
   "cell_type": "markdown",
   "metadata": {
    "slideshow": {
     "slide_type": "slide"
    }
   },
   "source": [
    "## Variables\n",
    "In python you can easily define variables."
   ]
  },
  {
   "cell_type": "code",
   "execution_count": 7,
   "metadata": {
    "slideshow": {
     "slide_type": "-"
    }
   },
   "outputs": [
    {
     "name": "stdout",
     "output_type": "stream",
     "text": [
      "25\n"
     ]
    }
   ],
   "source": [
    "# An equal sign (=) is used to assigne value to a variable\n",
    "a = 1\n",
    "b = 24\n",
    "print(a + b)"
   ]
  },
  {
   "cell_type": "markdown",
   "metadata": {
    "slideshow": {
     "slide_type": "subslide"
    }
   },
   "source": [
    "In Python each variable has a type. \n",
    "Note: You can return the varible's type by using the funtion type().\n"
   ]
  },
  {
   "cell_type": "markdown",
   "metadata": {},
   "source": [
    "### Integers"
   ]
  },
  {
   "cell_type": "code",
   "execution_count": 8,
   "metadata": {},
   "outputs": [
    {
     "name": "stdout",
     "output_type": "stream",
     "text": [
      "3\n",
      "<class 'int'>\n"
     ]
    }
   ],
   "source": [
    "# the follwing line assing value 3 to 'a'. In this case the vaiable type is integer.\n",
    "a = 3\n",
    "\n",
    "print(a)\n",
    "print(type(a))"
   ]
  },
  {
   "cell_type": "markdown",
   "metadata": {},
   "source": [
    "### Floating-point numbers"
   ]
  },
  {
   "cell_type": "code",
   "execution_count": 9,
   "metadata": {},
   "outputs": [
    {
     "name": "stdout",
     "output_type": "stream",
     "text": [
      "2.2\n",
      "<class 'float'>\n"
     ]
    }
   ],
   "source": [
    "# the following line assigns the value 2.2 to 'b'. In this case the variable type is\n",
    "# a floating-point number, or 'float'.\n",
    "b = 2.2\n",
    "\n",
    "print(b)\n",
    "print(type(b))"
   ]
  },
  {
   "cell_type": "code",
   "execution_count": 10,
   "metadata": {},
   "outputs": [
    {
     "name": "stdout",
     "output_type": "stream",
     "text": [
      "1 7.3 8.3\n",
      "<class 'int'> <class 'float'> <class 'float'>\n"
     ]
    }
   ],
   "source": [
    "# If you add an integer number to a float the result will be also be a float\n",
    "\n",
    "# Define an integer\n",
    "a = 1\n",
    "\n",
    "# define a float\n",
    "b = 7.3\n",
    "\n",
    "# Check the type of a + b\n",
    "print(a, b, a + b)\n",
    "print(type(a), type(b), type(a + b))"
   ]
  },
  {
   "cell_type": "markdown",
   "metadata": {
    "slideshow": {
     "slide_type": "subslide"
    }
   },
   "source": [
    "### Strings \n",
    "There are different ways of defining strings in Python:"
   ]
  },
  {
   "cell_type": "code",
   "execution_count": 11,
   "metadata": {},
   "outputs": [
    {
     "name": "stdout",
     "output_type": "stream",
     "text": [
      "Mercury\n",
      "Venus\n",
      "Ceres isn't a planet \n",
      "c is type:  <class 'str'>\n"
     ]
    }
   ],
   "source": [
    "# Use '' to define a string\n",
    "a = 'Mercury'\n",
    "\n",
    "# Use \"\" to define a string\n",
    "b = \"Venus\"\n",
    "\n",
    "# If the string contains ' you can use \"\" to define it\n",
    "c = \"Ceres isn't a planet \"\n",
    "\n",
    "print(a)\n",
    "print(b)\n",
    "print(c)\n",
    "print('c is type: ', type(c))\n"
   ]
  },
  {
   "cell_type": "code",
   "execution_count": 12,
   "metadata": {},
   "outputs": [
    {
     "name": "stdout",
     "output_type": "stream",
     "text": [
      "Neptune\n"
     ]
    }
   ],
   "source": [
    "# You can join (concatenate) strings using the '+' symbol\n",
    "\n",
    "a = 'Nep'\n",
    "b = 'tune'\n",
    "\n",
    "c = a + b\n",
    "print(c)"
   ]
  },
  {
   "cell_type": "markdown",
   "metadata": {
    "slideshow": {
     "slide_type": "slide"
    }
   },
   "source": [
    "### Lists\n",
    "Sometimes we need to group different values together. One way to do that is using a List. \n",
    "\n",
    "**Note: never use 'list' as a variable name - it is a reserved name in Python.**"
   ]
  },
  {
   "cell_type": "code",
   "execution_count": 13,
   "metadata": {},
   "outputs": [
    {
     "name": "stdout",
     "output_type": "stream",
     "text": [
      "[3, 1, 4, 2]\n",
      "<class 'list'>\n"
     ]
    }
   ],
   "source": [
    "# Lists are enclosed by square brackets and separated by commas.\n",
    "# Assign a list of numbers to x.\n",
    "a = [3, 1, 4, 2]\n",
    "\n",
    "print(a)\n",
    "print(type(a))"
   ]
  },
  {
   "cell_type": "code",
   "execution_count": 14,
   "metadata": {},
   "outputs": [
    {
     "name": "stdout",
     "output_type": "stream",
     "text": [
      "[1, 2, 'a', 5, [1, 4, 7]]\n"
     ]
    }
   ],
   "source": [
    "# A list may be composed of different variable types,\n",
    "# including other lists.\n",
    "\n",
    "my_list = [1, 2, 'a', 5, [1, 4, 7]]\n",
    "print(my_list)"
   ]
  },
  {
   "cell_type": "code",
   "execution_count": 15,
   "metadata": {},
   "outputs": [
    {
     "name": "stdout",
     "output_type": "stream",
     "text": [
      "[1, 2, 4, 'a', 'b', 'c']\n"
     ]
    }
   ],
   "source": [
    "# The '+' operation acts on lists by joining them.\n",
    "\n",
    "a = [1, 2, 4]\n",
    "b = ['a', 'b', 'c']\n",
    "c = a + b\n",
    "print(c)"
   ]
  },
  {
   "cell_type": "markdown",
   "metadata": {},
   "source": [
    "## Indexing\n",
    "Use square brackets to access different parts of a given list. The first element has index `0`."
   ]
  },
  {
   "cell_type": "code",
   "execution_count": 16,
   "metadata": {},
   "outputs": [
    {
     "name": "stdout",
     "output_type": "stream",
     "text": [
      "0\n",
      "1\n",
      "2\n",
      "3\n"
     ]
    }
   ],
   "source": [
    "# Print the first four elements of a in sequence\n",
    "a = [0, 1, 2, 3, 4, 5, 6, 7]\n",
    "\n",
    "print(a[0])\n",
    "print(a[1])\n",
    "print(a[2])\n",
    "print(a[3])"
   ]
  },
  {
   "cell_type": "code",
   "execution_count": 17,
   "metadata": {},
   "outputs": [
    {
     "name": "stdout",
     "output_type": "stream",
     "text": [
      "7\n"
     ]
    }
   ],
   "source": [
    "# Use the index -1 to select the last element of the list\n",
    "print(a[-1])"
   ]
  },
  {
   "cell_type": "code",
   "execution_count": 18,
   "metadata": {},
   "outputs": [
    {
     "name": "stdout",
     "output_type": "stream",
     "text": [
      "7\n",
      "6\n",
      "5\n",
      "4\n",
      "3\n",
      "2\n",
      "1\n"
     ]
    }
   ],
   "source": [
    "# You can also use negative indices to count backwards from the last element\n",
    "\n",
    "print(a[-1])\n",
    "print(a[-2])\n",
    "print(a[-3])\n",
    "print(a[-4])\n",
    "print(a[-5])\n",
    "print(a[-6])\n",
    "print(a[-7])"
   ]
  },
  {
   "cell_type": "code",
   "execution_count": 19,
   "metadata": {},
   "outputs": [
    {
     "ename": "IndexError",
     "evalue": "list index out of range",
     "output_type": "error",
     "traceback": [
      "\u001b[0;31m---------------------------------------------------------------------------\u001b[0m",
      "\u001b[0;31mIndexError\u001b[0m                                Traceback (most recent call last)",
      "\u001b[0;32m<ipython-input-19-35c64a99763e>\u001b[0m in \u001b[0;36m<module>\u001b[0;34m\u001b[0m\n\u001b[1;32m      2\u001b[0m \u001b[0;31m# (Remember that the 8 positive indices of 'a' run from 0 through 7)\u001b[0m\u001b[0;34m\u001b[0m\u001b[0;34m\u001b[0m\u001b[0;34m\u001b[0m\u001b[0m\n\u001b[1;32m      3\u001b[0m \u001b[0;34m\u001b[0m\u001b[0m\n\u001b[0;32m----> 4\u001b[0;31m \u001b[0mprint\u001b[0m\u001b[0;34m(\u001b[0m\u001b[0ma\u001b[0m\u001b[0;34m[\u001b[0m\u001b[0;36m8\u001b[0m\u001b[0;34m]\u001b[0m\u001b[0;34m)\u001b[0m\u001b[0;34m\u001b[0m\u001b[0;34m\u001b[0m\u001b[0m\n\u001b[0m",
      "\u001b[0;31mIndexError\u001b[0m: list index out of range"
     ]
    }
   ],
   "source": [
    "# Asking for an index outside of the list's range produces an error\n",
    "# (Remember that the 8 positive indices of 'a' run from 0 through 7)\n",
    "\n",
    "print(a[8])"
   ]
  },
  {
   "cell_type": "code",
   "execution_count": 20,
   "metadata": {},
   "outputs": [
    {
     "ename": "IndexError",
     "evalue": "list index out of range",
     "output_type": "error",
     "traceback": [
      "\u001b[0;31m---------------------------------------------------------------------------\u001b[0m",
      "\u001b[0;31mIndexError\u001b[0m                                Traceback (most recent call last)",
      "\u001b[0;32m<ipython-input-20-de7361faa92a>\u001b[0m in \u001b[0;36m<module>\u001b[0;34m\u001b[0m\n\u001b[1;32m      1\u001b[0m \u001b[0;31m# The negative indices of 'a' run from -1 through -8\u001b[0m\u001b[0;34m\u001b[0m\u001b[0;34m\u001b[0m\u001b[0;34m\u001b[0m\u001b[0m\n\u001b[1;32m      2\u001b[0m \u001b[0;34m\u001b[0m\u001b[0m\n\u001b[0;32m----> 3\u001b[0;31m \u001b[0mprint\u001b[0m\u001b[0;34m(\u001b[0m\u001b[0ma\u001b[0m\u001b[0;34m[\u001b[0m\u001b[0;34m-\u001b[0m\u001b[0;36m9\u001b[0m\u001b[0;34m]\u001b[0m\u001b[0;34m)\u001b[0m\u001b[0;34m\u001b[0m\u001b[0;34m\u001b[0m\u001b[0m\n\u001b[0m",
      "\u001b[0;31mIndexError\u001b[0m: list index out of range"
     ]
    }
   ],
   "source": [
    "# The negative indices of 'a' run from -1 through -8\n",
    "\n",
    "print(a[-9])"
   ]
  },
  {
   "cell_type": "code",
   "execution_count": 21,
   "metadata": {},
   "outputs": [
    {
     "name": "stdout",
     "output_type": "stream",
     "text": [
      "[0, 1, 2]\n"
     ]
    }
   ],
   "source": [
    "# We can select a range of indices by separating the start\n",
    "# and stop index with a colon, a[start:stop]. This will\n",
    "# return all elements beginning with the 'start' index and\n",
    "# ending with the largest index that is below 'stop'.\n",
    "print(a[0:3])"
   ]
  },
  {
   "cell_type": "code",
   "execution_count": 22,
   "metadata": {},
   "outputs": [
    {
     "name": "stdout",
     "output_type": "stream",
     "text": [
      "[0, 1, 2, 3, 4, 5, 6, 7]\n"
     ]
    }
   ],
   "source": [
    "# The upper limit can be above the index range of the list\n",
    "\n",
    "print(a[0:100])"
   ]
  },
  {
   "cell_type": "code",
   "execution_count": 23,
   "metadata": {},
   "outputs": [
    {
     "name": "stdout",
     "output_type": "stream",
     "text": [
      "[0, 2, 4, 6]\n",
      "[0, 4]\n",
      "[1, 5]\n",
      "[5]\n"
     ]
    }
   ],
   "source": [
    "# We can also change the increment by adding a third integer,\n",
    "# a[start:stop:step]. This will return the element at the 'start'\n",
    "# index then increment the index by 'step' and will stop returning\n",
    "# elements once the index is greater than or equal to 'stop'.\n",
    "\n",
    "print(a[0:8:2])\n",
    "print(a[0:8:4])\n",
    "print(a[1:8:4])\n",
    "print(a[5:8:4])"
   ]
  },
  {
   "cell_type": "code",
   "execution_count": 24,
   "metadata": {},
   "outputs": [
    {
     "name": "stdout",
     "output_type": "stream",
     "text": [
      "[2, 4]\n"
     ]
    }
   ],
   "source": [
    "print(a[2:6:2])"
   ]
  },
  {
   "cell_type": "code",
   "execution_count": 25,
   "metadata": {},
   "outputs": [
    {
     "name": "stdout",
     "output_type": "stream",
     "text": [
      "K\n",
      "i\n",
      "ipe\n",
      "belt\n",
      "Kuiper\n",
      "t\n"
     ]
    }
   ],
   "source": [
    "# Indexing also works with strings. The string is then considered as a list of characters.\n",
    "\n",
    "a = 'Kuiper belt'\n",
    "\n",
    "# Print the first letter\n",
    "print(a[0])\n",
    "\n",
    "# Print the third letter\n",
    "print(a[2])\n",
    "\n",
    "# Print a section \n",
    "print(a[2:5])\n",
    "print(a[7:])\n",
    "print(a[:6])\n",
    "\n",
    "# print the last letter\n",
    "print(a[-1])"
   ]
  },
  {
   "cell_type": "markdown",
   "metadata": {},
   "source": [
    "## Further reading\n",
    "\n",
    "* Sebastian Eschweiler, [Getting Started With Jupyter Notebook for Python](https://medium.com/codingthesmartway-com-blog/getting-started-with-jupyter-notebook-for-python-4e7082bd5d46). Basic information about Jupyter notebooks.\n",
    "\n",
    "* Nicholas Lee-Hone, [Python Lectures](https://github.com/nleehone/PythonLectures). Produced for SFU faculty.\n",
    "\n",
    "* Jake VanderPlas, [A Whirlwind Tour of Python](https://github.com/jakevdp/WhirlwindTourOfPython). Just what it says it is.\n",
    "\n",
    "* Jake VanderPlas, [The Python Data Science Handbook](https://github.com/jakevdp/PythonDataScienceHandbook). A more comprehensive resource with details on NumPy and Matplotlib, among other packages.\n",
    "\n",
    "* [The Python Tutorial](https://docs.python.org/3/tutorial/).\n",
    "\n",
    "* [SciPy Tutorial](https://docs.scipy.org/doc/scipy/reference/tutorial/index.html).\n",
    "\n",
    "* [NumPy User Guide](https://docs.scipy.org/doc/numpy/user/index.html#user).\n",
    "\n",
    "* Guido van Rossum, Barry Warsaw, and Nick Coghlan, [PEP 8 -- Style Guide for Python Code](https://www.python.org/dev/peps/pep-0008). The standard style guide for Python code.\n"
   ]
  },
  {
   "cell_type": "markdown",
   "metadata": {},
   "source": [
    "##### About this notebook\n",
    "Notebook by J. S. Dodge, 2019. Available from [SFU GitLab](https://gitlab.rcg.sfu.ca/jsdodge/data-analysis-python). The notebook text is licensed under the Creative Commons Attribution-NonCommercial-NoDerivatives 4.0 International License. See more at [Creative Commons](http://creativecommons.org/licenses/by-nc-nd/4.0/). The notebook code is open source under the [MIT License](https://opensource.org/licenses/MIT)."
   ]
  }
 ],
 "metadata": {
  "kernelspec": {
   "display_name": "Python 3",
   "language": "python",
   "name": "python3"
  },
  "language_info": {
   "codemirror_mode": {
    "name": "ipython",
    "version": 3
   },
   "file_extension": ".py",
   "mimetype": "text/x-python",
   "name": "python",
   "nbconvert_exporter": "python",
   "pygments_lexer": "ipython3",
   "version": "3.6.9"
  }
 },
 "nbformat": 4,
 "nbformat_minor": 4
}
