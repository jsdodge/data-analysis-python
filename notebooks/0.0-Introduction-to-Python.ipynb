{
 "cells": [
  {
   "cell_type": "markdown",
   "metadata": {
    "pycharm": {
     "name": "#%% md\n"
    }
   },
   "source": [
    "# Introduction to Python\n",
    "\n",
    "These notebooks are designed to teach you a bit of statistics and to acquaint you with the scientific programming language Python. Most modules contains questions related to [*Measurements and their Uncertainties*](https://www.oupcanada.com/catalog/9780199566334.html), by Hughes and Hase.\n"
   ]
  },
  {
   "cell_type": "markdown",
   "metadata": {
    "pycharm": {
     "name": "#%% md\n"
    },
    "slideshow": {
     "slide_type": "slide"
    }
   },
   "source": [
    "* [Resources](#Resources)\n",
    "* [Using Python as a calculator](#Using-Python-as-a-calculator)\n",
    "* [Variables](#Variables)\n",
    "    * [Integers](#Integers)\n",
    "    * [Floating-point numbers](#Floating-point-numbers)\n",
    "    * [Strings](#Strings)\n",
    "    * [Lists](#Lists)\n",
    "* [Indexing](#Indexing)\n",
    "* [Further reading](#Further-reading)"
   ]
  },
  {
   "cell_type": "markdown",
   "metadata": {
    "pycharm": {
     "name": "#%% md\n"
    }
   },
   "source": [
    "## Resources\n",
    "See the Jupyter [documentation](https://docs.jupyter.org/en/latest/) for more information about Jupyter notebooks."
   ]
  },
  {
   "cell_type": "markdown",
   "metadata": {
    "pycharm": {
     "name": "#%% md\n"
    },
    "slideshow": {
     "slide_type": "slide"
    }
   },
   "source": [
    "## Using Python as a calculator"
   ]
  },
  {
   "cell_type": "code",
   "execution_count": 1,
   "metadata": {
    "pycharm": {
     "name": "#%%\n"
    },
    "slideshow": {
     "slide_type": "-"
    }
   },
   "outputs": [
    {
     "data": {
      "text/plain": [
       "7"
      ]
     },
     "execution_count": 1,
     "metadata": {},
     "output_type": "execute_result"
    }
   ],
   "source": [
    "# You can make comments by including a pound symbol (#) at the beginning of the line.\n",
    "# The following line calculates the sum of the two numbers.\n",
    "# In order to run this cell hold Shift and press the Enter key.\n",
    "\n",
    "2 + 5"
   ]
  },
  {
   "cell_type": "code",
   "execution_count": 2,
   "metadata": {
    "pycharm": {
     "name": "#%%\n"
    }
   },
   "outputs": [
    {
     "data": {
      "text/plain": [
       "30"
      ]
     },
     "execution_count": 2,
     "metadata": {},
     "output_type": "execute_result"
    }
   ],
   "source": [
    "# It is possible to run multiple lines in the same cell.\n",
    "# Note that the output only displays the result of the last line.\n",
    "2 + 1\n",
    "5 * 6"
   ]
  },
  {
   "cell_type": "code",
   "execution_count": 3,
   "metadata": {
    "pycharm": {
     "name": "#%%\n"
    }
   },
   "outputs": [
    {
     "name": "stdout",
     "output_type": "stream",
     "text": [
      "5\n",
      "28\n"
     ]
    },
    {
     "data": {
      "text/plain": [
       "7"
      ]
     },
     "execution_count": 3,
     "metadata": {},
     "output_type": "execute_result"
    }
   ],
   "source": [
    "# In order to display the results of multiple lines use the print() function.\n",
    "print(2 + 3)\n",
    "print(4 * 7)\n",
    "8 - 1"
   ]
  },
  {
   "cell_type": "code",
   "execution_count": 4,
   "metadata": {
    "pycharm": {
     "name": "#%%\n"
    }
   },
   "outputs": [
    {
     "name": "stdout",
     "output_type": "stream",
     "text": [
      "2.0\n",
      "2.6666666666666665\n"
     ]
    }
   ],
   "source": [
    "# Division\n",
    "# Note that division always returns a floating point number!\n",
    "print(4 / 2)\n",
    "print(8 / 3)"
   ]
  },
  {
   "cell_type": "code",
   "execution_count": 5,
   "metadata": {
    "pycharm": {
     "name": "#%%\n"
    }
   },
   "outputs": [
    {
     "name": "stdout",
     "output_type": "stream",
     "text": [
      "2 8 4.5\n"
     ]
    }
   ],
   "source": [
    "# It is possible to display multiple values with one print() function\n",
    "# by separating the items by commas.\n",
    "print(2, 5 + 3, 9 / 2)"
   ]
  },
  {
   "cell_type": "code",
   "execution_count": 6,
   "metadata": {
    "pycharm": {
     "name": "#%%\n"
    }
   },
   "outputs": [
    {
     "name": "stdout",
     "output_type": "stream",
     "text": [
      "25\n",
      "3.0\n"
     ]
    }
   ],
   "source": [
    "# In Python ** is used to calculate powers.\n",
    "print(5**2)\n",
    "print(9**0.5)"
   ]
  },
  {
   "cell_type": "markdown",
   "metadata": {
    "pycharm": {
     "name": "#%% md\n"
    },
    "slideshow": {
     "slide_type": "slide"
    }
   },
   "source": [
    "## Variables\n",
    "In Python, you can easily define variables."
   ]
  },
  {
   "cell_type": "code",
   "execution_count": 7,
   "metadata": {
    "pycharm": {
     "name": "#%%\n"
    },
    "slideshow": {
     "slide_type": "-"
    }
   },
   "outputs": [
    {
     "name": "stdout",
     "output_type": "stream",
     "text": [
      "25\n"
     ]
    }
   ],
   "source": [
    "# An equal sign (=) is used to assign a value to a variable.\n",
    "a = 1\n",
    "b = 24\n",
    "print(a + b)"
   ]
  },
  {
   "cell_type": "markdown",
   "metadata": {
    "pycharm": {
     "name": "#%% md\n"
    },
    "slideshow": {
     "slide_type": "subslide"
    }
   },
   "source": [
    "In Python each variable has a type. You can return the variable's type by using the funtion [`type`](https://docs.python.org/3/library/functions.html#type).\n"
   ]
  },
  {
   "cell_type": "markdown",
   "metadata": {
    "pycharm": {
     "name": "#%% md\n"
    }
   },
   "source": [
    "### Integers"
   ]
  },
  {
   "cell_type": "code",
   "execution_count": 8,
   "metadata": {
    "pycharm": {
     "name": "#%%\n"
    }
   },
   "outputs": [
    {
     "name": "stdout",
     "output_type": "stream",
     "text": [
      "3\n",
      "<class 'int'>\n"
     ]
    }
   ],
   "source": [
    "# The following line assigns the value 3 to 'a'. In this case the variable type is integer.\n",
    "a = 3\n",
    "\n",
    "print(a)\n",
    "print(type(a))"
   ]
  },
  {
   "cell_type": "markdown",
   "metadata": {
    "pycharm": {
     "name": "#%% md\n"
    }
   },
   "source": [
    "### Floating-point numbers"
   ]
  },
  {
   "cell_type": "code",
   "execution_count": 9,
   "metadata": {
    "pycharm": {
     "name": "#%%\n"
    }
   },
   "outputs": [
    {
     "name": "stdout",
     "output_type": "stream",
     "text": [
      "2.2\n",
      "<class 'float'>\n"
     ]
    }
   ],
   "source": [
    "# The following line assigns the value 2.2 to 'b'. In this case the variable type is\n",
    "# a floating-point number, or 'float'.\n",
    "b = 2.2\n",
    "\n",
    "print(b)\n",
    "print(type(b))"
   ]
  },
  {
   "cell_type": "code",
   "execution_count": 10,
   "metadata": {
    "pycharm": {
     "name": "#%%\n"
    }
   },
   "outputs": [
    {
     "name": "stdout",
     "output_type": "stream",
     "text": [
      "1 7.3 8.3\n",
      "<class 'int'> <class 'float'> <class 'float'>\n"
     ]
    }
   ],
   "source": [
    "# If you add an integer number to a float the result will be also be a float.\n",
    "\n",
    "# Define an integer\n",
    "a = 1\n",
    "\n",
    "# define a float\n",
    "b = 7.3\n",
    "\n",
    "# Check the type of (a + b)\n",
    "print(a, b, a + b)\n",
    "print(type(a), type(b), type(a + b))"
   ]
  },
  {
   "cell_type": "markdown",
   "metadata": {
    "pycharm": {
     "name": "#%% md\n"
    },
    "slideshow": {
     "slide_type": "subslide"
    }
   },
   "source": [
    "### Strings \n",
    "There are different ways of defining strings in Python:"
   ]
  },
  {
   "cell_type": "code",
   "execution_count": 11,
   "metadata": {
    "pycharm": {
     "name": "#%%\n"
    }
   },
   "outputs": [
    {
     "name": "stdout",
     "output_type": "stream",
     "text": [
      "Mercury\n",
      "Venus\n",
      "Ceres isn't a planet\n",
      "c is type:  <class 'str'>\n"
     ]
    }
   ],
   "source": [
    "# Use \"\" to define a string\n",
    "a = \"Mercury\"\n",
    "\n",
    "# Use '' to define a string\n",
    "b = 'Venus'\n",
    "\n",
    "# If the string contains ' you can use \"\" to define it\n",
    "c = \"Ceres isn't a planet\"\n",
    "\n",
    "print(a)\n",
    "print(b)\n",
    "print(c)\n",
    "print(\"c is type: \", type(c))"
   ]
  },
  {
   "cell_type": "code",
   "execution_count": 12,
   "metadata": {
    "pycharm": {
     "name": "#%%\n"
    }
   },
   "outputs": [
    {
     "name": "stdout",
     "output_type": "stream",
     "text": [
      "Neptune\n"
     ]
    }
   ],
   "source": [
    "# You can join (concatenate) strings using the '+' symbol\n",
    "\n",
    "a = \"Nep\"\n",
    "b = \"tune\"\n",
    "\n",
    "c = a + b\n",
    "print(c)"
   ]
  },
  {
   "cell_type": "markdown",
   "metadata": {
    "pycharm": {
     "name": "#%% md\n"
    },
    "slideshow": {
     "slide_type": "slide"
    }
   },
   "source": [
    "### Lists\n",
    "Sometimes we need to group different values together. One way to do that is with a List. \n",
    "\n",
    "**Note: never use 'list' as a variable name - it is a reserved name in Python.**"
   ]
  },
  {
   "cell_type": "code",
   "execution_count": 13,
   "metadata": {
    "pycharm": {
     "name": "#%%\n"
    }
   },
   "outputs": [
    {
     "name": "stdout",
     "output_type": "stream",
     "text": [
      "[3, 1, 4, 2]\n",
      "<class 'list'>\n"
     ]
    }
   ],
   "source": [
    "# Lists are enclosed by square brackets and separated by commas.\n",
    "# Assign a list of numbers to the variable 'a'.\n",
    "a = [3, 1, 4, 2]\n",
    "\n",
    "print(a)\n",
    "print(type(a))"
   ]
  },
  {
   "cell_type": "code",
   "execution_count": 14,
   "metadata": {
    "pycharm": {
     "name": "#%%\n"
    }
   },
   "outputs": [
    {
     "name": "stdout",
     "output_type": "stream",
     "text": [
      "[1, 2, 'a', 5, [1, 4, 7]]\n"
     ]
    }
   ],
   "source": [
    "# A list may be composed of different variable types,\n",
    "# including other lists.\n",
    "\n",
    "my_list = [1, 2, \"a\", 5, [1, 4, 7]]\n",
    "print(my_list)"
   ]
  },
  {
   "cell_type": "code",
   "execution_count": 15,
   "metadata": {
    "pycharm": {
     "name": "#%%\n"
    }
   },
   "outputs": [
    {
     "name": "stdout",
     "output_type": "stream",
     "text": [
      "[1, 2, 4, 'a', 'b', 'c']\n"
     ]
    }
   ],
   "source": [
    "# The '+' operation acts on lists by joining them.\n",
    "\n",
    "a = [1, 2, 4]\n",
    "b = [\"a\", \"b\", \"c\"]\n",
    "c = a + b\n",
    "print(c)"
   ]
  },
  {
   "cell_type": "markdown",
   "metadata": {
    "pycharm": {
     "name": "#%% md\n"
    }
   },
   "source": [
    "## Indexing\n",
    "Use square brackets to access different parts of a given list. The first element has the index `0`."
   ]
  },
  {
   "cell_type": "code",
   "execution_count": 16,
   "metadata": {
    "pycharm": {
     "name": "#%%\n"
    }
   },
   "outputs": [
    {
     "name": "stdout",
     "output_type": "stream",
     "text": [
      "0\n",
      "1\n",
      "2\n",
      "3\n"
     ]
    }
   ],
   "source": [
    "# Print the first four elements of the list 'a', in sequence.\n",
    "a = [0, 1, 2, 3, 4, 5, 6, 7]\n",
    "\n",
    "print(a[0])\n",
    "print(a[1])\n",
    "print(a[2])\n",
    "print(a[3])"
   ]
  },
  {
   "cell_type": "code",
   "execution_count": 17,
   "metadata": {
    "pycharm": {
     "name": "#%%\n"
    }
   },
   "outputs": [
    {
     "name": "stdout",
     "output_type": "stream",
     "text": [
      "7\n"
     ]
    }
   ],
   "source": [
    "# Use the index -1 to select the last element of the list.\n",
    "print(a[-1])"
   ]
  },
  {
   "cell_type": "code",
   "execution_count": 18,
   "metadata": {
    "pycharm": {
     "name": "#%%\n"
    }
   },
   "outputs": [
    {
     "name": "stdout",
     "output_type": "stream",
     "text": [
      "7\n",
      "6\n",
      "5\n",
      "4\n",
      "3\n",
      "2\n",
      "1\n"
     ]
    }
   ],
   "source": [
    "# You can also use negative indices to count backwards from the last element.\n",
    "\n",
    "print(a[-1])\n",
    "print(a[-2])\n",
    "print(a[-3])\n",
    "print(a[-4])\n",
    "print(a[-5])\n",
    "print(a[-6])\n",
    "print(a[-7])"
   ]
  },
  {
   "cell_type": "code",
   "execution_count": 19,
   "metadata": {
    "pycharm": {
     "name": "#%%\n"
    }
   },
   "outputs": [
    {
     "ename": "IndexError",
     "evalue": "list index out of range",
     "output_type": "error",
     "traceback": [
      "\u001b[0;31m---------------------------------------------------------------------------\u001b[0m",
      "\u001b[0;31mIndexError\u001b[0m                                Traceback (most recent call last)",
      "Cell \u001b[0;32mIn[19], line 4\u001b[0m\n\u001b[1;32m      1\u001b[0m \u001b[38;5;66;03m# Asking for an index outside the list's range produces an error.\u001b[39;00m\n\u001b[1;32m      2\u001b[0m \u001b[38;5;66;03m# (Remember that the 8 positive indices of 'a' run from 0 through 7.)\u001b[39;00m\n\u001b[0;32m----> 4\u001b[0m \u001b[38;5;28mprint\u001b[39m(\u001b[43ma\u001b[49m\u001b[43m[\u001b[49m\u001b[38;5;241;43m8\u001b[39;49m\u001b[43m]\u001b[49m)\n",
      "\u001b[0;31mIndexError\u001b[0m: list index out of range"
     ]
    }
   ],
   "source": [
    "# Asking for an index outside the list's range produces an error.\n",
    "# (Remember that the 8 positive indices of 'a' run from 0 through 7.)\n",
    "\n",
    "print(a[8])"
   ]
  },
  {
   "cell_type": "code",
   "execution_count": 20,
   "metadata": {
    "pycharm": {
     "name": "#%%\n"
    }
   },
   "outputs": [
    {
     "name": "stdout",
     "output_type": "stream",
     "text": [
      "0\n"
     ]
    },
    {
     "ename": "IndexError",
     "evalue": "list index out of range",
     "output_type": "error",
     "traceback": [
      "\u001b[0;31m---------------------------------------------------------------------------\u001b[0m",
      "\u001b[0;31mIndexError\u001b[0m                                Traceback (most recent call last)",
      "Cell \u001b[0;32mIn[20], line 4\u001b[0m\n\u001b[1;32m      1\u001b[0m \u001b[38;5;66;03m# The negative indices of 'a' run from -1 through -8.\u001b[39;00m\n\u001b[1;32m      3\u001b[0m \u001b[38;5;28mprint\u001b[39m(a[\u001b[38;5;241m-\u001b[39m\u001b[38;5;241m8\u001b[39m])\n\u001b[0;32m----> 4\u001b[0m \u001b[38;5;28mprint\u001b[39m(\u001b[43ma\u001b[49m\u001b[43m[\u001b[49m\u001b[38;5;241;43m-\u001b[39;49m\u001b[38;5;241;43m9\u001b[39;49m\u001b[43m]\u001b[49m)\n",
      "\u001b[0;31mIndexError\u001b[0m: list index out of range"
     ]
    }
   ],
   "source": [
    "# The negative indices of 'a' run from -1 through -8.\n",
    "\n",
    "print(a[-8])\n",
    "print(a[-9])"
   ]
  },
  {
   "cell_type": "code",
   "execution_count": 21,
   "metadata": {
    "pycharm": {
     "name": "#%%\n"
    }
   },
   "outputs": [
    {
     "name": "stdout",
     "output_type": "stream",
     "text": [
      "[0, 1, 2]\n"
     ]
    }
   ],
   "source": [
    "# We can select a range of indices by separating the start\n",
    "# and stop index with a colon, a[start:stop]. This is called the slice operator.\n",
    "# This will return all elements beginning with the 'start' index and\n",
    "# ending with the largest index that is below 'stop'.\n",
    "# If you omit the first index (before the colon), the\n",
    "# slice starts at the beginning of the string. If you omit the second\n",
    "# index, the slice goes to the end of the string.\n",
    "print(a[0:3])"
   ]
  },
  {
   "cell_type": "code",
   "execution_count": 22,
   "metadata": {
    "pycharm": {
     "name": "#%%\n"
    }
   },
   "outputs": [
    {
     "name": "stdout",
     "output_type": "stream",
     "text": [
      "[0, 1, 2]\n"
     ]
    }
   ],
   "source": [
    "# If you omit the first index (before the colon), the\n",
    "# slice starts at the beginning of the string.\n",
    "print(a[:3])"
   ]
  },
  {
   "cell_type": "code",
   "execution_count": 23,
   "metadata": {
    "pycharm": {
     "name": "#%%\n"
    }
   },
   "outputs": [
    {
     "name": "stdout",
     "output_type": "stream",
     "text": [
      "[3, 4, 5, 6, 7]\n"
     ]
    }
   ],
   "source": [
    "# If you omit the second index, the slice goes to the end of the string.\n",
    "print(a[3:])"
   ]
  },
  {
   "cell_type": "code",
   "execution_count": 24,
   "metadata": {
    "pycharm": {
     "name": "#%%\n"
    }
   },
   "outputs": [
    {
     "name": "stdout",
     "output_type": "stream",
     "text": [
      "[0, 1, 2, 3, 4, 5, 6, 7]\n"
     ]
    }
   ],
   "source": [
    "# The upper limit can be above the index range of the list.\n",
    "\n",
    "print(a[:100])"
   ]
  },
  {
   "cell_type": "code",
   "execution_count": 25,
   "metadata": {
    "pycharm": {
     "name": "#%%\n"
    }
   },
   "outputs": [
    {
     "name": "stdout",
     "output_type": "stream",
     "text": [
      "[0, 2, 4, 6]\n",
      "[2, 4]\n",
      "[0, 4]\n",
      "[1, 5]\n",
      "[5]\n"
     ]
    }
   ],
   "source": [
    "# We can also change the increment by adding a third integer,\n",
    "# a[start:stop:step]. This will return the element at the 'start'\n",
    "# index then increment the index by 'step' and will stop returning\n",
    "# elements once the index is greater than or equal to 'stop'.\n",
    "\n",
    "print(a[0:8:2])\n",
    "print(a[2:6:2])\n",
    "print(a[0:8:4])\n",
    "print(a[1:8:4])\n",
    "print(a[5:8:4])"
   ]
  },
  {
   "cell_type": "code",
   "execution_count": 26,
   "metadata": {
    "pycharm": {
     "name": "#%%\n"
    }
   },
   "outputs": [
    {
     "name": "stdout",
     "output_type": "stream",
     "text": [
      "K\n",
      "i\n",
      "ipe\n",
      "belt\n",
      "Kuiper\n",
      "t\n"
     ]
    }
   ],
   "source": [
    "# Indexing also works with strings. The string is then considered as a list of characters.\n",
    "\n",
    "a = \"Kuiper belt\"\n",
    "\n",
    "# Print the first letter\n",
    "print(a[0])\n",
    "\n",
    "# Print the third letter\n",
    "print(a[2])\n",
    "\n",
    "# Print a section\n",
    "print(a[2:5])\n",
    "print(a[7:])\n",
    "print(a[:6])\n",
    "\n",
    "# print the last letter\n",
    "print(a[-1])"
   ]
  },
  {
   "cell_type": "markdown",
   "metadata": {
    "pycharm": {
     "name": "#%% md\n"
    }
   },
   "source": [
    "## Further reading\n",
    "\n",
    "* Sebastian Eschweiler, [Getting Started With Jupyter Notebook for Python](https://medium.com/codingthesmartway-com-blog/getting-started-with-jupyter-notebook-for-python-4e7082bd5d46). Basic information about Jupyter notebooks.\n",
    "\n",
    "* Nicholas Lee-Hone, [Python Lectures](https://github.com/nleehone/PythonLectures). Produced for SFU faculty.\n",
    "\n",
    "* Jake VanderPlas, [A Whirlwind Tour of Python](https://github.com/jakevdp/WhirlwindTourOfPython). Just what it says it is.\n",
    "\n",
    "* Jake VanderPlas, [The Python Data Science Handbook](https://jakevdp.github.io/PythonDataScienceHandbook/). A more comprehensive resource with details on NumPy and Matplotlib, among other packages.\n",
    "\n",
    "* Quinkai Kong, Timmy Siauw, and Alexandre Bayen, [Python Programming And Numerical Methods: A Guide For Engineers And Scientists](https://pythonnumericalmethods.berkeley.edu/notebooks/Index.html). An online textbook developed for an introductory programming course at UC Berkeley.\n",
    "\n",
    "* [The Python Tutorial](https://docs.python.org/3/tutorial/).\n",
    "\n",
    "* [SciPy User Guide](https://docs.scipy.org/doc/scipy/tutorial/index.html).\n",
    "\n",
    "* [NumPy User Guide](https://numpy.org/doc/stable/user/index.html#user).\n",
    "\n",
    "* Guido van Rossum, Barry Warsaw, and Nick Coghlan, [PEP 8 -- Style Guide for Python Code](https://www.python.org/dev/peps/pep-0008). The standard style guide for Python code.\n"
   ]
  },
  {
   "cell_type": "markdown",
   "metadata": {
    "pycharm": {
     "name": "#%% md\n"
    }
   },
   "source": [
    "##### About this notebook\n",
    "© J. Steven Dodge, 2019. The notebook text is licensed under CC BY 4.0. See more at [Creative Commons](https://creativecommons.org/licenses/by/4.0/). The notebook code is open source under the [MIT License](https://opensource.org/licenses/MIT)."
   ]
  }
 ],
 "metadata": {
  "kernelspec": {
   "display_name": "Python 3 (ipykernel)",
   "language": "python",
   "name": "python3"
  },
  "language_info": {
   "codemirror_mode": {
    "name": "ipython",
    "version": 3
   },
   "file_extension": ".py",
   "mimetype": "text/x-python",
   "name": "python",
   "nbconvert_exporter": "python",
   "pygments_lexer": "ipython3",
   "version": "3.11.3"
  }
 },
 "nbformat": 4,
 "nbformat_minor": 4
}
