{
 "cells": [
  {
   "cell_type": "markdown",
   "metadata": {},
   "source": [
    "# Basic statistics\n",
    "Python activities to complement *Measurements and their Uncertainties*, Chapter 2, \"Random errors in measurements.\"\n",
    "\n",
    "Author: J. S. Dodge, 2019©"
   ]
  },
  {
   "cell_type": "markdown",
   "metadata": {},
   "source": [
    "* [Preliminaries](#Preliminaries)\n",
    "* [Basic statistics with NumPy](#Basic-statistics-with-NumPy)\n",
    "    * [Location and width](#Location-and-width)\n",
    "        * [Programming notes 1](#Programming-notes-1)\n",
    "        * [Programming notes 2](#Programming-notes-2)\n",
    "    * [Exercise 1](#Exercise-1)\n",
    "* [Parent distributions](#Parent-distributions)\n",
    "* [The parent distribution for `rand`](#The-parent-distribution-for-rand)\n",
    "    * [Exercise 2](#Exercise-2)\n",
    "    * [Continuous distributions and the probability density function](#Continuous-distributions-and-the-probability-density-function)\n",
    "    * [The standard uniform distribution](#The-standard-uniform-distribution)\n",
    "    * [Exercise 3](#Exercise-3)\n",
    "    * [The general uniform distribution](#The-general-uniform-distribution)\n",
    "    * [Exercise 4](#Exercise-4)\n",
    "    * [Exercise 5](#Exercise-5)\n",
    "* [The normal distribution](#The-normal-distribution)\n",
    "    * [Aside on the Gaussian integral](#Aside-on-the-Gaussian-integral)\n",
    "    * [Sampling the standard normal distribution with `randn`](#Sampling-the-standard-normal-distribution-with-randn)\n",
    "    * [Sampling the general normal distribution](#Sampling-the-general-normal-distribution)\n",
    "    * [Exercise 6](#Exercise-6)\n",
    "* [Back to the mean and standard deviation](#Back-to-the-mean-and-standard-deviation)\n",
    "    * [Estimating the parent distribution from a sample](#Estimating-the-parent-distribution-from-a-sample)\n",
    "    * [Consistency in the limit of a large number of measurements](#Consistency-in-the-limit-of-a-large-number-of-measurements)\n",
    "    * [The standard error](#The-standard-error)\n",
    "        * [Programming notes 3](#Programming-notes-3)\n",
    "* [Reporting results](#Reporting-results)\n",
    "    * [Formatting numbers in Python](#Formatting-numbers-in-Python)\n",
    "* [Summary](#Summary)"
   ]
  },
  {
   "cell_type": "markdown",
   "metadata": {},
   "source": [
    "## Preliminaries\n",
    "Before proceeding with this notebook you should review the topics from the [previous notebook](1.0-Random-numbers.ipynb) and read Chapter 2, \"Random errors in measurements,\" of *Measurements and their Uncertainties*, with the following [goals](https://wiki.its.sfu.ca/departments/phys-students/index.php/Reading_goals_for_Hughes_and_Hase#Random_error_in_measurements) in mind.\n",
    "\n",
    "1. Be able to use the mean and standard deviation to characterize a statistical sample. Specifically, be able to:\n",
    "    1. Estimate the mean and standard deviation from a histogram;\n",
    "    2. Sketch a distribution with a given mean and standard deviation;\n",
    "    3. Calculate the mean for a set of measurements;\n",
    "    4. Calculate the standard deviation for a set of measurements.\n",
    "2. Know the functional form for a Gaussian distribution, be able to sketch it for a given mean and standard deviation, and be able to estimate the mean and standard deviation from the plot of a Gaussian distribution.\n",
    "3. Be able to discuss the relationships between a sample and its parent distribution.\n",
    "4. Be able to discuss the difference between the standard deviation and the standard deviation in the mean (aka the standard error), and be able to estimate both from a histogram of measurements.\n",
    "5. Be able to report uncertainties correctly for a given measurement.\n",
    "\n",
    "You already know how to import libraries and tell the Jupyter notebook server how to display plots from Matplotlib, so we will get this out of the way now in the following code cell."
   ]
  },
  {
   "cell_type": "code",
   "execution_count": 3,
   "metadata": {},
   "outputs": [],
   "source": [
    "import numpy as np\n",
    "from numpy import random\n",
    "import matplotlib.pyplot as plt\n",
    "\n",
    "%matplotlib inline"
   ]
  },
  {
   "cell_type": "markdown",
   "metadata": {},
   "source": [
    "## Basic statistics with NumPy"
   ]
  },
  {
   "cell_type": "markdown",
   "metadata": {},
   "source": [
    "###  Location and width\n",
    "NumPy includes several basic [statistics routines](https://numpy.org/devdocs/reference/routines.statistics.html) for characterizing a sample from a statistical distribution. The following code cell applies several of them to the results in Table 2.1 of *Measurements and their Uncertainties*. The most common ones, the mean and the standard deviation, provide estimates of the *location* and *width*, respectively, of the underlying distribution."
   ]
  },
  {
   "cell_type": "markdown",
   "metadata": {},
   "source": [
    "#### Programming notes 1\n",
    "In both the [`std`](https://numpy.org/devdocs/reference/generated/numpy.std.html) and the [`var`](https://numpy.org/devdocs/reference/generated/numpy.var.html) functions it is important to set the option `ddof=1` for consistency with Eq. (2.3) in *Measurements and their Uncertainties*. The documentation for both functions describes this option as follows.\n",
    "> “Delta Degrees of Freedom”: the divisor used in the calculation is `N - ddof`, where `N` represents the number of elements. By default `ddof` is zero.\n",
    "\n",
    "What this means is that the default usage of `std` with `ddof=0` returns\n",
    "\n",
    "$$\\sigma_N = \\sqrt{\\frac{1}{N}\\sum_{i=1}^N(x_i - \\bar{x})^2}\\quad\\text{(Default, ddof=0)},$$\n",
    "\n",
    "and with `ddof=1` it returns the expression given in Eq. (2.3),\n",
    "\n",
    "$$\\sigma_{N-1} = \\sqrt{\\frac{1}{N-1}\\sum_{i=1}^N(x_i - \\bar{x})^2}\\quad\\text{(Preferred, ddof=1)}.$$\n",
    "\n",
    "The options `ddof=0` and `ddof=1` are also called *uncorrected* and *corrected*, respectively, for reasons that we will discuss shortly.\n",
    "\n",
    "Both options are shown below, and you will see that the difference is not that large. Since we will normally only need to know the standard deviation to one significant figure anyway, the error we get by forgetting to set `ddof=1` is usually unimportant. The two options are quite different conceptually, however, so you should get in the habit of using `ddof=1` in this context.\n",
    "\n",
    "And just to be sure that `mean` and `std` are doing what we think they are doing, we use the NumPy [`sum`](https://numpy.org/devdocs/reference/generated/numpy.sum.html) function and the built-in Python [`len`](https://docs.python.org/3/library/functions.html#len) function to evaluate them explicitly. These expressions are long, so we use the backslash (`\\`) character to break them and continue (with indentation) on the next line."
   ]
  },
  {
   "cell_type": "code",
   "execution_count": 117,
   "metadata": {},
   "outputs": [
    {
     "name": "stdout",
     "output_type": "stream",
     "text": [
      "Mean:  9.93\n",
      "Mean (explicit):  9.93\n",
      "Median:  9.9\n",
      "\n",
      "Standard deviation (uncorrected):  0.3976179070414207\n",
      "Standard deviation (uncorrected, explicit):  0.3976179070414207\n",
      "Variance (uncorrected):  0.15809999999999988\n",
      "\n",
      "Standard deviation (corrected):  0.419126074906664\n",
      "Standard deviation (corrected, explicit):  0.419126074906664\n",
      "Variance (corrected):  0.17566666666666653\n",
      "\n",
      "Minimum:  9.3\n",
      "Maximum:  10.5\n",
      "Range (peak-to-peak):  1.1999999999999993\n"
     ]
    }
   ],
   "source": [
    "period = [10.0, 9.4, 9.8, 9.6, 10.5, 9.8, 10.3, 10.2, 10.4, 9.3]\n",
    "\n",
    "print(\"Mean: \", np.mean(period))\n",
    "print(\"Mean (explicit): \", np.sum(period)/len(period))\n",
    "print(\"Median: \", np.median(period))\n",
    "print()\n",
    "\n",
    "print(\"Standard deviation (uncorrected): \", np.std(period))\n",
    "print(\"Standard deviation (uncorrected, explicit): \", \\\n",
    "      np.sqrt(np.sum((period - np.mean(period))**2)/len(period)))\n",
    "print(\"Variance (uncorrected): \", np.var(period))\n",
    "print()\n",
    "\n",
    "print(\"Standard deviation (corrected): \", np.std(period, ddof=1))\n",
    "print(\"Standard deviation (corrected, explicit): \", \\\n",
    "      np.sqrt(np.sum((period - np.mean(period))**2)/(len(period)-1)))\n",
    "print(\"Variance (corrected): \", np.var(period, ddof=1))\n",
    "print()\n",
    "\n",
    "print(\"Minimum: \", np.amin(period))\n",
    "print(\"Maximum: \", np.amax(period))\n",
    "print(\"Range (peak-to-peak): \", np.ptp(period))"
   ]
  },
  {
   "cell_type": "markdown",
   "metadata": {},
   "source": [
    "#### Programming notes 2\n",
    "The last result in the above cell looks worrisome: shouldn't we get 10.5 – 9.3 = 1.2? But it turns out that this is [just what we expect](https://docs.python.org/3/tutorial/floatingpoint.html), once we recognize that the computer uses a  binary representation of floating-point numbers that has finite precision. To see this, we calculate 10.5 – 9.3 – 1.2 in a few different ways."
   ]
  },
  {
   "cell_type": "code",
   "execution_count": 32,
   "metadata": {},
   "outputs": [
    {
     "name": "stdout",
     "output_type": "stream",
     "text": [
      "-6.661338147750939e-16\n",
      "-6.661338147750939e-16\n",
      "0.0\n"
     ]
    }
   ],
   "source": [
    "print(10.5 - 9.3 - 1.2)\n",
    "print((10.5 - 9.3) - 1.2)\n",
    "print(10.5 - (9.3 + 1.2))"
   ]
  },
  {
   "cell_type": "markdown",
   "metadata": {},
   "source": [
    "Most computers have 53 bits of floating-point precision, so the best we can expect for any number is a relative precision of 2<sup>-53</sup>. In this calculation,  10.5 has an exact binary representation, but 9.3 and 1.2 are both infinitely repeating fractions that must be truncated. These errors cancel in the last of the three calculations, but not in the first two (which are equivalent, given Python's order-of-operations rules). The cell below shows that the magnitude of overall truncation error is exactly $6\\times 2^{-53}$."
   ]
  },
  {
   "cell_type": "code",
   "execution_count": 52,
   "metadata": {},
   "outputs": [
    {
     "name": "stdout",
     "output_type": "stream",
     "text": [
      "1.1102230246251565e-16\n",
      "0.0\n"
     ]
    }
   ],
   "source": [
    "print(2**(-53))\n",
    "print(10.5 - 9.3 - 1.2 + 6*2**(-53))"
   ]
  },
  {
   "cell_type": "markdown",
   "metadata": {},
   "source": [
    "Very few experiments ever approach this level of precision, of course. The only reason this came up in our simple  calculation is because numbers are expressed by default with excessive precision—later we will see how to format numerical expressions to the correct precision in Python."
   ]
  },
  {
   "cell_type": "markdown",
   "metadata": {},
   "source": [
    "### Exercise 1\n",
    "Problem (2.1) of *Measurements and their uncertainties* gives a set of volume measurements, all in milliliters: 25.8, 26.2,  26.0, 26.5, 25.8, 26.1, 25.8, and 26.3. Use NumPy to calculate the mean, the standard deviation $\\sigma_{N-1}$, and the total range of the data."
   ]
  },
  {
   "cell_type": "code",
   "execution_count": 57,
   "metadata": {},
   "outputs": [],
   "source": [
    "# Use this cell for your response, adding cells if necessary."
   ]
  },
  {
   "cell_type": "markdown",
   "metadata": {},
   "source": [
    "## Parent distributions\n",
    "\n",
    "Section 2.6 of *Measurements and their uncertainties* introduces the concepts of a *sample* and a *parent distribution*, fundamental concepts in statistics that allows us to connect *what we actually measure* (the sample) to a *mathematical model for the measurement* (the parent distribution). A canonical example that illustrates this difference is a coin flip. Before we flip the coin, we *expect* it to come up *Heads* or *Tails* with equal probability: our parent distribution is then\n",
    "\n",
    "$$ P(x) = \\begin{cases}\n",
    "  \\frac{1}{2} & \\text{for}\\ x =\\ \\text{Heads,} \\\\[1ex]\n",
    "    \\frac{1}{2} & \\text{for}\\ x =\\ \\text{Tails,}\n",
    "  \\end{cases} $$\n",
    "  \n",
    "where $P(x)$ denotes the probability of obtaining a result $x$. When we actually flip a coin, however, the result is always *either* *Heads* or *Tails*, and it no longer makes sense to describe this probabilistically. The result is a *sample* that has been *drawn* from the parent distribution.\n",
    "\n",
    "Now that we have defined these two concepts, we can identify some of the most important goals of statistics:\n",
    "1. Determine the properties of a parent distribution from knowledge of a sample drawn from it,\n",
    "2. Predict the properties of a sample from knowledge of the parent distribution, and\n",
    "3. Determine the probability that a given sample was drawn from a given parent distribution.\n",
    "\n",
    "In the context of experimental physics, this translates into\n",
    "1. Develop a mathematical model to describe a set of experimental measurements,\n",
    "2. Predict the results of an experiment using a mathematical model, and\n",
    "3. Assess the agreement between a mathematical model and an experiment.\n",
    "\n",
    "It is not an exaggeration to say that most of science can be reduced to these three activities."
   ]
  },
  {
   "cell_type": "markdown",
   "metadata": {},
   "source": [
    "## The parent distribution for `rand`\n",
    "Let's start with the first item: determining the parent distribution of `rand` from the samples that it generates. This is a bit artificial since we know that `rand` was *designed* with a particular parent distribution in mind, but it serves as an example of how we would proceed if the underlying parent distribution were unknown."
   ]
  },
  {
   "cell_type": "markdown",
   "metadata": {},
   "source": [
    "### Exercise 2\n",
    "Run the code cell below to produce a histogram of `n = 10` samples from `rand`. Next, duplicate the entire cell, increase `n` by a factor of 10, and run it again. Repeat this procedure until you are satisfied that the sample histogram accurately reflects the underlying parent distribution. (To duplicate the cell you may use the Jupyter menu selections *`Edit > Copy Cells`* and *`Edit > Paste Cells Below`*, or you can just select the *`+`* item from the menu bar to create a new cell, then copy and paste the contents from the one above it.)"
   ]
  },
  {
   "cell_type": "code",
   "execution_count": 91,
   "metadata": {
    "scrolled": false
   },
   "outputs": [
    {
     "data": {
      "image/png": "[encoded data removed]",
      "text/plain": [
       "<Figure size 432x288 with 1 Axes>"
      ]
     },
     "metadata": {
      "needs_background": "light"
     },
     "output_type": "display_data"
    }
   ],
   "source": [
    "n = 10\n",
    "random.seed(0)\n",
    "x_rand = random.rand(n)\n",
    "\n",
    "plt.hist(x_rand,bins=20,range=(0.0,1.0))\n",
    "plt.xlabel('x')\n",
    "plt.ylabel('Occurrence');"
   ]
  },
  {
   "cell_type": "markdown",
   "metadata": {},
   "source": [
    "###  Continuous distributions and the probability density function\n",
    "These histograms reveal an important difference between `rand` and our earlier example of a coin flip. With a coin flip we have only two possible outcomes, *Heads* or *Tails*, so when we specify the parent distribution we can just assign a discrete probability to each one. And while this is also true of the numbers returned by `rand`, since the number of floating-point numbers between 0.0 and 1.0 is large but [ultimately finite](https://lemire.me/blog/2017/02/28/how-many-floating-point-numbers-are-in-the-interval-01/), it is more convenient to consider them as elements of the continuous, *infinite* set $\\{x|x\\in\\mathbb{R}, 0\\le x \\le 1\\}$, where $\\mathbb{R}$ represents the set of real numbers. In this case, the probability of drawing any *specific* number between 0 and 1 is infinitesimal, so the approach that we used with the coin flip is unsuitable. Instead of assigning probabilities to specific *values* of $x$, then, we assign probabilities to specific *intervals*. We define the *probability density function* (PDF, also known as the probability distribution function), $P_\\text{DF}(x)$, through the integral relationship\n",
    "\n",
    "$$P(x_1 \\le x \\le x_2) = \\int_{x_1}^{x_2}\\text{d}x\\,P_\\text{DF}(x),$$\n",
    "\n",
    "for all $x_1$ and $x_2$ (see also Sec. 3.1 of *Measurements and their uncertainties*)."
   ]
  },
  {
   "cell_type": "markdown",
   "metadata": {},
   "source": [
    "### The standard uniform distribution\n",
    "We can now describe the parent distribution for `rand` as\n",
    "\n",
    "$$P_\\text{DF}(x) =\\begin{cases}\n",
    "  1 & \\text{for}\\ 0 \\le x \\le 1, \\\\[1ex]\n",
    "  0 & \\text{otherwise,}\n",
    "  \\end{cases}$$\n",
    "  \n",
    "which is known as the *standard uniform distribution.*"
   ]
  },
  {
   "cell_type": "markdown",
   "metadata": {},
   "source": [
    "### Exercise 3\n",
    "Use the definition of $P_\\text{DF}(x)$ for the standard uniform distribution to compute the following probabilities and record them in the following Markdown cell.\n",
    "1. $P(0 \\le x \\le 0.5)$\n",
    "2. $P(0.2 \\le x \\le 0.25)$\n",
    "3. $P(0 \\le x \\le 1)$\n",
    "4. $P(-1 \\le x \\le 0)$\n",
    "5. $P(0.75 \\le x \\le 2)$\n",
    "6. $P(-\\infty \\le x \\le \\infty)$"
   ]
  },
  {
   "cell_type": "markdown",
   "metadata": {},
   "source": [
    "**Select this cell and enter your response to Exercise 3 here.**\n",
    "1. \n",
    "2. \n",
    "3. \n",
    "4. \n",
    "5. \n",
    "6. "
   ]
  },
  {
   "cell_type": "markdown",
   "metadata": {},
   "source": [
    "### The general uniform distribution\n",
    "The *general uniform distribution* has a PDF that is constant over the interval $[a,b]$ and zero elsewhere:\n",
    "\n",
    "$$\\mathcal{U}(x;a,b) = P_\\text{DF}(x;a,b) =\\begin{cases}\n",
    "  \\frac{1}{b - a} & \\text{for}\\ a \\le x \\le b, \\\\[8pt]\n",
    "  0 & \\text{otherwise,}\n",
    "  \\end{cases}$$\n",
    "  \n",
    "In this notation, the standard uniform distribution may be written as $\\mathcal{U}(x;0,1)$, or $X\\sim\\mathcal{U}(0,1)$, where the upper-case $X$ refers to the set of all $x$ and the tilde signifies \"is distributed as.\""
   ]
  },
  {
   "cell_type": "markdown",
   "metadata": {},
   "source": [
    "### Exercise 4\n",
    "Using the following Markdown cell, show that $\\int_{-\\infty}^\\infty \\text{d}x\\, \\mathcal{U}(x;a,b) = 1$ for arbitrary $a<b$."
   ]
  },
  {
   "cell_type": "markdown",
   "metadata": {},
   "source": [
    "**Select this cell and enter your response to Exercise 4 here.** \n",
    "\n",
    "To help you get started, the expression you have been asked to prove is written below using $\\LaTeX$ [expressions](https://www.overleaf.com/learn/latex/Mathematical_expressions).\n",
    "\n",
    "$$\\int_{-\\infty}^\\infty \\text{d}x\\, \\mathcal{U}(x;a,b) = 1.$$"
   ]
  },
  {
   "cell_type": "markdown",
   "metadata": {},
   "source": [
    "### Exercise  5\n",
    "In the following code cell, initialize the RNG with zero and construct a histogram of 1000 samples from a general uniform distribution over the interval $[0.9, 1.1]$."
   ]
  },
  {
   "cell_type": "code",
   "execution_count": 57,
   "metadata": {},
   "outputs": [],
   "source": [
    "# Use this cell for your response, adding cells if necessary."
   ]
  },
  {
   "cell_type": "markdown",
   "metadata": {},
   "source": [
    "## The normal distribution\n",
    "NumPy offers random number generators that produce numbers with many other distributions, but the most important of these is [`randn`](https://www.numpy.org/doc/1.16/reference/generated/numpy.random.randn.html), which produces samples from the *standard normal distribution*,\n",
    "\n",
    "$$P_\\text{DF}(x) = \\frac{1}{\\sqrt{2\\pi}}\\exp\\left(-\\frac{x^2}{2}\\right).$$\n",
    "\n",
    "This functional form is also known as a \"Gaussian,\" after the mathematician [Carl Friedrich Gauss](https://en.wikipedia.org/wiki/Carl_Friedrich_Gauss), who identified its importance in probability theory (see [here](https://en.wikipedia.org/wiki/Normal_distribution#History) for a brief history). It is also known informally as \"the  bell curve\" because of its shape, shown in the following code cell."
   ]
  },
  {
   "cell_type": "code",
   "execution_count": 96,
   "metadata": {},
   "outputs": [
    {
     "data": {
      "image/png": "[encoded data removed]",
      "text/plain": [
       "<Figure size 432x288 with 1 Axes>"
      ]
     },
     "metadata": {
      "needs_background": "light"
     },
     "output_type": "display_data"
    }
   ],
   "source": [
    "x = np.arange(-5.0,5.05,0.1)\n",
    "g = np.exp(-x**2/2)/np.sqrt(2*np.pi)\n",
    "\n",
    "plt.plot(x,g)\n",
    "plt.xlabel('x')\n",
    "plt.ylabel('g');"
   ]
  },
  {
   "cell_type": "markdown",
   "metadata": {},
   "source": [
    "### Aside on the Gaussian integral\n",
    "You might wonder about the factor of $\\sqrt{2\\pi}$ in the above definition—it is there to ensure that the probability that $-\\infty < x < \\infty$ is equal to one:\n",
    "\n",
    "$$ \\int_{-\\infty}^{\\infty}\\text{d}x\\, P_\\text{DF}(x) = \\frac{1}{\\sqrt{2\\pi}}\\int_{-\\infty}^{\\infty}\\text{d}x\\,\\exp\\left(-\\frac{x^2}{2}\\right) = 1.$$\n",
    "\n",
    "Solving this integral requires a trick that you may not have learned in your introductory calculus class, so we'll go over it here. For simplicity, we will strip out the various numerical factors and solve\n",
    "\n",
    "$$ I = \\int_{-\\infty}^{\\infty}\\text{d}x\\, e^{-x^2}, $$\n",
    "\n",
    "then put the numerical factors back in at the end. The trick is to recognize the similarity between the *one-dimensional* integral $I$ and the *two-dimensional integral*\n",
    "\n",
    "$$ K = \\int_{0}^{\\infty}\\text{d}r\\int_{0}^{2\\pi}r\\,\\text{d}\\theta\\,e^{-r^2} = 2\\pi\\int_{0}^{\\infty}\\text{d}r\\,re^{-r^2} = \\pi\\int_{0}^{\\infty}\\text{d}u\\,e^{-u} = \\pi, $$\n",
    "\n",
    "where the factor of $r$ in the two-dimensional area element $r\\,\\text{d}\\theta\\,\\text{d}r$ allows us to solve the integral with a straightforward change of variables, $u = r^2$, $\\text{d}u = 2r\\,\\text{d}r.$ To get $I$ into the form $K$, we *square it*, replace the dummy variable $x$ with $y$ in one of the integrals, rearrange the order of operations, and change the *two-dimensional* infinitesimal area element from $\\text{d}x\\,\\text{d}y$ to $r\\,\\text{d}\\theta\\,\\text{d}r$:\n",
    "\n",
    "\\begin{align}\n",
    "I^2 &= \\left[\\int_{-\\infty}^{\\infty}\\text{d}x\\, e^{-x^2}\\right]\\left[\\int_{-\\infty}^{\\infty}\\text{d}x\\, e^{-x^2}\\right]\\\\\n",
    "&= \\left[\\int_{-\\infty}^{\\infty}\\text{d}x\\, e^{-x^2}\\right]\\left[\\int_{-\\infty}^{\\infty}\\text{d}y\\, e^{-y^2}\\right]\\\\\n",
    "&= \\int_{-\\infty}^{\\infty}\\text{d}x\\int_{-\\infty}^{\\infty}\\text{d}y\\,e^{-x^2}e^{-y^2}\\\\\n",
    "&= \\int_{0}^{\\infty}\\text{d}r\\int_{0}^{2\\pi}r\\,\\text{d}\\theta\\,e^{-r^2}\\\\\n",
    "&= K\\\\\n",
    "&= \\pi.\n",
    "\\end{align}\n",
    "\n",
    "Consequently,\n",
    "\n",
    "$$ I = \\int_{-\\infty}^{\\infty}\\text{d}x\\, e^{-x^2} = \\sqrt{\\pi},$$\n",
    "\n",
    "and\n",
    "\n",
    "$$ \\int_{-\\infty}^{\\infty}\\text{d}x\\, P_\\text{DF}(x) = \\frac{1}{\\sqrt{2\\pi}}\\int_{-\\infty}^{\\infty}\\text{d}x\\,\\exp\\left(-\\frac{x^2}{2}\\right) = \\frac{1}{\\sqrt{\\pi}}\\int_{-\\infty}^{\\infty}\\text{d}u\\,\\exp(-u^2) = 1,$$\n",
    "\n",
    "where we use the change of variables $u = x/\\sqrt{2}, \\text{d}u = \\text{d}x/\\sqrt{2}$."
   ]
  },
  {
   "cell_type": "markdown",
   "metadata": {},
   "source": [
    "### Sampling the standard normal distribution with `randn`\n",
    "The cell below uses `randn` to create an array of 1000 normally distributed random numbers and plot them as a histogram."
   ]
  },
  {
   "cell_type": "code",
   "execution_count": 94,
   "metadata": {},
   "outputs": [
    {
     "data": {
      "image/png": "[encoded data removed]",
      "text/plain": [
       "<Figure size 432x288 with 1 Axes>"
      ]
     },
     "metadata": {
      "needs_background": "light"
     },
     "output_type": "display_data"
    }
   ],
   "source": [
    "n = 1000\n",
    "random.seed(0)\n",
    "x_randn = random.randn(n)\n",
    "\n",
    "plt.hist(x_randn,bins=20,range=(-4.0,4.0))\n",
    "plt.xlabel('x')\n",
    "plt.ylabel('Occurrence');"
   ]
  },
  {
   "cell_type": "markdown",
   "metadata": {},
   "source": [
    "### Sampling the general normal distribution\n",
    "As with the uniform distribution, we can define a *general normal distribution*,\n",
    "\n",
    "$$\\mathcal{N}(x;\\mu, \\sigma^2) = P_\\text{DF}(x;\\mu, \\sigma^2) = \\frac{1}{\\sqrt{2\\pi\\sigma^2}}\\exp\\left[-\\frac{(x-\\mu)^2}{2\\sigma^2}\\right],$$\n",
    "\n",
    "which has mean $\\mu$ and standard deviation $\\sigma$. In this notation the standard normal distribution is written as $\\mathcal{N}(x;0,1)$, or $X\\sim\\mathcal{N}(0,1)$. The general normal distribution is related to the standard normal distribution by the substitution\n",
    "\n",
    "$$ x\\rightarrow \\frac{x-\\mu}{\\sigma},$$\n",
    "\n",
    "which shows that $\\mu$ controls the *location* of the distribution and $\\sigma$ controls its *width*."
   ]
  },
  {
   "cell_type": "markdown",
   "metadata": {},
   "source": [
    "### Exercise  6\n",
    "In the following code cell, initialize the RNG with zero and construct a histogram of 1000 samples from a general normal distribution with $\\mu = 10, \\sigma = 0.5$. Use 20 bins and choose a range that positions the distribution well in the figure."
   ]
  },
  {
   "cell_type": "code",
   "execution_count": 57,
   "metadata": {},
   "outputs": [],
   "source": [
    "# Use this cell for your response, adding cells if necessary."
   ]
  },
  {
   "cell_type": "markdown",
   "metadata": {},
   "source": [
    "## Back to the mean and standard deviation\n",
    "Earlier we used `mean` and `std` to characterize the [location and width](#Location-and-width) of a *sample*. Now we are in a position to return to these calculations and relate them to the mean and standard deviation of the *parent distribution.* We reproduce the earlier calculations with `mean` and `std` in the code cell below. "
   ]
  },
  {
   "cell_type": "code",
   "execution_count": 98,
   "metadata": {},
   "outputs": [
    {
     "name": "stdout",
     "output_type": "stream",
     "text": [
      "Mean:  9.93\n",
      "Standard deviation (corrected):  0.419126074906664\n"
     ]
    }
   ],
   "source": [
    "period = [10.0, 9.4, 9.8, 9.6, 10.5, 9.8, 10.3, 10.2, 10.4, 9.3]\n",
    "print(\"Mean: \", np.mean(period))\n",
    "print(\"Standard deviation (corrected): \", np.std(period, ddof=1))"
   ]
  },
  {
   "cell_type": "markdown",
   "metadata": {},
   "source": [
    "### Estimating the parent distribution from a sample\n",
    "The standard interpretation of these summary statistics is that the measurements are *normally distributed*, and $\\bar{x} = 9.93~\\text{s}$ and $\\sigma_{N-1} = 0.42~\\text{s}$ are our *estimates* of the mean and standard deviation, respectively. (We are ignoring, for the moment, the uncertainty in each of these quantities, which we will get to at the end of the notebook. For now we just express them both to two decimal places.) We can represent this graphically by plotting a histogram of the measurements and laying the estimated parent distribution on top of it."
   ]
  },
  {
   "cell_type": "code",
   "execution_count": 118,
   "metadata": {
    "scrolled": true
   },
   "outputs": [
    {
     "data": {
      "image/png": "[encoded data removed]",
      "text/plain": [
       "<Figure size 432x288 with 1 Axes>"
      ]
     },
     "metadata": {
      "needs_background": "light"
     },
     "output_type": "display_data"
    }
   ],
   "source": [
    "# Set the bins to be 0.1 wide\n",
    "bin_width = 0.1\n",
    "edges = np.arange(np.amin(period), np.amax(period) + bin_width, bin_width)\n",
    "\n",
    "# Plot the histogram as a probability density\n",
    "plt.hist(period,bins = edges,density=True);\n",
    "\n",
    "# Set the mean and standard deviation\n",
    "mu = 9.93\n",
    "sigma = 0.42\n",
    "\n",
    "# Calculate the distribution at a dt = 0.01 spacing\n",
    "dt = 0.01\n",
    "tmin = mu-3*sigma\n",
    "tmax = mu+3*sigma\n",
    "t_dist = np.arange(tmin, tmax + dt, dt)\n",
    "pdf = np.exp(-(t_dist - mu)**2/(2*sigma**2))/np.sqrt(2*np.pi*sigma**2)\n",
    "\n",
    "# Plot the density and label axes\n",
    "plt.plot(t_dist, pdf)\n",
    "plt.xlabel('Period (s)')\n",
    "plt.ylabel('Probability density (1/s)');"
   ]
  },
  {
   "cell_type": "markdown",
   "metadata": {},
   "source": [
    "### Consistency in the limit of a large number of measurements\n",
    "For consistency, we should expect that as the number of measurements $N$ increases, $\\lim_{N\\rightarrow\\infty}\\bar{x}_N = \\mu$ (including the subscript $N$ to make its role explicit) and $\\lim_{N\\rightarrow\\infty}\\sigma_{N-1} = \\sigma$, since the sample distribution should converge to the parent distribution in this limit.\n",
    "\n",
    "Starting with $\\bar{x}_N$, we wish to evaluate\n",
    "\n",
    "$$ \\lim_{N\\rightarrow\\infty}\\bar{x}_N = \\lim_{N\\rightarrow\\infty}\\frac{1}{N}\\sum_{i=1}^{N}x_i. $$\n",
    "\n",
    "To accomplish this, we note that in the $N\\rightarrow\\infty$ limit we expect $x_i$ to take on *all possible values* for $x$, with a frequency given by the probability density $P_\\text{DF}(x)$. This allows us to replace the sum over random $x_i$ (in this limit) with an integral over the domain of $P_\\text{DF}(x)$ that we can readily evaluate.\n",
    "\n",
    "\\begin{align}\n",
    "\\lim_{N\\rightarrow\\infty}\\frac{1}{N}\\sum_{i=1}^{N}x_i\n",
    "&= \\int_{-\\infty}^{\\infty}\\text{d}x\\,x P_\\text{DF}(x)\\\\\n",
    "&= \\frac{1}{\\sqrt{2\\pi\\sigma^2}}\\int_{-\\infty}^{\\infty}\\text{d}x\\,x\\exp\\left[-\\frac{(x-\\mu)^2}{2\\sigma^2}\\right]\\\\\n",
    "&= \\frac{1}{\\sqrt{2\\pi\\sigma^2}}\\int_{-\\infty}^{\\infty}\\text{d}u\\,u\\exp\\left(-\\frac{u^2}{2\\sigma^2}\\right) + \\frac{1}{\\sqrt{2\\pi\\sigma^2}}\\int_{-\\infty}^{\\infty}\\text{d}x\\,\\mu\\exp\\left[-\\frac{(x-\\mu)^2}{2\\sigma^2}\\right]\\quad(\\text{with}\\ u = x - \\mu)\\\\\n",
    "&= \\frac{\\mu}{\\sqrt{2\\pi\\sigma^2}}\\int_{-\\infty}^{\\infty}\\text{d}x\\,\\exp\\left[-\\frac{(x-\\mu)^2}{2\\sigma^2}\\right]\\\\\n",
    "&= \\mu.\n",
    "\\end{align}\n",
    "\n",
    "As expected, we find that the sample mean converges to the mean of the parent distribution as the number of samples increases.\n",
    "\n",
    "We call the integral $\\int_{-\\infty}^{\\infty}\\text{d}x\\,x P_\\text{DF}(x)$ the *expectation* of $x$ and denote it by $\\text{E}[X]$, where again the upper-case $X$ refers to the set of all values that $x$ can have.\n",
    "\n",
    "Next we check that $\\lim_{N\\rightarrow\\infty}\\sigma_{N-1} = \\sigma$, which we can express equivalently as $\\text{E}[(X - \\text{E}[X])^2] = \\text{E}[(X - \\mu)^2] = \\sigma^2$ (since $\\text{E}[X] = \\mu$).\n",
    "\n",
    "\\begin{align}\n",
    "\\text{E}[(X - \\mu)^2] &= \\int_{-\\infty}^{\\infty}\\text{d}x\\,(x-\\mu)^2 P_\\text{DF}(x)\\\\\n",
    "&= \\frac{1}{\\sqrt{2\\pi\\sigma^2}}\\int_{-\\infty}^{\\infty}\\text{d}x\\,(x-\\mu)^2 \\exp\\left[-\\frac{(x-\\mu)^2}{2\\sigma^2}\\right]\\\\\n",
    "&= \\frac{\\sigma^2}{\\sqrt{2\\pi}}\\int_{-\\infty}^{\\infty}\\text{d}u\\,u^2 e^{-u^2/2}\\quad[\\text{with}\\ u = (x - \\mu)/\\sigma]\\\\\n",
    "&= \\frac{\\sigma^2}{\\sqrt{2\\pi}}\\left\\{\\left[u(-e^{-u^2/2}\\right|_{-\\infty}^{\\infty} + \\int_{-\\infty}^{\\infty}\\text{d}u\\,e^{-u^2/2}\\right\\}\\quad(\\text{integrating by parts})\\\\\n",
    "&= \\sigma^2.\n",
    "\\end{align}\n",
    "\n",
    "These expectation values justify our use of $\\bar{x}_N$ as an estimate for $\\mu$ and $\\sigma_{N-1}$ for $\\sigma$."
   ]
  },
  {
   "cell_type": "markdown",
   "metadata": {},
   "source": [
    "### The standard error\n",
    "We calculate $\\bar{x}$ and $\\sigma_{N-1}$ from the data, so while the true (but unknown) values of $\\mu$ and $\\sigma$ in $\\mathcal{N}(\\mu,\\sigma^2)$ are understood to be *fixed*, our estimates of them will be *variable*, since they will depend on a particular set of measurements. This variability represents a fundamental source of uncertainty in both estimates, as discussed in Sec. 2.7 of *Measurements and their uncertainties.*\n",
    "\n",
    "Let's illustrate this by simulating a new set of measurements, assuming $\\mu = 9.93$ and $\\sigma = 0.42$."
   ]
  },
  {
   "cell_type": "code",
   "execution_count": 123,
   "metadata": {},
   "outputs": [
    {
     "name": "stdout",
     "output_type": "stream",
     "text": [
      "Mean:  10.239969731706111\n",
      "Standard deviation (corrected):  0.42814421787296836\n"
     ]
    }
   ],
   "source": [
    "# Set the mean and standard deviation\n",
    "mu = 9.93\n",
    "sigma = 0.42\n",
    "\n",
    "# Seed the RNG and simulate N_meas = 10 measurements\n",
    "N_meas = 10\n",
    "random.seed(0)\n",
    "period_sim = mu + sigma*random.randn(N_meas)\n",
    "\n",
    "# Return the mean and standard deviation\n",
    "print(\"Mean: \", np.mean(period_sim))\n",
    "print(\"Standard deviation (corrected): \", np.std(period_sim, ddof=1))"
   ]
  },
  {
   "cell_type": "markdown",
   "metadata": {},
   "source": [
    "Now we get an estimate for $\\mu$ of 10.24 s instead of 9.93 s, and an estimate for $\\sigma$ is 0.43 s instead of 0.42 s. Change the seed and rerun the cell to see how much these two quantities vary.\n",
    "\n",
    "In the next code cell we simulate 1000 repetitions of this experiment, each time taking the average $\\bar{x}_{N=10}$ of 10 samples from the parent distribution $\\mathcal{N}[\\mu=9.93\\ \\text{s},\\sigma^2 = (0.43\\ \\text{s})^2]$ that we have estimated from the values in Table 2.1 of *Measurements and their uncertainties*. The resulting histogram shows the distribution for $\\bar{x}_{N=10}$. The *standard error*, or *standard deviation of the mean*,\n",
    "\n",
    "$$ \\alpha = \\frac{\\sigma_{N-1}}{\\sqrt{N}}, $$\n",
    "\n",
    "provides an estimate of its width, which we can see by superposing a plot of $\\mathcal{N}(x; \\bar{x}, \\alpha^2)$ on top of the simulation histogram."
   ]
  },
  {
   "cell_type": "markdown",
   "metadata": {},
   "source": [
    "#### Programming notes 3\n",
    "One way to run the simulation would be to put the original simulation in a `for` loop with 1000 iterations and store each result. We take a different approach here that does not require a loop. We use `randn` to generate a `10 x 1000` *array* of random numbers, all normally distributed with `mu = 9.93` and `sigma = 0.42`, then take the mean along the first dimension by setting the option `axis=0`. This gives us a one-dimensional array with 1000 elements, `period_mean`, each of which represents one set of 10 measurements."
   ]
  },
  {
   "cell_type": "code",
   "execution_count": 149,
   "metadata": {},
   "outputs": [
    {
     "name": "stdout",
     "output_type": "stream",
     "text": [
      "Standard deviation of the mean:  0.1300344841454658\n",
      "Standard error of original measurement:  0.13281566172707193\n"
     ]
    },
    {
     "data": {
      "image/png": "[encoded data removed]",
      "text/plain": [
       "<Figure size 432x288 with 1 Axes>"
      ]
     },
     "metadata": {
      "needs_background": "light"
     },
     "output_type": "display_data"
    }
   ],
   "source": [
    "# Set the mean and standard deviation to the\n",
    "# values estimated from Table 2.1\n",
    "mu = 9.93\n",
    "sigma = 0.42\n",
    "\n",
    "# Seed the RNG and simulate N_rep = 1000 repetitions\n",
    "# of N_meas = 10 measurements\n",
    "N_meas = 10\n",
    "N_rep = 1000\n",
    "random.seed(0)\n",
    "period_sim_array = mu + sigma*random.randn(N_meas, N_rep)\n",
    "\n",
    "# Compute the mean along the first dimension\n",
    "period_mean = np.mean(period_sim_array, axis=0)\n",
    "\n",
    "# Compute the standard deviation of the mean\n",
    "std_mean = np.std(period_mean, ddof=1)\n",
    "\n",
    "# Compute the standard error from the values in Table 2.1\n",
    "alpha = sigma/np.sqrt(10)\n",
    "\n",
    "# Set the bins to be 0.05 wide\n",
    "bin_width = 0.05\n",
    "edges = np.arange(np.amin(period_mean), np.amax(period_mean) + bin_width, bin_width)\n",
    "\n",
    "# Make histogram\n",
    "plt.hist(period_mean, bins=edges, density=True)\n",
    "plt.xlabel('Period (s)')\n",
    "plt.ylabel('Probability density (1/s)');\n",
    "\n",
    "# Calculate the PDF N(xbar,alpha^2) at a dt = 0.01 spacing\n",
    "# and superpose on the histogram\n",
    "dt = 0.01\n",
    "tbar_min = mu-3*alpha\n",
    "tbar_max = mu+3*alpha\n",
    "t_bar_dist = np.arange(tbar_min, tbar_max + dt, dt)\n",
    "pdf_tbar = np.exp(-(t_bar_dist - mu)**2/(2*alpha**2))/np.sqrt(2*np.pi*alpha**2)\n",
    "\n",
    "plt.plot(t_bar_dist, pdf_tbar)\n",
    "\n",
    "# Print the standard deviation of the N_rep = 1000 simulated measurements of\n",
    "# the mean and the standard error computed from the original measurement of\n",
    "# N_meas = 10 periods\n",
    "print('Standard deviation of the mean: ', std_mean)\n",
    "print('Standard error of original measurement: ', alpha)"
   ]
  },
  {
   "cell_type": "markdown",
   "metadata": {},
   "source": [
    "## Reporting results"
   ]
  },
  {
   "cell_type": "markdown",
   "metadata": {},
   "source": [
    "### Formatting numbers in Python"
   ]
  },
  {
   "cell_type": "markdown",
   "metadata": {},
   "source": [
    "## Summary\n",
    "Here is a list of what you should be able to do after completing this notebook.\n",
    "* Compute basic statistics on a set of numbers using NumPy, including `mean`, `median`, `std`, `var`, `amin`, `amax`, and `ptp`.\n",
    "* Recognize the significance of the `ddof` option in `std` and `var` and use it appropriately.\n",
    "* Use `sum` and `len` from NumPy and the Python standard library, respectively, to compute the standard deviation and variance of a set of numbers without using `std` or `var`.\n",
    "* Describe the limitations of floating-point calculations and be able to recognize them when you encounter them.\n",
    "* Express the parent distributions for `rand` and `randn` in mathematical notation.\n",
    "* Use `rand` and `randn` to generate samples from general uniform and general normal distributions, respectively.\n",
    "* Compute the standard error for a set of measurements.\n",
    "* Format numerical expressions in Python."
   ]
  }
 ],
 "metadata": {
  "kernelspec": {
   "display_name": "Python 3",
   "language": "python",
   "name": "python3"
  },
  "language_info": {
   "codemirror_mode": {
    "name": "ipython",
    "version": 3
   },
   "file_extension": ".py",
   "mimetype": "text/x-python",
   "name": "python",
   "nbconvert_exporter": "python",
   "pygments_lexer": "ipython3",
   "version": "3.6.9"
  }
 },
 "nbformat": 4,
 "nbformat_minor": 2
}
