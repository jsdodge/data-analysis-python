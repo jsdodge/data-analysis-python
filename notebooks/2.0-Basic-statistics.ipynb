{
 "cells": [
  {
   "cell_type": "markdown",
   "metadata": {},
   "source": [
    "# Basic statistics\n",
    "Python activities to complement *Measurements and their Uncertainties*, Chapter 2, \"Random errors in measurements.\"\n",
    "\n",
    "Author: J. S. Dodge, 2019©"
   ]
  },
  {
   "cell_type": "markdown",
   "metadata": {},
   "source": [
    "* [Preliminaries](#Preliminaries)\n",
    "* [Basic statistics with NumPy](#Basic-statistics-with-NumPy)\n",
    "    * [Location and width](#Location-and-width)\n",
    "        * [Programming notes 1](#Programming-notes-1)\n",
    "        * [Programming notes 2](#Programming-notes-2)\n",
    "    * [Exercise 1](#Exercise-1)\n",
    "* [Parent distributions](#Parent-distributions)\n",
    "    * [The parent distribution for `rand`](#The-parent-distribution-for-rand)\n",
    "* [The normal distribution](#The-normal-distribution)\n",
    "    * [Sampling the standard normal distribution with `randn`](#Sampling-the-standard-normal-distribution-with-randn)\n",
    "* [The standard error](#The-standard-error)\n",
    "    * [The mean of a random sample is also random](#The-mean-of-a-random-sample-is-also-random)\n",
    "* [Reporting results](#Reporting-results)\n",
    "    * [Formatting numbers in Python](#Formatting-numbers-in-Python)\n",
    "* [Summary](#Summary)"
   ]
  },
  {
   "cell_type": "markdown",
   "metadata": {},
   "source": [
    "## Preliminaries\n",
    "Before proceeding with this notebook you should review the topics from the [previous notebook](1.0-Random-numbers.ipynb) and read Chapter 2, \"Random errors in measurements,\" of *Measurements and their Uncertainties*, with the following [goals](https://wiki.its.sfu.ca/departments/phys-students/index.php/Reading_goals_for_Hughes_and_Hase#Random_error_in_measurements) in mind.\n",
    "\n",
    "1. Be able to use the mean and standard deviation to characterize a statistical sample. Specifically, be able to:\n",
    "    1. Estimate the mean and standard deviation from a histogram;\n",
    "    2. Sketch a distribution with a given mean and standard deviation;\n",
    "    3. Calculate the mean for a set of measurements;\n",
    "    4. Calculate the standard deviation for a set of measurements.\n",
    "2. Know the functional form for a Gaussian distribution, be able to sketch it for a given mean and standard deviation, and be able to estimate the mean and standard deviation from the plot of a Gaussian distribution.\n",
    "3. Be able to discuss the relationships between a sample and its parent distribution.\n",
    "4. Be able to discuss the difference between the standard deviation and the standard deviation in the mean (aka the standard error), and be able to estimate both from a histogram of measurements.\n",
    "5. Be able to report uncertainties correctly for a given measurement.\n",
    "\n",
    "You already know how to import libraries and tell the Jupyter notebook server how to display plots from Matplotlib, so we will get this out of the way now in the following code cell."
   ]
  },
  {
   "cell_type": "code",
   "execution_count": 3,
   "metadata": {},
   "outputs": [],
   "source": [
    "import numpy as np\n",
    "from numpy import random\n",
    "import matplotlib.pyplot as plt\n",
    "\n",
    "%matplotlib inline"
   ]
  },
  {
   "cell_type": "markdown",
   "metadata": {},
   "source": [
    "## Basic statistics with NumPy"
   ]
  },
  {
   "cell_type": "markdown",
   "metadata": {},
   "source": [
    "###  Location and width\n",
    "NumPy includes several basic [statistics routines](https://numpy.org/devdocs/reference/routines.statistics.html) for characterizing a sample from a statistical distribution. The following code cell applies several of them to the results in Table 2.1 of *Measurements and their Uncertainties*. The most common ones, the mean and the standard deviation, provide estimates of the *location* and *width*, respectively, of the underlying distribution."
   ]
  },
  {
   "cell_type": "markdown",
   "metadata": {},
   "source": [
    "#### Programming notes 1\n",
    "In both the [`std`](https://numpy.org/devdocs/reference/generated/numpy.std.html) and the [`var`](https://numpy.org/devdocs/reference/generated/numpy.var.html) functions it is important to set the option `ddof=1` for consistency with Eq. (2.3) in *Measurements and their Uncertainties*. The documentation for both functions describes this option as follows.\n",
    "> “Delta Degrees of Freedom”: the divisor used in the calculation is `N - ddof`, where `N` represents the number of elements. By default `ddof` is zero.\n",
    "\n",
    "What this means is that the default usage of `std` with `ddof=0` returns\n",
    "$$\\sigma_N = \\sqrt{\\frac{1}{N}\\sum_{i=1}^N(x_i - \\bar{x})^2}\\quad\\text{(Default, ddof=0)},$$\n",
    "and with `ddof=1` it returns the expression given in Eq. (2.3),\n",
    "$$\\sigma_{N-1} = \\sqrt{\\frac{1}{N-1}\\sum_{i=1}^N(x_i - \\bar{x})^2}\\quad\\text{(Preferred, ddof=1)}.$$\n",
    "\n",
    "The options `ddof=0` and `ddof=1` are also called *uncorrected* and *corrected*, respectively, for reasons that we will discuss shortly.\n",
    "\n",
    "Both options are shown below, and you will notice that the difference is not that large. Since we will normally only need to know the standard deviation to one significant figure anyway, the downside risk of forgetting to set `ddof=1` is usually not that bad, although conceptually they are used quite differently.\n",
    "\n",
    "And just to be sure that `mean` and `std` are doing what we think they are doing, we use the NumPy [`sum`](https://numpy.org/devdocs/reference/generated/numpy.sum.html) function and the built-in Python [`len`](https://docs.python.org/3/library/functions.html#len) function to evaluate them explicitly. These expressions are long, so we use the backslash (`\\`) character to break them and continue (with indentation) on the next line."
   ]
  },
  {
   "cell_type": "code",
   "execution_count": 56,
   "metadata": {},
   "outputs": [
    {
     "name": "stdout",
     "output_type": "stream",
     "text": [
      "Mean:  9.93\n",
      "Mean (explicit):  9.93\n",
      "Median:  9.9\n",
      "\n",
      "Standard deviation (uncorrected):  0.3976179070414207\n",
      "Standard deviation (uncorrected, explicit):  0.3976179070414207\n",
      "Variance (uncorrected):  0.15809999999999988\n",
      "Standard deviation (corrected):  0.419126074906664\n",
      "Standard deviation (corrected, explicit):  0.419126074906664\n",
      "Variance (corrected):  0.17566666666666653\n",
      "\n",
      "Minimum:  9.3\n",
      "Maximum:  10.5\n",
      "Range (peak-to-peak):  1.1999999999999993\n"
     ]
    }
   ],
   "source": [
    "period = [10.0, 9.4, 9.8, 9.6, 10.5, 9.8, 10.3, 10.2, 10.4, 9.3]\n",
    "print(\"Mean: \", np.mean(period))\n",
    "print(\"Mean (explicit): \", np.sum(period)/len(period))\n",
    "print(\"Median: \", np.median(period))\n",
    "print()\n",
    "print(\"Standard deviation (uncorrected): \", np.std(period))\n",
    "print(\"Standard deviation (uncorrected, explicit): \", \\\n",
    "      np.sqrt(np.sum((period - np.mean(period))**2)/len(period)))\n",
    "print(\"Variance (uncorrected): \", np.var(period))\n",
    "print(\"Standard deviation (corrected): \", np.std(period, ddof=1))\n",
    "print(\"Standard deviation (corrected, explicit): \", \\\n",
    "      np.sqrt(np.sum((period - np.mean(period))**2)/(len(period)-1)))\n",
    "print(\"Variance (corrected): \", np.var(period, ddof=1))\n",
    "print()\n",
    "print(\"Minimum: \", np.amin(period))\n",
    "print(\"Maximum: \", np.amax(period))\n",
    "print(\"Range (peak-to-peak): \", np.ptp(period))"
   ]
  },
  {
   "cell_type": "markdown",
   "metadata": {},
   "source": [
    "#### Programming notes 2\n",
    "The last result in the above cell looks worrisome: shouldn't we get 10.5 – 9.3 = 1.2? But it turns out that this is [just what we expect](https://docs.python.org/3/tutorial/floatingpoint.html), once we recognize that the computer uses a  binary representation of floating-point numbers that has finite precision. To see this, we calculate 10.5 – 9.3 – 1.2 in a few different ways."
   ]
  },
  {
   "cell_type": "code",
   "execution_count": 32,
   "metadata": {},
   "outputs": [
    {
     "name": "stdout",
     "output_type": "stream",
     "text": [
      "-6.661338147750939e-16\n",
      "-6.661338147750939e-16\n",
      "0.0\n"
     ]
    }
   ],
   "source": [
    "print(10.5 - 9.3 - 1.2)\n",
    "print((10.5 - 9.3) - 1.2)\n",
    "print(10.5 - (9.3 + 1.2))"
   ]
  },
  {
   "cell_type": "markdown",
   "metadata": {},
   "source": [
    "Most computers have 53 bits of floating-point precision, so the best we can expect for any number is a relative precision of 2<sup>-53</sup>. In this calculation,  10.5 has an exact binary representation, but 9.3 and 1.2 are both infinitely repeating fractions that must be truncated. These errors cancel in the last of the three calculations, but not in the first two (which are equivalent, given Python's order-of-operations rules). The cell below shows that the magnitude of overall truncation error is exactly $6\\times 2^{-53}$."
   ]
  },
  {
   "cell_type": "code",
   "execution_count": 52,
   "metadata": {},
   "outputs": [
    {
     "name": "stdout",
     "output_type": "stream",
     "text": [
      "1.1102230246251565e-16\n",
      "0.0\n"
     ]
    }
   ],
   "source": [
    "print(2**(-53))\n",
    "print(10.5 - 9.3 - 1.2 + 6*2**(-53))"
   ]
  },
  {
   "cell_type": "markdown",
   "metadata": {},
   "source": [
    "Very few experiments ever approach this level of precision, of course. The only reason this came up in our simple  calculation is because numbers are expressed by default with excessive precision—later we will see how to format numerical expressions to the correct precision in Python."
   ]
  },
  {
   "cell_type": "markdown",
   "metadata": {},
   "source": [
    "### Exercise 1\n",
    "Problem (2.1) of *Measurements and their uncertainties* gives a set of volume measurements, all in milliliters: 25.8, 26.2,  26.0, 26.5, 25.8, 26.1, 25.8, and 26.3. Use NumPy to calculate the mean, the standard deviation $\\sigma_{N-1}$, and the total range of the data."
   ]
  },
  {
   "cell_type": "code",
   "execution_count": 57,
   "metadata": {},
   "outputs": [],
   "source": [
    "# Use this cell for your response, adding cells if necessary."
   ]
  },
  {
   "cell_type": "markdown",
   "metadata": {},
   "source": [
    "## Parent distributions\n",
    "\n",
    "Section 2.6 of *Measurements and their uncertainties* introduces the concepts of a *sample* and a *parent distribution*, fundamental concepts in statistics that allows us to connect *what we actually measure* (the sample) to a *mathematical model for the measurement* (the parent distribution). A canonical example that illustrates this difference is a coin flip. Before we flip the coin, we *expect* it to come up \"Heads\" or \"Tails\" with equal probability: our parent distribution is then\n",
    "$$ P(x) = \\begin{cases}\n",
    "  \\frac{1}{2} & \\text{for}\\ x =\\ \\text{\"Heads\", and} \\\\\n",
    "    \\frac{1}{2} & \\text{for}\\ x =\\ \\text{\"Tails,\"}\n",
    "  \\end{cases} $$\n",
    "where $P(x)$ denotes the probability of obtaining a result $x$. When we actually flip a coin, however, the result is always *either* \"Heads\" or \"Tails,\" and it no longer makes sense to describe this probabilistically. The result is a *sample* that has been *drawn* from the parent distribution.\n",
    "\n",
    "Now that we have defined these two concepts, we can identify some of the most important goals of statistics:\n",
    "1. Determine the properties of a parent distribution from knowledge of a sample drawn from it,\n",
    "2. Determine the properties of a sample from knowledge of the parent distribution, and\n",
    "3. Determine the probability that a given sample was drawn from a given parent distribution.\n",
    "\n",
    "In the context of experimental physics, this translates into\n",
    "1. Developing a mathematical model to describe a set of experimental measurements,\n",
    "2. Predicting the results of an experiment using a mathematical model,\n",
    "3. Assessing the agreement between a mathematical model and an experiment.\n",
    "\n",
    "It is not an exaggeration to say that most of science can be reduced to these three activities."
   ]
  },
  {
   "cell_type": "markdown",
   "metadata": {},
   "source": [
    "### The parent distribution for `rand`\n",
    "Let's start with the first item: determining the parent distribution of `rand` from the samples that it generates. This is a bit artificial since we know that `rand` was *designed* with a particular parent distribution in mind, but it serves as an example of how we would proceed if the underlying parent distribution were unknown."
   ]
  },
  {
   "cell_type": "code",
   "execution_count": 91,
   "metadata": {},
   "outputs": [
    {
     "data": {
      "image/png": "[encoded data removed]",
      "text/plain": [
       "<Figure size 432x288 with 1 Axes>"
      ]
     },
     "metadata": {
      "needs_background": "light"
     },
     "output_type": "display_data"
    }
   ],
   "source": [
    "n = 10\n",
    "random.seed(0)\n",
    "x_rand = random.rand(n)\n",
    "\n",
    "plt.hist(x_rand,bins=20,range=(0.0,1.0))\n",
    "plt.xlabel('x')\n",
    "plt.ylabel('Occurrence');"
   ]
  },
  {
   "cell_type": "markdown",
   "metadata": {},
   "source": [
    "### Sampling from a general uniform distribution"
   ]
  },
  {
   "cell_type": "markdown",
   "metadata": {},
   "source": [
    "## The normal distribution"
   ]
  },
  {
   "cell_type": "markdown",
   "metadata": {},
   "source": [
    "### Sampling the standard normal distribution with `randn`"
   ]
  },
  {
   "cell_type": "markdown",
   "metadata": {},
   "source": [
    "### Sampling from general normal distribution"
   ]
  },
  {
   "cell_type": "markdown",
   "metadata": {},
   "source": [
    "## The standard error"
   ]
  },
  {
   "cell_type": "markdown",
   "metadata": {},
   "source": [
    "###  The mean of a random sample is also random"
   ]
  },
  {
   "cell_type": "markdown",
   "metadata": {},
   "source": [
    "## Reporting results"
   ]
  },
  {
   "cell_type": "markdown",
   "metadata": {},
   "source": [
    "### Formatting numbers in Python"
   ]
  },
  {
   "cell_type": "markdown",
   "metadata": {},
   "source": [
    "## Summary\n",
    "Here is a list of what you should be able to do after completing this notebook.\n",
    "* Compute basic statistics on a set of numbers using NumPy, including `mean`, `median`, `std`, `var`, `amin`, `amax`, and `ptp`.\n",
    "* Recognize the significance of the `ddof` option in `std` and `var` and use it appropriately.\n",
    "* Use `sum` and `len` from NumPy and the Python standard library, respectively, to compute the standard deviation and variance of a set of numbers without using `std` or `var`.\n",
    "* Describe the limitations of floating-point calculations and be able to recognize them when you encounter them.\n",
    "* Express the parent distributions for `rand` and `randn` in mathematical notation.\n",
    "* Use `rand` and `randn` to generate samples from general uniform and general normal distributions, respectively.\n",
    "* Compute the standard error for a set of measurements.\n",
    "* Format numerical expressions in Python."
   ]
  },
  {
   "cell_type": "markdown",
   "metadata": {},
   "source": [
    "## 2.1 Analysing distributions: some statistical ideas\n",
    "\n",
    "Reproduce Fig. 2.1 using the randn and histogram functions, discussed in the notes for Ch. 2. Judging from Fig. 2.1(d), the distribution has mean $\\bar{x} = x_0 = 10$  and standard deviation $\\sigma = 1$ . "
   ]
  },
  {
   "cell_type": "code",
   "execution_count": 2,
   "metadata": {},
   "outputs": [
    {
     "data": {
      "image/png": "[encoded data removed]",
      "text/plain": [
       "<Figure size 432x288 with 4 Axes>"
      ]
     },
     "metadata": {
      "needs_background": "light"
     },
     "output_type": "display_data"
    }
   ],
   "source": [
    "# import numpy library and name it \"np\".\n",
    "import numpy as np\n",
    "# import matplotlib.pyplot and name it \"plt\"\n",
    "import matplotlib.pyplot as plt\n",
    "\n",
    "# initialize a pseudorandom number generator\n",
    "np.random.seed(1)\n",
    "\n",
    "n_0 = 5\n",
    "n_1 = 50\n",
    "n_2 = 100\n",
    "n_3 = 1000\n",
    "\n",
    "\n",
    "x_0 = 10\n",
    "sigma = 1\n",
    "\n",
    "\n",
    "# generate all 1000 points at once\n",
    "#x_simulation = np.random.randn(n_3) * sigma + x_0\n",
    "x_simulation = 5*(np.random.rand(n_3) + np.random.rand(n_3))\n",
    "\n",
    "plt.subplot(2, 2, 1)\n",
    "plt.hist(x_simulation[:n_0], range=(0, x_0 * 1.5), bins=30)\n",
    "plt.xlabel('Variable, x')\n",
    "plt.ylabel('Occurrence')\n",
    "plt.title('n = 5')\n",
    "\n",
    "plt.subplot(2, 2, 2)\n",
    "plt.hist(x_simulation[:n_1], range=(0, x_0 * 1.5), bins=30)\n",
    "plt.xlabel('Variable, x')\n",
    "plt.ylabel('Occurrence')\n",
    "plt.title('n = 50')\n",
    "plt.subplot(2, 2, 3)\n",
    "plt.hist(x_simulation[:n_2], range=(0, x_0 * 1.5), bins=30)\n",
    "plt.xlabel('Variable, x')\n",
    "plt.ylabel('Occurrence')\n",
    "plt.title('n = 100')\n",
    "plt.subplot(2, 2, 4)\n",
    "plt.hist(x_simulation[:n_3], range=(0, x_0 * 1.5), bins=30)\n",
    "plt.xlabel('Variable, x')\n",
    "plt.ylabel('Occurrence')\n",
    "plt.title('n = 1000')\n",
    "\n",
    "\n",
    "# adjust spacing between subplots to minimize the overlaps\n",
    "plt.tight_layout()\n",
    "\n",
    "\n"
   ]
  },
  {
   "cell_type": "markdown",
   "metadata": {},
   "source": [
    "## 2.2 The mean\n",
    "\n",
    "The numpy function [mean](http://lagrange.univ-lyon1.fr/docs/numpy/1.11.0/reference/generated/numpy.mean.html) computes the mean value of an array. Remember that we set $\\bar{x} = 10$ at the beginning."
   ]
  },
  {
   "cell_type": "code",
   "execution_count": 3,
   "metadata": {},
   "outputs": [
    {
     "name": "stdout",
     "output_type": "stream",
     "text": [
      "10.038812476159602\n"
     ]
    }
   ],
   "source": [
    "xbar =np.mean(x_simulation)\n",
    "print(xbar)"
   ]
  },
  {
   "cell_type": "markdown",
   "metadata": {},
   "source": [
    "Compare this with Eq. (2.1) in Hughes and Hase. It's always a good idea to check that functions are calculating what you think they are!"
   ]
  },
  {
   "cell_type": "code",
   "execution_count": 4,
   "metadata": {},
   "outputs": [
    {
     "name": "stdout",
     "output_type": "stream",
     "text": [
      "10.038812476159602\n"
     ]
    }
   ],
   "source": [
    "print(np.sum(x_simulation)/len(x_simulation))"
   ]
  },
  {
   "cell_type": "markdown",
   "metadata": {},
   "source": [
    "## 2.3 The width of the distribution: estimating the precision\n",
    "Consider the data in Table 2.1:\n"
   ]
  },
  {
   "cell_type": "code",
   "execution_count": 5,
   "metadata": {},
   "outputs": [],
   "source": [
    "t = np.array([10.0, 9.4, 9.8, 9.6, 10.5, 9.8, 10.3, 10.2, 10.4, 9.3])"
   ]
  },
  {
   "cell_type": "markdown",
   "metadata": {},
   "source": [
    "### Todo:\n",
    "Plot a histogram of the data. Let Python choose the bins automatically. Make sure you x and y axes are labeled correctly. "
   ]
  },
  {
   "cell_type": "code",
   "execution_count": 6,
   "metadata": {},
   "outputs": [
    {
     "data": {
      "image/png": "[encoded data removed]",
      "text/plain": [
       "<Figure size 432x288 with 2 Axes>"
      ]
     },
     "metadata": {
      "needs_background": "light"
     },
     "output_type": "display_data"
    }
   ],
   "source": [
    "plt.subplot(2, 1, 1)\n",
    "plt.scatter(t, range(len(t)))\n",
    "plt.ylabel('Trial')\n",
    "\n",
    "\n",
    "\n",
    "\n",
    "plt.subplot(2, 1, 2)\n",
    "# your code goes here\n",
    "plt.hist(t)\n",
    "\n",
    "\n",
    "plt.ylabel('Occurrence')\n",
    "plt.xlabel('Variable, x')\n",
    "\n",
    "# adjust spacing between subplots to minimize the overlaps\n",
    "plt.tight_layout()"
   ]
  },
  {
   "cell_type": "markdown",
   "metadata": {},
   "source": [
    "Try to use six bins. "
   ]
  },
  {
   "cell_type": "code",
   "execution_count": 7,
   "metadata": {},
   "outputs": [],
   "source": [
    "# your code goes here "
   ]
  },
  {
   "cell_type": "markdown",
   "metadata": {},
   "source": [
    "Display the mean with a vertical line on your histogram plot."
   ]
  },
  {
   "cell_type": "code",
   "execution_count": 8,
   "metadata": {},
   "outputs": [
    {
     "name": "stdout",
     "output_type": "stream",
     "text": [
      "9.93\n"
     ]
    }
   ],
   "source": [
    "# your code goes here\n",
    "t_mean = np.mean(t)\n",
    "\n",
    "print(t_mean)"
   ]
  },
  {
   "cell_type": "markdown",
   "metadata": {},
   "source": [
    "## 2.3.1 Rough-and-ready approach to estimating the width\n",
    "\n",
    "To find the full range of the data, use the functions np.max() and np.min()."
   ]
  },
  {
   "cell_type": "code",
   "execution_count": 9,
   "metadata": {},
   "outputs": [
    {
     "name": "stdout",
     "output_type": "stream",
     "text": [
      "[0.63 0.57]\n"
     ]
    }
   ],
   "source": [
    "t_max = np.max(t)\n",
    "t_min = np.min(t)\n",
    "\n",
    "d_max = abs(t_mean - np.array([t_min, t_max])) \n",
    "\n",
    "print(d_max)"
   ]
  },
  {
   "cell_type": "markdown",
   "metadata": {},
   "source": [
    "The total spread of the data is (9.9 ± 0.6) s, as given in Hughes and Hase (note the significant figures). The 'rough-and-ready' method to estimating the spread gives:"
   ]
  },
  {
   "cell_type": "code",
   "execution_count": 10,
   "metadata": {},
   "outputs": [
    {
     "name": "stdout",
     "output_type": "stream",
     "text": [
      "0.4199999999999993\n"
     ]
    }
   ],
   "source": [
    "sigmaRough = (2/3) * np.max(d_max)\n",
    "print(sigmaRough)"
   ]
  },
  {
   "cell_type": "markdown",
   "metadata": {},
   "source": [
    "Compare this to the standard deviation, using the Python function [np.std(x, ddof=1)](https://docs.scipy.org/doc/numpy/reference/generated/numpy.std.html). Do we need to talk about Delta Degrees of Freedom (ddof)?>>>\n",
    "\n",
    "**Note:** When we set the flag ddof=1 it mean that np.std() is measuring $\\sigma_{N-1}$;\n",
    "$$\\sigma_{N-1} = \\sqrt{\\frac{1}{N-1}\\Sigma^{N}_{i=1}d^2_i} $$.\n",
    "The default value for this flag is ddof=0 which corresponds to $\\sigma_{N}$ (This concept is discussed in Chapter 8.). "
   ]
  },
  {
   "cell_type": "code",
   "execution_count": 11,
   "metadata": {},
   "outputs": [
    {
     "name": "stdout",
     "output_type": "stream",
     "text": [
      "0.419126074906664\n"
     ]
    }
   ],
   "source": [
    "sigma = np.std(t, ddof=1)\n",
    "print(sigma)"
   ]
  },
  {
   "cell_type": "markdown",
   "metadata": {},
   "source": [
    "Check that this agrees with (2.3)."
   ]
  },
  {
   "cell_type": "code",
   "execution_count": 12,
   "metadata": {},
   "outputs": [],
   "source": [
    "# your code goes here"
   ]
  },
  {
   "cell_type": "markdown",
   "metadata": {},
   "source": [
    "The 'rough-and-ready' estimate is only useful for small sample sizes, and even then it's probably better just to calculate the standard deviation. The estimate gets worse as the sample size increases."
   ]
  },
  {
   "cell_type": "code",
   "execution_count": 13,
   "metadata": {},
   "outputs": [
    {
     "name": "stdout",
     "output_type": "stream",
     "text": [
      "N =  3\n",
      "Rough method:  1.1599478222538917\n",
      "Standard dev: 1.5426596726396025\n",
      "-----\n",
      "N =  10\n",
      "Rough method:  1.424073427068594\n",
      "Standard dev: 1.1641041070926035\n",
      "-----\n",
      "N =  30\n",
      "Rough method:  1.5046180015907062\n",
      "Standard dev: 1.1126146825503953\n",
      "-----\n",
      "N =  100\n",
      "Rough method:  1.68670296168098\n",
      "Standard dev: 1.061574538144738\n",
      "-----\n",
      "N =  300\n",
      "Rough method:  1.9230764451030566\n",
      "Standard dev: 0.986598190563191\n",
      "-----\n",
      "N =  1000\n",
      "Rough method:  2.270225325600654\n",
      "Standard dev: 1.03055283351727\n",
      "-----\n"
     ]
    }
   ],
   "source": [
    "# number of data points\n",
    "n_sample = np.array([3, 10, 30, 100, 300, 1000])\n",
    "rough_width = np.zeros(len(n_sample))\n",
    "std_dev = np.zeros(len(n_sample))\n",
    "\n",
    "\n",
    "# generate  all 1000 random numbers\n",
    "all_samples = np.random.randn(n_sample[-1])\n",
    "\n",
    "# iterate on values in n_sample\n",
    "for ind, i_sample in enumerate(n_sample):\n",
    "    # make the current sample based on the current value in n_sample\n",
    "    sample = all_samples[:i_sample]\n",
    "    # calculate d_max for the current sample (as of before)\n",
    "    d_max = abs(np.mean(sample) - np.array([np.max(sample), np.min(sample)]))\n",
    "    # measure rough width for the current d_max and store  it in rough_width using the current index(ind) value\n",
    "    rough_width[ind] = (2/3) * max(d_max)\n",
    "    # measure the standard deviation for the current sample and store it in std_dev using the current index(ind) value\n",
    "    std_dev[ind] = np.std(sample, ddof=1)\n",
    "    \n",
    "    # print the values of interest \n",
    "    print('N = ', i_sample)\n",
    "    print('Rough method: ', rough_width[ind])\n",
    "    print('Standard dev:', std_dev[ind])\n",
    "    print('-----')\n"
   ]
  },
  {
   "cell_type": "markdown",
   "metadata": {},
   "source": [
    "## 2.4 Continuous distributions"
   ]
  },
  {
   "cell_type": "markdown",
   "metadata": {},
   "source": [
    "To reproduce Fig. 2.3, use the RNG to make 10,000 normally distributed numbers with the same mean and standard deviation as we used to reproduce Fig. 2.1."
   ]
  },
  {
   "cell_type": "code",
   "execution_count": 14,
   "metadata": {},
   "outputs": [],
   "source": [
    "x0 = 10\n",
    "sigma = 1\n",
    "nSample = 10000\n",
    "\n",
    "x = x0 + sigma * np.random.randn(nSample)"
   ]
  },
  {
   "cell_type": "markdown",
   "metadata": {},
   "source": [
    "The bins in Fig. 2.3(a) are 1.6 wide; the width decreases by a factor of two in each successive histogram. Use a loop to generate the four plots, using a character array to produce the different labels. To superpose the normal distribution on each plot, use the Nunmpy function [linspace()](https://docs.scipy.org/doc/numpy/reference/generated/numpy.linspace.html) to make an array xVar, and use (2.4); normalize to match the maximum of the histogram."
   ]
  },
  {
   "cell_type": "code",
   "execution_count": 15,
   "metadata": {},
   "outputs": [
    {
     "data": {
      "image/png": "[encoded data removed]",
      "text/plain": [
       "<Figure size 432x288 with 4 Axes>"
      ]
     },
     "metadata": {
      "needs_background": "light"
     },
     "output_type": "display_data"
    }
   ],
   "source": [
    "bin_start = 6\n",
    "bin_end = 14\n",
    "\n",
    "x_var = np.linspace(start=bin_start, stop=bin_end, num=100)\n",
    "f = (1 / (sigma * np.sqrt(2*np.pi))) * np.exp(-((x_var - x0)**2 / (2*sigma**2)))\n",
    "\n",
    "bin_width = [1.6, 0.8, 0.4, 0.2]\n",
    "label_array = 'abcd'\n",
    "\n",
    "for i_plot in range(4):\n",
    "    # make a new subplot \n",
    "    plt.subplot(2, 2, i_plot+1)\n",
    "    # plot the histogram and save the values of each bin in h_max --> for more information go to \"Python exercise for Chapter 2.ipynbe\"\n",
    "    h_values, _, _ = plt.hist(x, bins=np.arange(bin_start, bin_end + bin_width[i_plot], bin_width[i_plot]))\n",
    "\n",
    "    plt.plot(x_var, f * np.max(h_values) * np.sqrt(2*np.pi)*sigma)\n",
    "    \n",
    "    \n",
    "    plt.ylabel('Occurrence')\n",
    "    plt.xlabel('Variable, x')\n",
    "    plt.title(\"({}) bin width = {}\".format(label_array[i_plot], bin_width[i_plot]))\n",
    "    \n",
    "# adjust spacing between subplots to minimize the overlaps\n",
    "plt.tight_layout()\n",
    "    "
   ]
  },
  {
   "cell_type": "markdown",
   "metadata": {},
   "source": [
    "## 2.5 The normal distribution"
   ]
  },
  {
   "cell_type": "markdown",
   "metadata": {},
   "source": [
    "Reproduce Fig. 2.4. Define an anonymous function for (2.4) to simplify the computation of the three distributions. Note the LaTeX markup for the legend."
   ]
  },
  {
   "cell_type": "code",
   "execution_count": 16,
   "metadata": {},
   "outputs": [],
   "source": [
    "def f(x, mu, sigma):\n",
    "    return (1 / (sigma * np.sqrt(2*np.pi))) * np.exp(-((x - mu)**2 / (2*sigma**2)))\n"
   ]
  },
  {
   "cell_type": "code",
   "execution_count": 17,
   "metadata": {},
   "outputs": [
    {
     "data": {
      "text/plain": [
       "<matplotlib.legend.Legend at 0x7f6420bd38d0>"
      ]
     },
     "execution_count": 17,
     "metadata": {},
     "output_type": "execute_result"
    },
    {
     "data": {
      "image/png": "[encoded data removed]",
      "text/plain": [
       "<Figure size 432x288 with 1 Axes>"
      ]
     },
     "metadata": {
      "needs_background": "light"
     },
     "output_type": "display_data"
    }
   ],
   "source": [
    "# define the x values\n",
    "x_var = np.linspace(0, 20)\n",
    "# plot f(x, mu, sigma) for specific values of mu = 10 and sigma = 1, 2, 3\n",
    "plt.plot(x_var, f(x_var, 10, 1), 'k-', x_var, f(x_var, 10, 2), 'k:', x_var, f(x_var, 10, 3), 'k--')\n",
    "\n",
    "plt.ylabel('Probability distribution, f(x)')\n",
    "plt.xlabel('Random variable, x')\n",
    "plt.gca().legend(('$\\sigma = 1$', '$\\sigma = 2$', '$\\sigma = 3$'))"
   ]
  },
  {
   "cell_type": "markdown",
   "metadata": {},
   "source": [
    "## 2.6 Sample and parent distribution\n",
    "\n",
    "As we mentioned before, np.std(x, ddof=1) computes the sample standard divination using (2.6), but ddof flag accepts an optional parameter (ddof=0) that causes it to use (2.7) instead."
   ]
  },
  {
   "cell_type": "code",
   "execution_count": 18,
   "metadata": {},
   "outputs": [
    {
     "name": "stdout",
     "output_type": "stream",
     "text": [
      "0.3976179070414207\n"
     ]
    }
   ],
   "source": [
    "sample_parent = np.std(t)\n",
    "print(sample_parent)"
   ]
  },
  {
   "cell_type": "markdown",
   "metadata": {},
   "source": [
    "Check that this agrees with (2.5)."
   ]
  },
  {
   "cell_type": "code",
   "execution_count": 19,
   "metadata": {},
   "outputs": [
    {
     "name": "stdout",
     "output_type": "stream",
     "text": [
      "0.3976179070414207\n"
     ]
    }
   ],
   "source": [
    "sample_parent_alt = np.sqrt(np.sum((t-np.mean(t))**2)/len(t))\n",
    "print(sample_parent_alt)"
   ]
  },
  {
   "cell_type": "markdown",
   "metadata": {},
   "source": [
    "The sample standard deviation from Sec. 2.3.2 is a bit bigger."
   ]
  },
  {
   "cell_type": "code",
   "execution_count": 20,
   "metadata": {},
   "outputs": [
    {
     "name": "stdout",
     "output_type": "stream",
     "text": [
      "0.419126074906664\n"
     ]
    }
   ],
   "source": [
    "print(np.std(t, ddof=1))"
   ]
  },
  {
   "cell_type": "markdown",
   "metadata": {},
   "source": [
    "We can use the RNG to compare (2.5) and (2.6). Make a 5 x 1000 array of normally distributed random numbers, and compute both versions of the standard deviation for each of the 10000 columns (with $N =5$ )."
   ]
  },
  {
   "cell_type": "code",
   "execution_count": 21,
   "metadata": {},
   "outputs": [
    {
     "name": "stdout",
     "output_type": "stream",
     "text": [
      "[0.98888637 1.00814532 1.01246337 0.99902762 0.98680601]\n"
     ]
    }
   ],
   "source": [
    "# generate 5 sets of random data\n",
    "data = np.random.randn(5, 1000)\n",
    "std_sample = np.std(data, axis=1, ddof=1)\n",
    "print(std_sample)"
   ]
  },
  {
   "cell_type": "markdown",
   "metadata": {},
   "source": [
    "## 2.7 The standard error\n",
    "The sample standard deviation is an estimate of the distribution width. The standard *error* $\\alpha$  estimates how well we know its mean value. If $N = 1$, then $\\alpha = \\sigma$, but our knowledge of $\\mu$ improves with every new measurement, as Fig. 2.1 shows.\n",
    "Return to the data in Table 2.1. For these ten measurements, we can estimate the mean of the parent distribution to be (9.9 ± 0.1) s."
   ]
  },
  {
   "cell_type": "code",
   "execution_count": 22,
   "metadata": {},
   "outputs": [
    {
     "name": "stdout",
     "output_type": "stream",
     "text": [
      "9.93\n",
      "0.13253930234714023\n"
     ]
    }
   ],
   "source": [
    "print(t_mean)\n",
    "t_std_err = np.std(t, ddof=1)/np.sqrt(len(t))\n",
    "print(t_std_err)"
   ]
  },
  {
   "cell_type": "markdown",
   "metadata": {},
   "source": [
    "Confirm (2.7) for the 5 x 1000 random numbers in the array data: take the mean of each column, then find the standard deviation of the mean."
   ]
  },
  {
   "cell_type": "code",
   "execution_count": 23,
   "metadata": {},
   "outputs": [
    {
     "name": "stdout",
     "output_type": "stream",
     "text": [
      "0.4541729592121779\n",
      "0.41853618826134575\n"
     ]
    }
   ],
   "source": [
    "data_mean = np.mean(data, axis=0)\n",
    "data_mean_unc = np.std(data_mean, ddof=1)\n",
    "data_std = np.std(data, ddof=1, axis=0)\n",
    "\n",
    "print(data_mean_unc)\n",
    "print(np.mean(data_std) / np.sqrt(5))\n"
   ]
  },
  {
   "cell_type": "markdown",
   "metadata": {},
   "source": [
    "### 2.7.1 The error in the error\n",
    "For the data in Table 2.1, the fractional error in the error is 20% (to one significant figure)."
   ]
  },
  {
   "cell_type": "code",
   "execution_count": 24,
   "metadata": {},
   "outputs": [
    {
     "name": "stdout",
     "output_type": "stream",
     "text": [
      "0.23570226039551587\n"
     ]
    }
   ],
   "source": [
    "print(1/np.sqrt(2*len(t) - 2))"
   ]
  },
  {
   "cell_type": "markdown",
   "metadata": {},
   "source": [
    "Confirm (2.8) for the 5 x 1000 random numbers in the array data: take the standard deviation of each column, then find the standard deviation of the standard deviation."
   ]
  },
  {
   "cell_type": "code",
   "execution_count": 55,
   "metadata": {},
   "outputs": [
    {
     "name": "stdout",
     "output_type": "stream",
     "text": [
      "0.33726493856707623\n",
      "0.3308819095277202\n"
     ]
    }
   ],
   "source": [
    "data_std_unc = np.std(data_std, ddof=1)\n",
    "print(data_std_unc)\n",
    "print(np.mean(data_std)/np.sqrt(2*5 - 2))"
   ]
  },
  {
   "cell_type": "markdown",
   "metadata": {},
   "source": [
    "## Exercises\n",
    "Please complete these exercises listed below in the worksheet. After you have finished the worksheet and the exercises, save the worksheet as a .pdf file and upload to Canvas.\n",
    "\n",
    "1. Exercise (2.3)\n",
    "A measurement of 100 minutes will reduce the random error by a factor of 10.\n",
    "\n",
    "2. Exercise (2.5)\n",
    "\n",
    "3. 3 - Describing your data\n",
    "(a) Load the data set DataBarlowProb2_6.txt. \n",
    "(b) Show the data in a histogram, choosing a reasonable bin size.\n",
    "(c) Calculate the mean and standard deviation of the data set, specifying which version of the standard deviation you have used.\n",
    "(d) What is the uncertainty in any given data point?\n",
    "(e) Generate a data set with the mean that you calculated in Part (c) and the same number of data points but a standard deviation that is twice as large, and add it to your histogram."
   ]
  }
 ],
 "metadata": {
  "kernelspec": {
   "display_name": "Python 3",
   "language": "python",
   "name": "python3"
  },
  "language_info": {
   "codemirror_mode": {
    "name": "ipython",
    "version": 3
   },
   "file_extension": ".py",
   "mimetype": "text/x-python",
   "name": "python",
   "nbconvert_exporter": "python",
   "pygments_lexer": "ipython3",
   "version": "3.6.9"
  }
 },
 "nbformat": 4,
 "nbformat_minor": 2
}
