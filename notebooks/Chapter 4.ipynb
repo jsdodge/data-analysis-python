{
 "cells": [
  {
   "cell_type": "markdown",
   "metadata": {},
   "source": [
    "# Exercises for Hughes and Hase: Chapter 4\n",
    "\n",
    "Python activities to complement Measurements and their Uncertainties, Chapter 4, \"Error propagation.\" Section numbers in the book correspond to those listed below.\n",
    "\n",
    "<-- General comments on how to use Jupyter Notebook -->\n",
    "\n",
    "## 4.1 Propagating the error in a single-variable function\n",
    "\n",
    "Reproduce Fig. 4.1(a). The caption says that this shows Bragg's law for a silicon single crystal. This is incorrect: silicon has a room temperature lattice constant of $a = 0.5431$ nm, which gives $\\lambda = 2 a = 1.1$ nm for $\\theta = \\frac{\\pi}{2}$, as shown in the plot. But silicon's diamond structure suppresses Bragg scattering from planes with this spacing; Bragg scattering is allowed, however, for lattice planes $d=a/\\sqrt{3} = 0.3$ nm, which would give $\\lambda = 2 a/\\sqrt{2} = 0.63$  nm for $\\theta = \\frac{\\pi}{2}$ . We'll ignore this oversight so that we can compare results with the book."
   ]
  },
  {
   "cell_type": "code",
   "execution_count": 2,
   "metadata": {},
   "outputs": [
    {
     "data": {
      "text/plain": [
       "Text(80, 0.8, '(a)')"
      ]
     },
     "execution_count": 2,
     "metadata": {},
     "output_type": "execute_result"
    }
   ],
   "source": [
    "# import numpy library and name it \"np\".\n",
    "import numpy as np\n",
    "# import matplotlib.pyplot and name it \"plt\"\n",
    "import matplotlib.pyplot as plt\n",
    "\n",
    "d = 0.5431 # (nm)\n",
    "theta_rad = np.linspace(0, np.pi) # Python uses radians for angles\n",
    "theta_deg = np.degrees(theta_rad)\n",
    "\n",
    "plt.plot(theta_deg, 2*d*np.sin(theta_rad), 'k-')\n",
    "plt.xlabel('Angle (degrees)')\n",
    "plt.xlim(0, 90)\n",
    "plt.ylabel('$\\lambda$ (nm)')\n",
    "plt.text(80, 0.8, '(a)')"
   ]
  },
  {
   "cell_type": "markdown",
   "metadata": {},
   "source": [
    "## 4.1.1 The functional approach for single-variable functions\n",
    "Consider a fixed angular uncertainty of $\\alpha_{\\theta}=0.05^\\circ$."
   ]
  },
  {
   "cell_type": "code",
   "execution_count": 3,
   "metadata": {},
   "outputs": [],
   "source": [
    "alpha_theta_deg = 0.05\n",
    "alpha_theta_rad = np.deg2rad(alpha_theta_deg)"
   ]
  },
  {
   "cell_type": "markdown",
   "metadata": {},
   "source": [
    "Confirm the wavelength uncertainties given in the text."
   ]
  },
  {
   "cell_type": "code",
   "execution_count": 4,
   "metadata": {},
   "outputs": [
    {
     "name": "stdout",
     "output_type": "stream",
     "text": [
      "[0.9155 0.2449]\n"
     ]
    }
   ],
   "source": [
    "theta_eval_deg = np.array([15, 75])\n",
    "theta_eval_rad = np.deg2rad(theta_eval_deg)\n",
    "\n",
    "alpha_lambda = 2*d*(np.sin(theta_eval_rad + alpha_theta_rad) - np.sin(theta_eval_rad))\n",
    "\n",
    "\n",
    "print(np.around(1e3 * alpha_lambda, decimals=4)) # Display in units of pm"
   ]
  },
  {
   "cell_type": "markdown",
   "metadata": {},
   "source": [
    "Reproduce Fig. 4.1(b) for $\\bar{\\theta} = 75^{\\circ}$, where the $\\sin$ function is more nonlinear. \n",
    "<-- comments on how to plot in Python --> "
   ]
  },
  {
   "cell_type": "code",
   "execution_count": 71,
   "metadata": {},
   "outputs": [
    {
     "name": "stdout",
     "output_type": "stream",
     "text": [
      "[75.   74.95 75.05] [1.04918863 1.0489429  1.04943356]\n",
      "(1.0485114744077384, 1.0498607968568938)\n"
     ]
    },
    {
     "data": {
      "image/png": "[encoded data removed]",
      "text/plain": [
       "<Figure size 432x288 with 1 Axes>"
      ]
     },
     "metadata": {
      "needs_background": "light"
     },
     "output_type": "display_data"
    }
   ],
   "source": [
    "theta_bar_deg = theta_eval_deg[1]\n",
    "theta_bar_rad = np.deg2rad(theta_bar_deg)\n",
    "theta_interval_deg = theta_bar_deg+alpha_theta_deg*np.array([-1,1])\n",
    "theta_interval_rad = np.deg2rad(theta_interval_deg)\n",
    "theta_lim = theta_bar_deg + 2.5*alpha_theta_deg*np.array([-1,1])\n",
    "theta_deg = np.linspace(theta_lim[0],theta_lim[1])\n",
    "theta_rad = np.deg2rad(theta_deg)\n",
    "\n",
    "# Plot theory curve\n",
    "\n",
    "plt.plot(theta_deg, 2*d*np.sin(theta_rad), 'k-')\n",
    "plt.xlim(theta_lim)\n",
    "\n",
    "# Place closed marker at measurement point\n",
    "plt.plot(theta_bar_deg, 2*d*np.sin(theta_bar_rad), 'ko')\n",
    "# Place open markers at uncertainty limits\n",
    "plt.plot(theta_interval_deg, 2*d*np.sin(theta_interval_rad), 'ko', mfc='none')\n",
    "\n",
    "# Connect markers with axes with dashed lines\n",
    "marker_position_x = np.insert(theta_interval_deg, 0, theta_bar_deg)\n",
    "\n",
    "marker_position_y = 2*d*np.sin(np.insert(theta_interval_rad, 0, theta_bar_rad))\n",
    "lambda_lim = plt.gca().get_ylim()\n",
    "print(marker_position_x, marker_position_y)\n",
    "print(plt.gca().get_ylim())\n",
    "for i in range(3):\n",
    "    v_line_x = marker_position_x[i]*np.array([1, 1])\n",
    "\n",
    "    v_line_y = np.array([lambda_lim[0], marker_position_y[i]])\n",
    "    h_line_x = np.array([theta_lim[0], marker_position_x[i]])\n",
    "    h_line_y = marker_position_y[i]*np.array([1, 1])\n",
    "\n",
    "    plt.plot(h_line_x, h_line_y, 'k--', v_line_x, v_line_y, 'k--')"
   ]
  },
  {
   "cell_type": "markdown",
   "metadata": {},
   "source": [
    "## 4.1.2 A calculus-based approximation for single-variable functions\n",
    "Compare the calculus-based method with the functional approach for the Bragg's law example."
   ]
  },
  {
   "cell_type": "code",
   "execution_count": 73,
   "metadata": {},
   "outputs": [],
   "source": [
    "alpha_lambda_calc = np.abs(2*d*np.cos(theta_eval_rad)) * alpha_theta_rad"
   ]
  },
  {
   "cell_type": "code",
   "execution_count": 74,
   "metadata": {},
   "outputs": [
    {
     "name": "stdout",
     "output_type": "stream",
     "text": [
      "Uncertainty, functional approach (pm):\n",
      "[0.9155 0.2449]\n"
     ]
    }
   ],
   "source": [
    "print('Uncertainty, functional approach (pm):')\n",
    "print(np.around(1e3 * alpha_lambda, decimals=4))"
   ]
  },
  {
   "cell_type": "code",
   "execution_count": 75,
   "metadata": {},
   "outputs": [
    {
     "name": "stdout",
     "output_type": "stream",
     "text": [
      "Uncertainty, calculus-based approximation (pm):\n",
      "[0.9156 0.2453]\n"
     ]
    }
   ],
   "source": [
    "print('Uncertainty, calculus-based approximation (pm):')\n",
    "print(np.around(1e3 * alpha_lambda_calc, decimals=4))"
   ]
  },
  {
   "cell_type": "markdown",
   "metadata": {},
   "source": [
    "Increase angular uncertainty by a factor of 100, from 0.05 degrees to 5 degrees, and compare again. Note that the calculus-based estimate overestimates the uncertainty because the sin function is sub-linear---that is, as the argument increases, the slope decreases."
   ]
  },
  {
   "cell_type": "code",
   "execution_count": 77,
   "metadata": {},
   "outputs": [],
   "source": [
    "alpha_theta_deg = 100 * 0.05\n",
    "alpha_theta_rad = np.deg2rad(alpha_theta_deg)\n",
    "\n",
    "alpha_lambda = 2*d*(np.sin(theta_eval_rad + alpha_theta_rad) - np.sin(theta_eval_rad))\n",
    "alpha_lambda_calc = np.abs(2*d*np.cos(theta_eval_rad)) * alpha_theta_rad"
   ]
  },
  {
   "cell_type": "code",
   "execution_count": 78,
   "metadata": {},
   "outputs": [
    {
     "name": "stdout",
     "output_type": "stream",
     "text": [
      "Uncertainty, functional approach (pm):\n",
      "[90.373  20.5095]\n"
     ]
    }
   ],
   "source": [
    "print('Uncertainty, functional approach (pm):')\n",
    "print(np.around(1e3 * alpha_lambda, decimals=4))"
   ]
  },
  {
   "cell_type": "code",
   "execution_count": 80,
   "metadata": {},
   "outputs": [
    {
     "name": "stdout",
     "output_type": "stream",
     "text": [
      "Uncertainty, calculus-based approximation (pm):\n",
      "[91.559  24.5332]\n"
     ]
    }
   ],
   "source": [
    "print('Uncertainty, calculus-based approximation (pm):')\n",
    "print(np.around(1e3 * alpha_lambda_calc, decimals=4))"
   ]
  },
  {
   "cell_type": "code",
   "execution_count": null,
   "metadata": {},
   "outputs": [],
   "source": []
  }
 ],
 "metadata": {
  "kernelspec": {
   "display_name": "Python 3",
   "language": "python",
   "name": "python3"
  },
  "language_info": {
   "codemirror_mode": {
    "name": "ipython",
    "version": 3
   },
   "file_extension": ".py",
   "mimetype": "text/x-python",
   "name": "python",
   "nbconvert_exporter": "python",
   "pygments_lexer": "ipython3",
   "version": "3.6.8"
  }
 },
 "nbformat": 4,
 "nbformat_minor": 2
}
