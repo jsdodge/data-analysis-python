{
 "cells": [
  {
   "cell_type": "markdown",
   "metadata": {},
   "source": [
    "# Exercises for Hughes and Hase: Chapter 4\n",
    "\n",
    "Python activities to complement Measurements and their Uncertainties, Chapter 4, \"Error propagation.\" Section numbers in the book correspond to those listed below.\n",
    "\n",
    "<-- General comments on how to use Jupyter Notebook -->\n",
    "\n",
    "## 4.1 Propagating the error in a single-variable function\n",
    "\n",
    "Reproduce Fig. 4.1(a). The caption says that this shows Bragg's law for a silicon single crystal. This is incorrect: silicon has a room temperature lattice constant of $a = 0.5431$ nm, which gives $\\lambda = 2 a = 1.1$ nm for $\\theta = \\frac{\\pi}{2}$, as shown in the plot. But silicon's diamond structure suppresses Bragg scattering from planes with this spacing; Bragg scattering is allowed, however, for lattice planes $d=a/\\sqrt{3} = 0.3$ nm, which would give $\\lambda = 2 a/\\sqrt{2} = 0.63$  nm for $\\theta = \\frac{\\pi}{2}$ . We'll ignore this oversight so that we can compare results with the book."
   ]
  },
  {
   "cell_type": "code",
   "execution_count": 223,
   "metadata": {},
   "outputs": [
    {
     "data": {
      "text/plain": [
       "Text(80, 0.8, '(a)')"
      ]
     },
     "execution_count": 223,
     "metadata": {},
     "output_type": "execute_result"
    },
    {
     "data": {
      "image/png": "[encoded data removed]",
      "text/plain": [
       "<Figure size 432x288 with 1 Axes>"
      ]
     },
     "metadata": {
      "needs_background": "light"
     },
     "output_type": "display_data"
    }
   ],
   "source": [
    "# import numpy library and name it \"np\".\n",
    "import numpy as np\n",
    "# import matplotlib.pyplot and name it \"plt\"\n",
    "import matplotlib.pyplot as plt\n",
    "\n",
    "d = 0.5431 # (nm)\n",
    "theta_rad = np.linspace(0, np.pi) # Python uses radians for angles\n",
    "theta_deg = np.degrees(theta_rad)\n",
    "\n",
    "plt.plot(theta_deg, 2*d*np.sin(theta_rad), 'k-')\n",
    "plt.xlabel('Angle (degrees)')\n",
    "plt.xlim(0, 90)\n",
    "plt.ylabel('$\\lambda$ (nm)')\n",
    "plt.text(80, 0.8, '(a)')"
   ]
  },
  {
   "cell_type": "markdown",
   "metadata": {},
   "source": [
    "## 4.1.1 The functional approach for single-variable functions\n",
    "Consider a fixed angular uncertainty of $\\alpha_{\\theta}=0.05^\\circ$."
   ]
  },
  {
   "cell_type": "code",
   "execution_count": 224,
   "metadata": {},
   "outputs": [],
   "source": [
    "alpha_theta_deg = 0.05\n",
    "alpha_theta_rad = np.deg2rad(alpha_theta_deg)"
   ]
  },
  {
   "cell_type": "markdown",
   "metadata": {},
   "source": [
    "Confirm the wavelength uncertainties given in the text."
   ]
  },
  {
   "cell_type": "code",
   "execution_count": 225,
   "metadata": {},
   "outputs": [
    {
     "name": "stdout",
     "output_type": "stream",
     "text": [
      "[0.9155 0.2449]\n"
     ]
    }
   ],
   "source": [
    "theta_eval_deg = np.array([15, 75])\n",
    "theta_eval_rad = np.deg2rad(theta_eval_deg)\n",
    "\n",
    "alpha_lambda = 2*d*(np.sin(theta_eval_rad + alpha_theta_rad) - np.sin(theta_eval_rad))\n",
    "\n",
    "\n",
    "print(np.around(1e3 * alpha_lambda, decimals=4)) # Display in units of pm"
   ]
  },
  {
   "cell_type": "markdown",
   "metadata": {},
   "source": [
    "Reproduce Fig. 4.1(b) for $\\bar{\\theta} = 75^{\\circ}$, where the $\\sin$ function is more nonlinear. \n",
    "<-- comments on how to plot in Python --> "
   ]
  },
  {
   "cell_type": "code",
   "execution_count": 226,
   "metadata": {},
   "outputs": [
    {
     "name": "stdout",
     "output_type": "stream",
     "text": [
      "[75.   74.95 75.05] [1.04918863 1.0489429  1.04943356]\n",
      "(1.0485114744077384, 1.0498607968568938)\n"
     ]
    },
    {
     "data": {
      "text/plain": [
       "[Text(0, 0, '$\\\\bar{\\\\theta}$'),\n",
       " Text(0, 0, '$\\\\bar{\\\\theta} -\\\\alpha_\\\\theta $'),\n",
       " Text(0, 0, '$\\\\bar{\\\\theta} + \\\\alpha_\\\\theta $')]"
      ]
     },
     "execution_count": 226,
     "metadata": {},
     "output_type": "execute_result"
    },
    {
     "data": {
      "image/png": "[encoded data removed]",
      "text/plain": [
       "<Figure size 432x288 with 1 Axes>"
      ]
     },
     "metadata": {
      "needs_background": "light"
     },
     "output_type": "display_data"
    }
   ],
   "source": [
    "theta_bar_deg = theta_eval_deg[1]\n",
    "theta_bar_rad = np.deg2rad(theta_bar_deg)\n",
    "theta_interval_deg = theta_bar_deg+alpha_theta_deg*np.array([-1,1])\n",
    "theta_interval_rad = np.deg2rad(theta_interval_deg)\n",
    "theta_lim = theta_bar_deg + 2.5*alpha_theta_deg*np.array([-1,1])\n",
    "theta_deg = np.linspace(theta_lim[0],theta_lim[1])\n",
    "theta_rad = np.deg2rad(theta_deg)\n",
    "\n",
    "# Plot theory curve\n",
    "\n",
    "plt.plot(theta_deg, 2*d*np.sin(theta_rad), 'k-')\n",
    "plt.xlim(theta_lim)\n",
    "\n",
    "# Place closed marker at measurement point\n",
    "plt.plot(theta_bar_deg, 2*d*np.sin(theta_bar_rad), 'ko')\n",
    "# Place open markers at uncertainty limits\n",
    "plt.plot(theta_interval_deg, 2*d*np.sin(theta_interval_rad), 'ko', mfc='none')\n",
    "\n",
    "# Connect markers with axes with dashed lines\n",
    "marker_position_x = np.insert(theta_interval_deg, 0, theta_bar_deg)\n",
    "\n",
    "marker_position_y = 2*d*np.sin(np.insert(theta_interval_rad, 0, theta_bar_rad))\n",
    "lambda_lim = plt.gca().get_ylim()\n",
    "print(marker_position_x, marker_position_y)\n",
    "print(plt.gca().get_ylim())\n",
    "\n",
    "\n",
    "for i_marker in range(3):\n",
    "    v_line_x = marker_position_x[i_marker]*np.array([1, 1])\n",
    "\n",
    "    v_line_y = np.array([lambda_lim[0], marker_position_y[i_marker]])\n",
    "    h_line_x = np.array([theta_lim[0], marker_position_x[i_marker]])\n",
    "    h_line_y = marker_position_y[i_marker]*np.array([1, 1])\n",
    "\n",
    "    plt.plot(h_line_x, h_line_y, 'k--', v_line_x, v_line_y, 'k--')\n",
    "    \n",
    "plt.gca().set_yticks(marker_position_y)\n",
    "plt.gca().set_yticklabels(['$\\\\bar{\\lambda}$', '$\\\\bar{\\lambda} -\\\\alpha_\\lambda $', '$\\\\bar{\\lambda} + \\\\alpha_\\lambda $'])\n",
    "\n",
    "plt.gca().set_xticks(marker_position_x)\n",
    "plt.gca().set_xticklabels(['$\\\\bar{\\\\theta}$', '$\\\\bar{\\\\theta} -\\\\alpha_\\\\theta $', '$\\\\bar{\\\\theta} + \\\\alpha_\\\\theta $'])\n",
    "\n"
   ]
  },
  {
   "cell_type": "markdown",
   "metadata": {},
   "source": [
    "## 4.1.2 A calculus-based approximation for single-variable functions\n",
    "Compare the calculus-based method with the functional approach for the Bragg's law example."
   ]
  },
  {
   "cell_type": "code",
   "execution_count": 227,
   "metadata": {},
   "outputs": [],
   "source": [
    "alpha_lambda_calc = np.abs(2*d*np.cos(theta_eval_rad)) * alpha_theta_rad"
   ]
  },
  {
   "cell_type": "code",
   "execution_count": 228,
   "metadata": {},
   "outputs": [
    {
     "name": "stdout",
     "output_type": "stream",
     "text": [
      "Uncertainty, functional approach (pm):\n",
      "[0.9155 0.2449]\n"
     ]
    }
   ],
   "source": [
    "print('Uncertainty, functional approach (pm):')\n",
    "print(np.around(1e3 * alpha_lambda, decimals=4))"
   ]
  },
  {
   "cell_type": "code",
   "execution_count": 229,
   "metadata": {},
   "outputs": [
    {
     "name": "stdout",
     "output_type": "stream",
     "text": [
      "Uncertainty, calculus-based approximation (pm):\n",
      "[0.9156 0.2453]\n"
     ]
    }
   ],
   "source": [
    "print('Uncertainty, calculus-based approximation (pm):')\n",
    "print(np.around(1e3 * alpha_lambda_calc, decimals=4))"
   ]
  },
  {
   "cell_type": "markdown",
   "metadata": {},
   "source": [
    "Increase angular uncertainty by a factor of 100, from 0.05 degrees to 5 degrees, and compare again. Note that the calculus-based estimate overestimates the uncertainty because the sin function is sub-linear---that is, as the argument increases, the slope decreases."
   ]
  },
  {
   "cell_type": "code",
   "execution_count": 230,
   "metadata": {},
   "outputs": [],
   "source": [
    "alpha_theta_deg = 100 * 0.05\n",
    "alpha_theta_rad = np.deg2rad(alpha_theta_deg)\n",
    "\n",
    "alpha_lambda = 2*d*(np.sin(theta_eval_rad + alpha_theta_rad) - np.sin(theta_eval_rad))\n",
    "alpha_lambda_calc = np.abs(2*d*np.cos(theta_eval_rad)) * alpha_theta_rad"
   ]
  },
  {
   "cell_type": "code",
   "execution_count": 231,
   "metadata": {},
   "outputs": [
    {
     "name": "stdout",
     "output_type": "stream",
     "text": [
      "Uncertainty, functional approach (pm):\n",
      "[90.373  20.5095]\n"
     ]
    }
   ],
   "source": [
    "print('Uncertainty, functional approach (pm):')\n",
    "print(np.around(1e3 * alpha_lambda, decimals=4))"
   ]
  },
  {
   "cell_type": "code",
   "execution_count": 232,
   "metadata": {},
   "outputs": [
    {
     "name": "stdout",
     "output_type": "stream",
     "text": [
      "Uncertainty, calculus-based approximation (pm):\n",
      "[91.559  24.5332]\n"
     ]
    }
   ],
   "source": [
    "print('Uncertainty, calculus-based approximation (pm):')\n",
    "print(np.around(1e3 * alpha_lambda_calc, decimals=4))"
   ]
  },
  {
   "cell_type": "markdown",
   "metadata": {},
   "source": [
    "## 4.1.3 Look-up table for common single-variable functions\n",
    "Let's continue this comparison for the functions shown in Table 4.1. Set $A = 1$ and $\\alpha_A = 0.01$ , and calculate $\\alpha_Z$ using both the functional approach and the calculus-based approach. It's convenient to put this in a loop, where the function changes in each iteration but otherwise the calculation is the same. \n",
    "\n",
    "<--- need to be modified |\n",
    "We can do this using two new MATLAB programming concepts: structures and anonymous functions.\n",
    "\n",
    "Let's start with structures , which are a way to store data of different types in a single array. We'll begin by making a structure array S that contains the function names in the field name. | --->"
   ]
  },
  {
   "cell_type": "code",
   "execution_count": 233,
   "metadata": {},
   "outputs": [
    {
     "name": "stdout",
     "output_type": "stream",
     "text": [
      "{'name': ['1/x', 'exp(x)', 'ln x', 'log x', 'x**n', '10**x', 'sin x', 'cos x', 'tan x']}\n",
      "1/x\n"
     ]
    }
   ],
   "source": [
    "s = {'name': ['1/x', 'exp(x)', 'ln x', 'log x', 'x**n', '10**x', 'sin x', 'cos x', 'tan x']}\n",
    "print(s)\n",
    "print(s['name'][0])"
   ]
  },
  {
   "cell_type": "markdown",
   "metadata": {},
   "source": [
    "<--- comments on Python Dictionary and lambda function ---> "
   ]
  },
  {
   "cell_type": "code",
   "execution_count": 234,
   "metadata": {},
   "outputs": [
    {
     "name": "stdout",
     "output_type": "stream",
     "text": [
      "1 1.0\n",
      "2 0.5\n",
      "3 0.3333333333333333\n"
     ]
    }
   ],
   "source": [
    "zFun = lambda x: 1./x\n",
    "for i in range(1, 4):\n",
    "    print(i, zFun(i))"
   ]
  },
  {
   "cell_type": "markdown",
   "metadata": {},
   "source": [
    "Now we can define new fields in s, function and derivative, that contain anonymous functions for the function and its derivative. We choose $n = 3$ for the function $Z(A) = A^n$."
   ]
  },
  {
   "cell_type": "code",
   "execution_count": 235,
   "metadata": {},
   "outputs": [
    {
     "name": "stdout",
     "output_type": "stream",
     "text": [
      "s['Function'] = [lambda x: 1./x, \n",
      "                 lambda x: np.exp(x), \n",
      "                 lambda x: np.log(x),\n",
      "                 lambda x: np.log10(x),\n",
      "                 lambda x: x**3,\n",
      "                 lambda x: 10**x, \n",
      "                 lambda x: np.sin(x),\n",
      "                 lambda x: np.cos(x), \n",
      "                 lambda x: np.tan(x)]\n",
      "\n",
      "0.5\n"
     ]
    }
   ],
   "source": [
    "import inspect\n",
    "s['Function'] = [lambda x: 1./x, \n",
    "                 lambda x: np.exp(x), \n",
    "                 lambda x: np.log(x),\n",
    "                 lambda x: np.log10(x),\n",
    "                 lambda x: x**3,\n",
    "                 lambda x: 10**x, \n",
    "                 lambda x: np.sin(x),\n",
    "                 lambda x: np.cos(x), \n",
    "                 lambda x: np.tan(x)]\n",
    "\n",
    "print(inspect.getsource(s['Function'][0]))\n",
    "\n",
    "s['derivative'] = [lambda x: - 1./x**2, \n",
    "                   lambda x: np.exp(x), \n",
    "                   lambda x: 1./x,\n",
    "                   lambda x: 1./(np.log(10)*x),\n",
    "                   lambda x: 3*x**2,\n",
    "                   lambda x: 10**x*np.log(10), \n",
    "                   lambda x: np.cos(x),\n",
    "                   lambda x: - np.sin(x), \n",
    "                   lambda x: 1 + np.tan(x)**2]\n",
    "\n",
    "print(s['Function'][0](2))"
   ]
  },
  {
   "cell_type": "markdown",
   "metadata": {},
   "source": [
    "The dictionary now has three fields, and two of the fields contain anonymous functions. Each field conatians a list of nine elements. "
   ]
  },
  {
   "cell_type": "code",
   "execution_count": 236,
   "metadata": {},
   "outputs": [
    {
     "name": "stdout",
     "output_type": "stream",
     "text": [
      "dict_keys(['name', 'Function', 'derivative'])\n"
     ]
    }
   ],
   "source": [
    "print(s.keys())"
   ]
  },
  {
   "cell_type": "code",
   "execution_count": 237,
   "metadata": {},
   "outputs": [
    {
     "name": "stdout",
     "output_type": "stream",
     "text": [
      "s['Function'] = [lambda x: 1./x, \n",
      "                 lambda x: np.exp(x), \n",
      "                 lambda x: np.log(x),\n",
      "                 lambda x: np.log10(x),\n",
      "                 lambda x: x**3,\n",
      "                 lambda x: 10**x, \n",
      "                 lambda x: np.sin(x),\n",
      "                 lambda x: np.cos(x), \n",
      "                 lambda x: np.tan(x)]\n",
      "\n",
      "s['derivative'] = [lambda x: - 1./x**2, \n",
      "                   lambda x: np.exp(x), \n",
      "                   lambda x: 1./x,\n",
      "                   lambda x: 1./(np.log(10)*x),\n",
      "                   lambda x: 3*x**2,\n",
      "                   lambda x: 10**x*np.log(10), \n",
      "                   lambda x: np.cos(x),\n",
      "                   lambda x: - np.sin(x), \n",
      "                   lambda x: 1 + np.tan(x)**2]\n",
      "\n"
     ]
    }
   ],
   "source": [
    "import inspect\n",
    "print(inspect.getsource(s['Function'][0]))\n",
    "print(inspect.getsource(s['derivative'][0]))"
   ]
  },
  {
   "cell_type": "markdown",
   "metadata": {},
   "source": [
    "Now we can loop over the elements of the dictionary s to compare the functional and calculus-based approaches to error propagation methods. \n",
    "<--- comments on how to fomat print function --->"
   ]
  },
  {
   "cell_type": "code",
   "execution_count": 238,
   "metadata": {},
   "outputs": [
    {
     "name": "stdout",
     "output_type": "stream",
     "text": [
      "a = 1.0000, da = 0.0100 \n",
      "\n",
      "Z(A) \t Z(A+dA)-Z(A) \t |dZ/dA|alphaA\n",
      "\n",
      "1/x \t  0.009901 \t  0.010000 \t\n",
      "exp(x) \t  0.027319 \t  0.027183 \t\n",
      "ln x \t  0.009950 \t  0.010000 \t\n",
      "log x \t  0.004321 \t  0.004343 \t\n",
      "x**n \t  0.030301 \t  0.030000 \t\n",
      "10**x \t  0.232930 \t  0.230259 \t\n",
      "sin x \t  0.005361 \t  0.005403 \t\n",
      "cos x \t  0.008442 \t  0.008415 \t\n",
      "tan x \t  0.034798 \t  0.034255 \t\n"
     ]
    }
   ],
   "source": [
    "a = 1\n",
    "alpha_a = 0.01\n",
    "print('a = {0:.4f}, da = {1:.4f} \\n'.format(a, alpha_a))\n",
    "print('Z(A) \\t Z(A+dA)-Z(A) \\t |dZ/dA|alphaA\\n')\n",
    "\n",
    "for i_z in range(len(s['name'])):\n",
    "\n",
    "    alpha_z_fun = np.abs(s['Function'][i_z](a + alpha_a) - s['Function'][i_z](a))\n",
    "    alpha_z_cal = abs(s['derivative'][i_z](a) * alpha_a)\n",
    "    print('{0:s} \\t {1:9.6f} \\t {2:9.6f} \\t'.format(s['name'][i_z], alpha_z_fun, alpha_z_cal))"
   ]
  },
  {
   "cell_type": "markdown",
   "metadata": {},
   "source": [
    "<--- comments on how the data was generated ---> \n",
    "\n",
    "The lines below increase alphaA by a factor of ten, to alphaA = 0.1, and write the resulting error propagation values to TestTable.txt. Once you run these commands, you can view the results in a text editor; alternatively, you can view the file in the command window using the type statement."
   ]
  },
  {
   "cell_type": "code",
   "execution_count": 239,
   "metadata": {},
   "outputs": [],
   "source": [
    "\n",
    "# open a file and name it TestTable.text and give an aliase name f\n",
    "# TestTable.text will be open according to the indentation for 'with open(....) as f:'\n",
    "\n",
    "with open('TestTable.txt', 'w') as f:\n",
    "    a = 1\n",
    "    alpha_a = 0.1\n",
    "    \n",
    "    f.write('a = {0:.4f}, da = {1:.4f} \\n'.format(a, alpha_a))\n",
    "    f.write('Z(A) \\t Z(A+dA)-Z(A) \\t |dZ/dA|alphaA\\n')\n",
    "    \n",
    "    for i_z in range(len(s['name'])):\n",
    "\n",
    "        alpha_z_fun = np.abs(s['Function'][i_z](a + alpha_a) - s['Function'][i_z](a))\n",
    "        alpha_z_cal = abs(s['derivative'][i_z](a) * alpha_a)\n",
    "        f.write('{0:s} \\t {1:9.6f} \\t {2:9.6f} \\n'.format(s['name'][i_z], alpha_z_fun, alpha_z_cal))\n",
    "\n",
    "\n"
   ]
  },
  {
   "cell_type": "markdown",
   "metadata": {},
   "source": [
    "## 4.1.4 Worked example---single variable function\n",
    "Check the worked examples using s[:][6], defined above. The book discusses the functional and calculus-based approach for alpha_a = 0.1 and alpha_a = 0.4. The %5.1g format operator displays the input in floating-point format to one ''significant figure'', as appropriate for uncertainties (%5.1f will produce one digit after the decimal place, regardless of its significance)."
   ]
  },
  {
   "cell_type": "code",
   "execution_count": 240,
   "metadata": {},
   "outputs": [
    {
     "name": "stdout",
     "output_type": "stream",
     "text": [
      "z_bar = 199.5\n"
     ]
    }
   ],
   "source": [
    "a = 2.3\n",
    "z_bar = s['Function'][5](a)\n",
    "print('z_bar = {0:.1f}'.format(z_bar))"
   ]
  },
  {
   "cell_type": "code",
   "execution_count": 241,
   "metadata": {},
   "outputs": [
    {
     "name": "stdout",
     "output_type": "stream",
     "text": [
      "==================== alpha_a = 0.1 ====================\n",
      "Error, functional approach (alpha_a = 0.1)\n",
      "alpha_z = (-4e+01, 5e+01)\n",
      "Error, calculus-based approach (alpha = 0.1)\n",
      "alpha_z = (-5e+01, 5e+01)\n",
      "==================== alpha_a = 0.4 ====================\n",
      "Error, functional approach (alpha_a = 0.4)\n",
      "alpha_z = (-1e+02, 3e+02)\n",
      "Error, calculus-based approach (alpha = 0.4)\n",
      "alpha_z = (-2e+02, 2e+02)\n"
     ]
    }
   ],
   "source": [
    "alpha_a = [0.1, 0.4]\n",
    "for ind in range(len(alpha_a)):\n",
    "    print('='*20, 'alpha_a = {}'.format(alpha_a[ind]), '='*20)\n",
    "    alpha_z_fun_p = np.abs(s['Function'][5](a + alpha_a[ind]) - s['Function'][5](a))\n",
    "    alpha_z_fun_m = np.abs(s['Function'][5](a) - s['Function'][5](a - alpha_a[ind]))\n",
    "    alpha_z_cal = np.abs(s['derivative'][5](a) * alpha_a[ind])\n",
    "\n",
    "    print('Error, functional approach (alpha_a = {0:.1f})'.format(alpha_a[ind]))\n",
    "    print('alpha_z = ({0:5.1g}, {1:5.1g})'.format(-alpha_z_fun_m, alpha_z_fun_p))\n",
    "    print('Error, calculus-based approach (alpha = {0:.1f})'.format(alpha_a[ind]))\n",
    "\n",
    "    print('alpha_z = ({0:5.1g}, {1:5.1g})'.format(-alpha_z_cal, alpha_z_cal))\n"
   ]
  },
  {
   "cell_type": "markdown",
   "metadata": {},
   "source": [
    "## 4.2 Propagating the error through a multi-variable function\n",
    "## 4.2.1 The functional approach for multi-variable functions\n",
    "## 4.2.2 Worked example---functional approach for multi-variable functions\n",
    "Confirm the results from this section, using an anonymous function of ''two'' variables. In this example, note the scope of the variables: a, b, and R are not defined as function variables, so the function inherits the values assigned to them in the base workspace. Note also that the function is vectorized using element-wise multiplication and  division; these are both examples of a larger class of array operators. Finally, note the unit definitions included beside all of the constants, and that the anonymous function includes multiplication by $10^{-6}$ to convert the units from Pa to MPa.\n",
    "\n",
    "<-- describe Base workspace and vectorized ... -->"
   ]
  },
  {
   "cell_type": "code",
   "execution_count": 242,
   "metadata": {},
   "outputs": [
    {
     "name": "stdout",
     "output_type": "stream",
     "text": [
      "P(vm_bar, t_bar) = 11.882 MPa\n"
     ]
    }
   ],
   "source": [
    "vm_bar = 2.000e-4        # m^3/mol\n",
    "alpha_v = 0.003e-4\n",
    "\n",
    "t_bar = 298.0                  # K\n",
    "alpha_t = 0.2\n",
    "\n",
    "a = 1.408e-1             # (m^6 Pa)/mol^2\n",
    "b = 3.913e-5              # m^3/mol\n",
    "R = 8.3145                     # J/K = (m^3 Pa)/K\n",
    "\n",
    "p_fun = lambda vm, t: 1e-6 * (R*t/(vm - b) - a / vm**2)\n",
    "\n",
    "\n",
    "print('P(vm_bar, t_bar) = {0:.3f} MPa'.format(p_fun(vm_bar, t_bar)))\n",
    "\n"
   ]
  },
  {
   "cell_type": "markdown",
   "metadata": {},
   "source": [
    "Vectorizing the function can simplify the code. Here, we form the vectors $[\\bar{V}_m, \\bar{V}_m + \\alpha_V]$  and $[\\bar{T}_m, \\bar{T}_m + \\alpha_T]$ and use the diff function to find differences in the function evaluations."
   ]
  },
  {
   "cell_type": "code",
   "execution_count": 243,
   "metadata": {},
   "outputs": [
    {
     "name": "stdout",
     "output_type": "stream",
     "text": [
      "alphaPT = 0.010 MPa, \t alphaPV = 0.018 MPa, \t alphaP = 0.021 MPa\n",
      "\n"
     ]
    }
   ],
   "source": [
    "vm_range = vm_bar + np.array([0, 1]) * alpha_v\n",
    "t_range = t_bar + np.array([0, 1]) * alpha_t\n",
    "\n",
    "alpha_pt = np.abs(np.diff(p_fun(vm_bar, t_range)))\n",
    "alpha_pv = np.abs(np.diff(p_fun(vm_range, t_bar)))\n",
    "alpha_p = np.sqrt(alpha_pt**2 + alpha_pv**2)\n",
    "\n",
    "print('alphaPT = {0:.3f} MPa, \\t alphaPV = {1:.3f} MPa, \\t alphaP = {2:.3f} MPa\\n'.format(alpha_pt[0], alpha_pv[0], alpha_p[0]))\n",
    "\n",
    "\n"
   ]
  },
  {
   "cell_type": "markdown",
   "metadata": {},
   "source": [
    "## 4.2.3 A calculus approximation for multi-variable functions\n",
    "## 4.2.4 A look-up table for multi-variable functions\n",
    "Practice your multivariable error propagation skills by using Eq. 4.16 to reproduce each line in Table 4.2 by direct calculation.\n",
    "4.2.5 Comparison of methods\n",
    "Confirm the results of this section. Note that the error is given as a percentage of the measured value.\n",
    "\n",
    "## 4.2.5 Comparison of methods\n",
    "Confirm the results of this section. Note that the error is given as a percentage of the measured value."
   ]
  },
  {
   "cell_type": "code",
   "execution_count": 244,
   "metadata": {},
   "outputs": [
    {
     "name": "stdout",
     "output_type": "stream",
     "text": [
      "z_bar = 0.852\n"
     ]
    }
   ],
   "source": [
    "z_fun = lambda A, B: (A - B) / (A + B)\n",
    "a_bar = 1000          # Dimensionless\n",
    "b_bar = 80\n",
    "\n",
    "alpha_a = 0.01 * a_bar\n",
    "alpha_b = 0.01 * b_bar\n",
    "\n",
    "a_range = a_bar + np.array([0, 1]) * alpha_a\n",
    "b_range = b_bar + np.array([0, 1]) * alpha_b\n",
    "\n",
    "z_bar = z_fun(a_bar, b_bar)\n",
    "\n",
    "print('z_bar = {:.3f}'.format(z_bar))"
   ]
  },
  {
   "cell_type": "code",
   "execution_count": 245,
   "metadata": {},
   "outputs": [
    {
     "name": "stdout",
     "output_type": "stream",
     "text": [
      "alpha_z_calc = 0.00194, \t alpha_z_func = 0.00193 \n",
      "\n"
     ]
    }
   ],
   "source": [
    "dz_da = lambda A, B: 2 * B / (A + B)**2\n",
    "dz_db = lambda A, B: - 2 * A / (A + B)**2\n",
    "\n",
    "alpha_z_calc = np.sqrt((dz_da(a_bar, b_bar) * alpha_a)**2 + (dz_db(a_bar, b_bar)*alpha_b)**2)\n",
    "alpha_z_fun = np.sqrt((np.diff(z_fun(a_range, b_bar)))**2 + (np.diff(z_fun(a_bar, b_range)))**2)\n",
    "\n",
    "print('alpha_z_calc = {:.5f}, \\t alpha_z_func = {:.5f} \\n'.format(alpha_z_calc, alpha_z_fun[0]))"
   ]
  },
  {
   "cell_type": "markdown",
   "metadata": {},
   "source": [
    "## 4.2.6 Percentage errors---dominant error\n",
    "This is an important idea for any experimentalist: find the ''dominant'' error and focus on it. Uncertainties add in quadrature: $\\alpha _Z = \\sqrt{\\alpha_A^2 + \\alpha_B^2}$ for $Z=A\\pm B$, so if $\\alpha_A = 2\\alpha_B$ the square operation makes it ''four times'' more important to $\\alpha_Z$. Confirm this using the example in this section. Let *alpha_rel* be a vector of the relative uncertainties for four quantities, and compute the uncertainty in their product by taking the square root of the sum of their squares. Confirm that reducing the first source of uncertainty is more important than reducing the second."
   ]
  },
  {
   "cell_type": "code",
   "execution_count": 246,
   "metadata": {},
   "outputs": [
    {
     "name": "stdout",
     "output_type": "stream",
     "text": [
      "Initial: 0.05292 \n",
      "\n"
     ]
    }
   ],
   "source": [
    "alpha_rel = np.array([5, 1, 1, 1]) * 0.01\n",
    "alpha_tot = np.sqrt(np.sum(alpha_rel**2))\n",
    "print('Initial: {:.5f} \\n'.format(alpha_tot))"
   ]
  },
  {
   "cell_type": "code",
   "execution_count": 247,
   "metadata": {},
   "outputs": [
    {
     "name": "stdout",
     "output_type": "stream",
     "text": [
      "Reduce first term: 0.03041 \n",
      "\n"
     ]
    }
   ],
   "source": [
    "alpha_rel = np.array([5/2, 1, 1, 1]) * 0.01\n",
    "alpha_tot = np.sqrt(np.sum(alpha_rel**2))\n",
    "print('Reduce first term: {:.5f} \\n'.format(alpha_tot))"
   ]
  },
  {
   "cell_type": "code",
   "execution_count": 248,
   "metadata": {},
   "outputs": [
    {
     "name": "stdout",
     "output_type": "stream",
     "text": [
      "Reduce second term: 0.05220 \n",
      "\n"
     ]
    }
   ],
   "source": [
    "alpha_rel = np.array([5, 1/2, 1, 1]) * 0.01\n",
    "alpha_tot = np.sqrt(np.sum(alpha_rel**2))\n",
    "print('Reduce second term: {:.5f} \\n'.format(alpha_tot))\n",
    "\n"
   ]
  },
  {
   "cell_type": "markdown",
   "metadata": {},
   "source": [
    "## 4.2.7 Using the look-up tables\n",
    "## 4.2.8 Using the look-up tables---health warning\n",
    "We can illustrate the conclusions of this section with a simulation. Use the random number generator to simulate the results of n_mc = 1000 measurements of $A$, $B$, and $Z$, with $Z = (A - B)/(A + B)$, and confirm that the standard deviation of $Z$ is consistent with $\\alpha_Z\\approx 0.002$ calculated above."
   ]
  },
  {
   "cell_type": "code",
   "execution_count": 249,
   "metadata": {},
   "outputs": [
    {
     "name": "stdout",
     "output_type": "stream",
     "text": [
      "std_z = 0.00195, \t alpha_z_calc 0.00194\n"
     ]
    }
   ],
   "source": [
    "np.random.seed(7)\n",
    "\n",
    "n_mc = 1000\n",
    "\n",
    "a_mc = a_bar + alpha_a * np.random.randn(n_mc, 1)\n",
    "b_mc = b_bar + alpha_b * np.random.randn(n_mc, 1)\n",
    "z_mc = z_fun(a_mc, b_mc)\n",
    "\n",
    "std_z = np.std(z_mc, ddof=1)\n",
    "print('std_z = {:.5f}, \\t alpha_z_calc {:.5f}'.format(std_z, alpha_z_calc))"
   ]
  },
  {
   "cell_type": "markdown",
   "metadata": {},
   "source": [
    "Now plot $A - B$ versus $A + B$ to demonstrate that they are correlated. To understand why, note that $\\alpha_A = 10$ and $\\alpha_A = 0.8$, so the scatterplot of $B$ versus $A$ is much narrower along  than along ---set the axis limits to have the same width to show this clearly. The plot of $A - B$ versus $A + B$ just rotates the distribution by 45 degrees."
   ]
  },
  {
   "cell_type": "code",
   "execution_count": 250,
   "metadata": {},
   "outputs": [
    {
     "data": {
      "text/plain": [
       "Text(0, 0.5, 'A-B')"
      ]
     },
     "execution_count": 250,
     "metadata": {},
     "output_type": "execute_result"
    },
    {
     "data": {
      "image/png": "[encoded data removed]",
      "text/plain": [
       "<Figure size 432x288 with 1 Axes>"
      ]
     },
     "metadata": {
      "needs_background": "light"
     },
     "output_type": "display_data"
    }
   ],
   "source": [
    "plt.plot(a_mc + b_mc, a_mc - b_mc, '.')\n",
    "plt.xlabel('A+B')\n",
    "plt.ylabel('A-B', rotation=0, labelpad=20)"
   ]
  },
  {
   "cell_type": "code",
   "execution_count": 251,
   "metadata": {},
   "outputs": [
    {
     "name": "stdout",
     "output_type": "stream",
     "text": [
      "(1000, 1) (1000, 1)\n"
     ]
    },
    {
     "data": {
      "text/plain": [
       "(40, 120)"
      ]
     },
     "execution_count": 251,
     "metadata": {},
     "output_type": "execute_result"
    },
    {
     "data": {
      "image/png": "[encoded data removed]",
      "text/plain": [
       "<Figure size 432x288 with 1 Axes>"
      ]
     },
     "metadata": {
      "needs_background": "light"
     },
     "output_type": "display_data"
    }
   ],
   "source": [
    "print(a_mc.shape, b_mc.shape)\n",
    "plt.plot(a_mc, b_mc, '.')\n",
    "plt.xlabel('A')\n",
    "plt.ylabel('B', rotation=0, labelpad=20)\n",
    "plt.ylim([40, 120])"
   ]
  },
  {
   "cell_type": "markdown",
   "metadata": {},
   "source": [
    "The scatterhist plot function in the Statistics and Machine Learning Toolbox makes the point of this section even more clearly."
   ]
  },
  {
   "cell_type": "code",
   "execution_count": 266,
   "metadata": {},
   "outputs": [
    {
     "data": {
      "image/png": "[encoded data removed]",
      "text/plain": [
       "<Figure size 432x288 with 3 Axes>"
      ]
     },
     "metadata": {
      "needs_background": "light"
     },
     "output_type": "display_data"
    }
   ],
   "source": [
    "\n",
    "\n",
    "scatter_axes = plt.subplot2grid((3, 3), (0, 1), rowspan=2, colspan=2)\n",
    "plt.xlabel('X')\n",
    "plt.ylabel('Y')\n",
    "\n",
    "\n",
    "x_hist_axes = plt.subplot2grid((3, 3), (2, 1), colspan=2,\n",
    "                               sharex=scatter_axes)\n",
    "plt.axis('off')\n",
    "\n",
    "y_hist_axes = plt.subplot2grid((3, 3), (0, 0), rowspan=2,\n",
    "                               sharey=scatter_axes)\n",
    "plt.axis('off')\n",
    "\n",
    "scatter_axes.plot(a_mc + b_mc, a_mc - b_mc, '.')\n",
    "plt.axis('off')\n",
    "x_hist_axes.hist(a_mc + b_mc, bins=15)\n",
    "\n",
    "y_hist_axes.hist(a_mc - b_mc, orientation='horizontal', bins=15)\n",
    "\n",
    "\n",
    "# adjust spacing between subplots to minimize the overlaps\n",
    "plt.tight_layout()"
   ]
  },
  {
   "cell_type": "markdown",
   "metadata": {},
   "source": [
    "The scatterplots show that large values of $A - B$ are correlated with large values of $A + B$; this makes the fluctuations in the ratio $Z= (A - B)/(A + B)$ ''smaller'' than what they would be if the numerator and denominator were uncorrelated. We can confirm this with another simulation: let $Z^\\prime = X/Y$, where $\\bar{X} = \\bar{A} - \\bar{B}$, $\\alpha_X=\\alpha_{A - B}$, $\\bar{Y} = \\bar{A} + \\bar{B}$ , $\\alpha_Y = \\alpha_{A + B}$, but $X$ and $Y$ are ''uncorrelated''."
   ]
  },
  {
   "cell_type": "code",
   "execution_count": 273,
   "metadata": {},
   "outputs": [
    {
     "name": "stdout",
     "output_type": "stream",
     "text": [
      "std_z_prime = 0.01205, \t alpha_z_prime = 0.012202\n"
     ]
    }
   ],
   "source": [
    "x_bar = a_bar - b_bar\n",
    "y_bar = a_bar + b_bar\n",
    "alpha_x = np.sqrt(alpha_a**2 + alpha_b**2)\n",
    "alpha_y = np.sqrt(alpha_a**2 + alpha_b**2)\n",
    "alpha_z_prime = z_bar * np.sqrt((alpha_x/x_bar)**2 + (alpha_y/y_bar)**2)\n",
    "\n",
    "x_mc = x_bar + alpha_x * np.random.randn(n_mc, 1)\n",
    "y_mc = y_bar + alpha_y * np.random.randn(n_mc, 1)\n",
    "z_prime_mc = x_mc / y_mc\n",
    "\n",
    "std_z_prime = np.std(z_prime_mc, ddof=1)\n",
    "\n",
    "print('std_z_prime = {:.5f}, \\t alpha_z_prime = {:.5}'.format(std_z_prime, alpha_z_prime))"
   ]
  },
  {
   "cell_type": "code",
   "execution_count": 274,
   "metadata": {},
   "outputs": [
    {
     "data": {
      "image/png": "[encoded data removed]",
      "text/plain": [
       "<Figure size 432x288 with 3 Axes>"
      ]
     },
     "metadata": {
      "needs_background": "light"
     },
     "output_type": "display_data"
    }
   ],
   "source": [
    "scatter_axes = plt.subplot2grid((3, 3), (0, 1), rowspan=2, colspan=2)\n",
    "plt.xlabel('X')\n",
    "plt.ylabel('Y')\n",
    "\n",
    "\n",
    "x_hist_axes = plt.subplot2grid((3, 3), (2, 1), colspan=2,\n",
    "                               sharex=scatter_axes)\n",
    "plt.axis('off')\n",
    "\n",
    "y_hist_axes = plt.subplot2grid((3, 3), (0, 0), rowspan=2,\n",
    "                               sharey=scatter_axes)\n",
    "plt.axis('off')\n",
    "\n",
    "scatter_axes.plot(x_mc, y_mc, '.')\n",
    "plt.axis('off')\n",
    "x_hist_axes.hist(x_mc, bins=15)\n",
    "\n",
    "y_hist_axes.hist(y_mc, orientation='horizontal', bins=15)\n",
    "\n",
    "\n",
    "# adjust spacing between subplots to minimize the overlaps\n",
    "plt.tight_layout()"
   ]
  },
  {
   "cell_type": "code",
   "execution_count": 285,
   "metadata": {},
   "outputs": [
    {
     "data": {
      "text/plain": [
       "<matplotlib.legend.Legend at 0x7f768bbd6f28>"
      ]
     },
     "execution_count": 285,
     "metadata": {},
     "output_type": "execute_result"
    },
    {
     "data": {
      "image/png": "[encoded data removed]",
      "text/plain": [
       "<Figure size 432x288 with 1 Axes>"
      ]
     },
     "metadata": {
      "needs_background": "light"
     },
     "output_type": "display_data"
    }
   ],
   "source": [
    "plt.hist(z_mc,range=(0.8, 0.9), bins=60, ec='black', alpha = 1)\n",
    "plt.hist(z_prime_mc,range=(0.8, 0.9), bins=60, ec='black', alpha = 0.6)\n",
    "plt.xlabel('Z')\n",
    "plt.ylabel('Frequency')\n",
    "plt.legend(['$Z$','$Z^\\prime$'])"
   ]
  },
  {
   "cell_type": "markdown",
   "metadata": {},
   "source": [
    "## 4.3 Propagating errors in functions---a summary\n",
    "## 4.4 Experimental strategy based on error analysis\n",
    "## 4.4.1 Experimental strategy for reducing the dominant error\n",
    "## 4.5 Combined experiments---the weighted mean\n",
    "Simulate the result of combining two consistent measurements to improve a result. In the first experiment, Alice performs five measurements of the acceleration of gravity with a pendulum, and reports the mean and standard error of her results."
   ]
  },
  {
   "cell_type": "code",
   "execution_count": 308,
   "metadata": {},
   "outputs": [
    {
     "name": "stdout",
     "output_type": "stream",
     "text": [
      "Alice measures: (9.795 +/- 0.005) m/s^2\n",
      "\n"
     ]
    }
   ],
   "source": [
    "g = 9.8     # m/s^2\n",
    "alpha_g = 0.01\n",
    "\n",
    "n1 = 5\n",
    "\n",
    "\n",
    "\n",
    "g_m_1 = g + alpha_g * np.random.randn(n1, 1)\n",
    "\n",
    "g_bar_1 = np.mean(g_m_1)\n",
    "g_err_1 = np.std(g_m_1,ddof=1) / np.sqrt(n1)\n",
    "\n",
    "print('{:s} measures: ({:.3f} +/- {:.3f}) m/s^2\\n'.format('Alice', g_bar_1, g_err_1))\n",
    "\n",
    "\n"
   ]
  },
  {
   "cell_type": "markdown",
   "metadata": {},
   "source": [
    "Now Bob does another five measurements. He also reports the mean and standard error of his results."
   ]
  },
  {
   "cell_type": "code",
   "execution_count": 309,
   "metadata": {},
   "outputs": [
    {
     "name": "stdout",
     "output_type": "stream",
     "text": [
      "Bob measures: (9.798 +/- 0.004) m/s^2\n",
      "\n"
     ]
    }
   ],
   "source": [
    "n2 = 5\n",
    "\n",
    "g_m_2 = g + alpha_g * np.random.randn(n2, 1)\n",
    "\n",
    "g_bar_2 = np.mean(g_m_2)\n",
    "g_err_2 = np.std(g_m_2,ddof=1) / np.sqrt(n2)\n",
    "\n",
    "print('{:s} measures: ({:.3f} +/- {:.3f}) m/s^2\\n'.format('Bob', g_bar_2, g_err_2))"
   ]
  },
  {
   "cell_type": "markdown",
   "metadata": {},
   "source": [
    "The standard errors are different, so to combine them we must take the weighted mean using (4.30), and use (4.32) to compute the combined standard error."
   ]
  },
  {
   "cell_type": "code",
   "execution_count": 310,
   "metadata": {},
   "outputs": [
    {
     "name": "stdout",
     "output_type": "stream",
     "text": [
      "The combined measurement is: (9.797 +/- 0.003) m/s^2\n",
      "\n"
     ]
    }
   ],
   "source": [
    "w_1 = 1 / g_err_1**2\n",
    "w_2 = 1 / g_err_2**2\n",
    "\n",
    "g_ce = (w_1*g_bar_1 +  w_2*g_bar_2) / (w_1 + w_2)\n",
    "g_err_ce = np.sqrt(1/(w_1 + w_2))\n",
    "\n",
    "print('The combined measurement is: ({:.3f} +/- {:.3f}) m/s^2\\n'.format(g_ce, g_err_ce))"
   ]
  },
  {
   "cell_type": "markdown",
   "metadata": {},
   "source": [
    "Of course we could also just take the mean and standard error of ''all'' of their measurements, since we have the raw data---the weighted mean is really only necessary if we must rely on the reported means and standard errors. The results of the two methods may be slightly different, but they should be close if the original measurements are limited only by statistical uncertainty."
   ]
  },
  {
   "cell_type": "code",
   "execution_count": 337,
   "metadata": {},
   "outputs": [
    {
     "name": "stdout",
     "output_type": "stream",
     "text": [
      "Alice data,  Bob data\n",
      " [[9.78739966 9.81639045]\n",
      " [9.80631734 9.80631728]\n",
      " [9.8018173  9.81182674]\n",
      " [9.8036643  9.78749767]\n",
      " [9.80049064 9.81041115]]\n",
      "Alice measures: (9.800 +/- 0.003) m/s^2\n",
      "\n",
      "Bob measures: (9.806 +/- 0.005) m/s^2\n",
      "\n"
     ]
    }
   ],
   "source": [
    "\n",
    "# this cell can be removed\n",
    "# using numpy features to do the above simulation\n",
    "n = 5\n",
    "# generage the data point for Alice and Bob in a 5x2 array\n",
    "\n",
    "g_m = g + alpha_g * np.random.randn(n, 2)\n",
    "print('Alice data,  Bob data\\n',g_m)\n",
    "\n",
    "# calculate the mean values for each person\n",
    "\n",
    "g_bar = np.mean(g_m, axis=0)\n",
    "\n",
    "\n",
    "# calculate the error for each person\n",
    "g_err = np.std(g_m, ddof=1, axis=0) / np.sqrt(n)\n",
    "\n",
    "names = ['Alice', 'Bob']\n",
    "for ind in range(len(names)):\n",
    "    print('{:s} measures: ({:.3f} +/- {:.3f}) m/s^2\\n'.format(names[ind], g_bar[ind], g_err[ind]))"
   ]
  },
  {
   "cell_type": "code",
   "execution_count": 338,
   "metadata": {},
   "outputs": [
    {
     "name": "stdout",
     "output_type": "stream",
     "text": [
      "Combining the raw data gives: (9.797 +/- 0.003) m/s^2\n",
      "\n"
     ]
    }
   ],
   "source": [
    "g_all = np.mean(np.array([g_m_1, g_m_2]))\n",
    "g_err_all = np.std(np.array([g_m_1, g_m_2]), ddof=1) / np.sqrt(n1 + n2)\n",
    "\n",
    "print('Combining the raw data gives: ({:.3f} +/- {:.3f}) m/s^2\\n'.format(g_all, g_err_all))"
   ]
  },
  {
   "cell_type": "markdown",
   "metadata": {},
   "source": [
    "## 4.5.1 The error in the mean---a special case of the weighted mean"
   ]
  },
  {
   "cell_type": "markdown",
   "metadata": {},
   "source": [
    "### Exercises\n",
    "#### 1 - Exercise (4.1)\n",
    "#### 2 - Exercise (4.4)\n",
    "#### 3 - Exercise (4.7)"
   ]
  },
  {
   "cell_type": "code",
   "execution_count": null,
   "metadata": {},
   "outputs": [],
   "source": []
  }
 ],
 "metadata": {
  "kernelspec": {
   "display_name": "Python 3",
   "language": "python",
   "name": "python3"
  },
  "language_info": {
   "codemirror_mode": {
    "name": "ipython",
    "version": 3
   },
   "file_extension": ".py",
   "mimetype": "text/x-python",
   "name": "python",
   "nbconvert_exporter": "python",
   "pygments_lexer": "ipython3",
   "version": "3.6.8"
  }
 },
 "nbformat": 4,
 "nbformat_minor": 2
}
