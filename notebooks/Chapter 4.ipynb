{
 "cells": [
  {
   "cell_type": "markdown",
   "metadata": {},
   "source": [
    "# Exercises for Hughes and Hase: Chapter 4\n",
    "\n",
    "Python activities to complement Measurements and their Uncertainties, Chapter 4, \"Error propagation.\" Section numbers in the book correspond to those listed below.\n",
    "\n",
    "<-- General comments on how to use Jupyter Notebook -->\n",
    "\n",
    "## 4.1 Propagating the error in a single-variable function\n",
    "\n",
    "Reproduce Fig. 4.1(a). The caption says that this shows Bragg's law for a silicon single crystal. This is incorrect: silicon has a room temperature lattice constant of $a = 0.5431$ nm, which gives $\\lambda = 2 a = 1.1$ nm for $\\theta = \\frac{\\pi}{2}$, as shown in the plot. But silicon's diamond structure suppresses Bragg scattering from planes with this spacing; Bragg scattering is allowed, however, for lattice planes $d=a/\\sqrt{3} = 0.3$ nm, which would give $\\lambda = 2 a/\\sqrt{2} = 0.63$  nm for $\\theta = \\frac{\\pi}{2}$ . We'll ignore this oversight so that we can compare results with the book."
   ]
  },
  {
   "cell_type": "code",
   "execution_count": 3,
   "metadata": {},
   "outputs": [
    {
     "data": {
      "text/plain": [
       "Text(80, 0.8, '(a)')"
      ]
     },
     "execution_count": 3,
     "metadata": {},
     "output_type": "execute_result"
    },
    {
     "data": {
      "image/png": "[encoded data removed]",
      "text/plain": [
       "<Figure size 432x288 with 1 Axes>"
      ]
     },
     "metadata": {
      "needs_background": "light"
     },
     "output_type": "display_data"
    }
   ],
   "source": [
    "# import numpy library and name it \"np\".\n",
    "import numpy as np\n",
    "# import matplotlib.pyplot and name it \"plt\"\n",
    "import matplotlib.pyplot as plt\n",
    "\n",
    "d = 0.5431 # (nm)\n",
    "theta_rad = np.linspace(0, np.pi) # Python uses radians for angles\n",
    "theta_deg = np.degrees(theta_rad)\n",
    "\n",
    "plt.plot(theta_deg, 2*d*np.sin(theta_rad), 'k-')\n",
    "plt.xlabel('Angle (degrees)')\n",
    "plt.xlim(0, 90)\n",
    "plt.ylabel('$\\lambda$ (nm)')\n",
    "plt.text(80, 0.8, '(a)')"
   ]
  },
  {
   "cell_type": "markdown",
   "metadata": {},
   "source": [
    "## 4.1.1 The functional approach for single-variable functions\n",
    "Consider a fixed angular uncertainty of $\\alpha_{\\theta}=0.05^\\circ$."
   ]
  },
  {
   "cell_type": "code",
   "execution_count": 4,
   "metadata": {},
   "outputs": [],
   "source": [
    "alpha_theta_deg = 0.05\n",
    "alpha_theta_rad = np.deg2rad(alpha_theta_deg)"
   ]
  },
  {
   "cell_type": "markdown",
   "metadata": {},
   "source": [
    "Confirm the wavelength uncertainties given in the text."
   ]
  },
  {
   "cell_type": "code",
   "execution_count": 5,
   "metadata": {},
   "outputs": [
    {
     "name": "stdout",
     "output_type": "stream",
     "text": [
      "[0.9155 0.2449]\n"
     ]
    }
   ],
   "source": [
    "theta_eval_deg = np.array([15, 75])\n",
    "theta_eval_rad = np.deg2rad(theta_eval_deg)\n",
    "\n",
    "alpha_lambda = 2*d*(np.sin(theta_eval_rad + alpha_theta_rad) - np.sin(theta_eval_rad))\n",
    "\n",
    "\n",
    "print(np.around(1e3 * alpha_lambda, decimals=4)) # Display in units of pm"
   ]
  },
  {
   "cell_type": "markdown",
   "metadata": {},
   "source": [
    "Reproduce Fig. 4.1(b) for $\\bar{\\theta} = 75^{\\circ}$, where the $\\sin$ function is more nonlinear. \n",
    "<-- comments on how to plot in Python --> "
   ]
  },
  {
   "cell_type": "code",
   "execution_count": 6,
   "metadata": {},
   "outputs": [
    {
     "name": "stdout",
     "output_type": "stream",
     "text": [
      "[75.   74.95 75.05] [1.04918863 1.0489429  1.04943356]\n",
      "(1.0485114744077384, 1.0498607968568938)\n"
     ]
    },
    {
     "data": {
      "text/plain": [
       "[Text(0, 0, '$\\\\bar{\\\\theta}$'),\n",
       " Text(0, 0, '$\\\\bar{\\\\theta} -\\\\alpha_\\\\theta $'),\n",
       " Text(0, 0, '$\\\\bar{\\\\theta} + \\\\alpha_\\\\theta $')]"
      ]
     },
     "execution_count": 6,
     "metadata": {},
     "output_type": "execute_result"
    },
    {
     "data": {
      "image/png": "[encoded data removed]",
      "text/plain": [
       "<Figure size 432x288 with 1 Axes>"
      ]
     },
     "metadata": {
      "needs_background": "light"
     },
     "output_type": "display_data"
    }
   ],
   "source": [
    "theta_bar_deg = theta_eval_deg[1]\n",
    "theta_bar_rad = np.deg2rad(theta_bar_deg)\n",
    "theta_interval_deg = theta_bar_deg+alpha_theta_deg*np.array([-1,1])\n",
    "theta_interval_rad = np.deg2rad(theta_interval_deg)\n",
    "theta_lim = theta_bar_deg + 2.5*alpha_theta_deg*np.array([-1,1])\n",
    "theta_deg = np.linspace(theta_lim[0],theta_lim[1])\n",
    "theta_rad = np.deg2rad(theta_deg)\n",
    "\n",
    "# Plot theory curve\n",
    "\n",
    "plt.plot(theta_deg, 2*d*np.sin(theta_rad), 'k-')\n",
    "plt.xlim(theta_lim)\n",
    "\n",
    "# Place closed marker at measurement point\n",
    "plt.plot(theta_bar_deg, 2*d*np.sin(theta_bar_rad), 'ko')\n",
    "# Place open markers at uncertainty limits\n",
    "plt.plot(theta_interval_deg, 2*d*np.sin(theta_interval_rad), 'ko', mfc='none')\n",
    "\n",
    "# Connect markers with axes with dashed lines\n",
    "marker_position_x = np.insert(theta_interval_deg, 0, theta_bar_deg)\n",
    "\n",
    "marker_position_y = 2*d*np.sin(np.insert(theta_interval_rad, 0, theta_bar_rad))\n",
    "lambda_lim = plt.gca().get_ylim()\n",
    "print(marker_position_x, marker_position_y)\n",
    "print(plt.gca().get_ylim())\n",
    "\n",
    "\n",
    "for i_marker in range(3):\n",
    "    v_line_x = marker_position_x[i_marker]*np.array([1, 1])\n",
    "\n",
    "    v_line_y = np.array([lambda_lim[0], marker_position_y[i_marker]])\n",
    "    h_line_x = np.array([theta_lim[0], marker_position_x[i_marker]])\n",
    "    h_line_y = marker_position_y[i_marker]*np.array([1, 1])\n",
    "\n",
    "    plt.plot(h_line_x, h_line_y, 'k--', v_line_x, v_line_y, 'k--')\n",
    "    \n",
    "plt.gca().set_yticks(marker_position_y)\n",
    "plt.gca().set_yticklabels(['$\\\\bar{\\lambda}$', '$\\\\bar{\\lambda} -\\\\alpha_\\lambda $', '$\\\\bar{\\lambda} + \\\\alpha_\\lambda $'])\n",
    "\n",
    "plt.gca().set_xticks(marker_position_x)\n",
    "plt.gca().set_xticklabels(['$\\\\bar{\\\\theta}$', '$\\\\bar{\\\\theta} -\\\\alpha_\\\\theta $', '$\\\\bar{\\\\theta} + \\\\alpha_\\\\theta $'])\n",
    "\n"
   ]
  },
  {
   "cell_type": "markdown",
   "metadata": {},
   "source": [
    "## 4.1.2 A calculus-based approximation for single-variable functions\n",
    "Compare the calculus-based method with the functional approach for the Bragg's law example."
   ]
  },
  {
   "cell_type": "code",
   "execution_count": 7,
   "metadata": {},
   "outputs": [],
   "source": [
    "alpha_lambda_calc = np.abs(2*d*np.cos(theta_eval_rad)) * alpha_theta_rad"
   ]
  },
  {
   "cell_type": "code",
   "execution_count": 8,
   "metadata": {},
   "outputs": [
    {
     "name": "stdout",
     "output_type": "stream",
     "text": [
      "Uncertainty, functional approach (pm):\n",
      "[0.9155 0.2449]\n"
     ]
    }
   ],
   "source": [
    "print('Uncertainty, functional approach (pm):')\n",
    "print(np.around(1e3 * alpha_lambda, decimals=4))"
   ]
  },
  {
   "cell_type": "code",
   "execution_count": 9,
   "metadata": {},
   "outputs": [
    {
     "name": "stdout",
     "output_type": "stream",
     "text": [
      "Uncertainty, calculus-based approximation (pm):\n",
      "[0.9156 0.2453]\n"
     ]
    }
   ],
   "source": [
    "print('Uncertainty, calculus-based approximation (pm):')\n",
    "print(np.around(1e3 * alpha_lambda_calc, decimals=4))"
   ]
  },
  {
   "cell_type": "markdown",
   "metadata": {},
   "source": [
    "Increase angular uncertainty by a factor of 100, from 0.05 degrees to 5 degrees, and compare again. Note that the calculus-based estimate overestimates the uncertainty because the sin function is sub-linear---that is, as the argument increases, the slope decreases."
   ]
  },
  {
   "cell_type": "code",
   "execution_count": 10,
   "metadata": {},
   "outputs": [],
   "source": [
    "alpha_theta_deg = 100 * 0.05\n",
    "alpha_theta_rad = np.deg2rad(alpha_theta_deg)\n",
    "\n",
    "alpha_lambda = 2*d*(np.sin(theta_eval_rad + alpha_theta_rad) - np.sin(theta_eval_rad))\n",
    "alpha_lambda_calc = np.abs(2*d*np.cos(theta_eval_rad)) * alpha_theta_rad"
   ]
  },
  {
   "cell_type": "code",
   "execution_count": 11,
   "metadata": {},
   "outputs": [
    {
     "name": "stdout",
     "output_type": "stream",
     "text": [
      "Uncertainty, functional approach (pm):\n",
      "[90.373  20.5095]\n"
     ]
    }
   ],
   "source": [
    "print('Uncertainty, functional approach (pm):')\n",
    "print(np.around(1e3 * alpha_lambda, decimals=4))"
   ]
  },
  {
   "cell_type": "code",
   "execution_count": 12,
   "metadata": {},
   "outputs": [
    {
     "name": "stdout",
     "output_type": "stream",
     "text": [
      "Uncertainty, calculus-based approximation (pm):\n",
      "[91.559  24.5332]\n"
     ]
    }
   ],
   "source": [
    "print('Uncertainty, calculus-based approximation (pm):')\n",
    "print(np.around(1e3 * alpha_lambda_calc, decimals=4))"
   ]
  },
  {
   "cell_type": "markdown",
   "metadata": {},
   "source": [
    "## 4.1.3 Look-up table for common single-variable functions\n",
    "Let's continue this comparison for the functions shown in Table 4.1. Set $A = 1$ and $\\alpha_A = 0.01$ , and calculate $\\alpha_Z$ using both the functional approach and the calculus-based approach. It's convenient to put this in a loop, where the function changes in each iteration but otherwise the calculation is the same. \n",
    "\n",
    "<--- need to be modified |\n",
    "We can do this using two new MATLAB programming concepts: structures and anonymous functions.\n",
    "\n",
    "Let's start with structures , which are a way to store data of different types in a single array. We'll begin by making a structure array S that contains the function names in the field name. | --->"
   ]
  },
  {
   "cell_type": "code",
   "execution_count": 13,
   "metadata": {},
   "outputs": [
    {
     "name": "stdout",
     "output_type": "stream",
     "text": [
      "{'name': ['1/x', 'exp(x)', 'ln x', 'log x', 'x**n', '10**x', 'sin x', 'cos x', 'tan x']}\n",
      "1/x\n"
     ]
    }
   ],
   "source": [
    "s = {'name': ['1/x', 'exp(x)', 'ln x', 'log x', 'x**n', '10**x', 'sin x', 'cos x', 'tan x']}\n",
    "print(s)\n",
    "print(s['name'][0])"
   ]
  },
  {
   "cell_type": "markdown",
   "metadata": {},
   "source": [
    "<--- comments on Python Dictionary and lambda function ---> "
   ]
  },
  {
   "cell_type": "code",
   "execution_count": 14,
   "metadata": {},
   "outputs": [
    {
     "name": "stdout",
     "output_type": "stream",
     "text": [
      "1 1.0\n",
      "2 0.5\n",
      "3 0.3333333333333333\n"
     ]
    }
   ],
   "source": [
    "zFun = lambda x: 1./x\n",
    "for i in range(1, 4):\n",
    "    print(i, zFun(i))"
   ]
  },
  {
   "cell_type": "markdown",
   "metadata": {},
   "source": [
    "Now we can define new fields in s, function and derivative, that contain anonymous functions for the function and its derivative. We choose $n = 3$ for the function $Z(A) = A^n$."
   ]
  },
  {
   "cell_type": "code",
   "execution_count": 21,
   "metadata": {},
   "outputs": [
    {
     "name": "stdout",
     "output_type": "stream",
     "text": [
      "s['Function'] = [lambda x: 1./x, \n",
      "                 lambda x: np.exp(x), \n",
      "                 lambda x: np.log(x),\n",
      "                 lambda x: np.log10(x),\n",
      "                 lambda x: x**3,\n",
      "                 lambda x: 10**x, \n",
      "                 lambda x: np.sin(x),\n",
      "                 lambda x: np.cos(x), \n",
      "                 lambda x: np.tan(x)]\n",
      "\n",
      "0.5\n"
     ]
    }
   ],
   "source": [
    "import inspect\n",
    "s['Function'] = [lambda x: 1./x, \n",
    "                 lambda x: np.exp(x), \n",
    "                 lambda x: np.log(x),\n",
    "                 lambda x: np.log10(x),\n",
    "                 lambda x: x**3,\n",
    "                 lambda x: 10**x, \n",
    "                 lambda x: np.sin(x),\n",
    "                 lambda x: np.cos(x), \n",
    "                 lambda x: np.tan(x)]\n",
    "\n",
    "print(inspect.getsource(s['Function'][0]))\n",
    "\n",
    "s['derivative'] = [lambda x: - 1./x**2, \n",
    "                   lambda x: np.exp(x), \n",
    "                   lambda x: 1./x,\n",
    "                   lambda x: 1./(np.log(10)*x),\n",
    "                   lambda x: 3*x**2,\n",
    "                   lambda x: 10**x*np.log(10), \n",
    "                   lambda x: np.cos(x),\n",
    "                   lambda x: - np.sin(x), \n",
    "                   lambda x: 1 + np.tan(x)**2]\n",
    "\n",
    "print(s['Function'][0](2))"
   ]
  },
  {
   "cell_type": "markdown",
   "metadata": {},
   "source": [
    "The dictionary now has three fields, and two of the fields contain anonymous functions. Each field conatians a list of nine elements. "
   ]
  },
  {
   "cell_type": "code",
   "execution_count": 22,
   "metadata": {},
   "outputs": [
    {
     "name": "stdout",
     "output_type": "stream",
     "text": [
      "dict_keys(['name', 'Function', 'derivative'])\n"
     ]
    }
   ],
   "source": [
    "print(s.keys())"
   ]
  },
  {
   "cell_type": "code",
   "execution_count": 23,
   "metadata": {},
   "outputs": [
    {
     "name": "stdout",
     "output_type": "stream",
     "text": [
      "s['Function'] = [lambda x: 1./x, \n",
      "                 lambda x: np.exp(x), \n",
      "                 lambda x: np.log(x),\n",
      "                 lambda x: np.log10(x),\n",
      "                 lambda x: x**3,\n",
      "                 lambda x: 10**x, \n",
      "                 lambda x: np.sin(x),\n",
      "                 lambda x: np.cos(x), \n",
      "                 lambda x: np.tan(x)]\n",
      "\n",
      "s['derivative'] = [lambda x: - 1./x**2, \n",
      "                   lambda x: np.exp(x), \n",
      "                   lambda x: 1./x,\n",
      "                   lambda x: 1./(np.log(10)*x),\n",
      "                   lambda x: 3*x**2,\n",
      "                   lambda x: 10**x*np.log(10), \n",
      "                   lambda x: np.cos(x),\n",
      "                   lambda x: - np.sin(x), \n",
      "                   lambda x: 1 + np.tan(x)**2]\n",
      "\n"
     ]
    }
   ],
   "source": [
    "import inspect\n",
    "print(inspect.getsource(s['Function'][0]))\n",
    "print(inspect.getsource(s['derivative'][0]))"
   ]
  },
  {
   "cell_type": "markdown",
   "metadata": {},
   "source": [
    "Now we can loop over the elements of the dictionary s to compare the functional and calculus-based approaches to error propagation methods. \n",
    "<--- comments on how to fomat print function --->"
   ]
  },
  {
   "cell_type": "code",
   "execution_count": 29,
   "metadata": {},
   "outputs": [
    {
     "name": "stdout",
     "output_type": "stream",
     "text": [
      "a = 1.0000, da = 0.0100 \n",
      "\n",
      "Z(A) \t Z(A+dA)-Z(A) \t |dZ/dA|alphaA\n",
      "\n",
      "1/x \t  0.009901 \t  0.010000 \t\n",
      "exp(x) \t  0.027319 \t  0.027183 \t\n",
      "ln x \t  0.009950 \t  0.010000 \t\n",
      "log x \t  0.004321 \t  0.004343 \t\n",
      "x**n \t  0.030301 \t  0.030000 \t\n",
      "10**x \t  0.232930 \t  0.230259 \t\n",
      "sin x \t  0.005361 \t  0.005403 \t\n",
      "cos x \t  0.008442 \t  0.008415 \t\n",
      "tan x \t  0.034798 \t  0.034255 \t\n"
     ]
    }
   ],
   "source": [
    "a = 1\n",
    "alpha_a = 0.01\n",
    "print('a = {0:.4f}, da = {1:.4f} \\n'.format(a, alpha_a))\n",
    "print('Z(A) \\t Z(A+dA)-Z(A) \\t |dZ/dA|alphaA\\n')\n",
    "\n",
    "for i_z in range(len(s['name'])):\n",
    "\n",
    "    alpha_z_fun = np.abs(s['Function'][i_z](a + alpha_a) - s['Function'][i_z](a))\n",
    "    alpha_z_cal = abs(s['derivative'][i_z](a) * alpha_a)\n",
    "    print('{0:s} \\t {1:9.6f} \\t {2:9.6f} \\t'.format(s['name'][i_z], alpha_z_fun, alpha_z_cal))"
   ]
  },
  {
   "cell_type": "markdown",
   "metadata": {},
   "source": [
    "<--- comments on how the data was generated ---> \n",
    "\n",
    "The lines below increase alphaA by a factor of ten, to alphaA = 0.1, and write the resulting error propagation values to TestTable.txt. Once you run these commands, you can view the results in a text editor; alternatively, you can view the file in the command window using the type statement."
   ]
  },
  {
   "cell_type": "code",
   "execution_count": 34,
   "metadata": {},
   "outputs": [],
   "source": [
    "\n",
    "# open a file and name it TestTable.text and give an aliase name f\n",
    "# TestTable.text will be open according to the indentation for 'with open(....) as f:'\n",
    "\n",
    "with open('TestTable.txt', 'w') as f:\n",
    "    a = 1\n",
    "    alpha_a = 0.1\n",
    "    \n",
    "    f.write('a = {0:.4f}, da = {1:.4f} \\n'.format(a, alpha_a))\n",
    "    f.write('Z(A) \\t Z(A+dA)-Z(A) \\t |dZ/dA|alphaA\\n')\n",
    "    \n",
    "    for i_z in range(len(s['name'])):\n",
    "\n",
    "        alpha_z_fun = np.abs(s['Function'][i_z](a + alpha_a) - s['Function'][i_z](a))\n",
    "        alpha_z_cal = abs(s['derivative'][i_z](a) * alpha_a)\n",
    "        f.write('{0:s} \\t {1:9.6f} \\t {2:9.6f} \\n'.format(s['name'][i_z], alpha_z_fun, alpha_z_cal))\n",
    "\n",
    "\n"
   ]
  },
  {
   "cell_type": "markdown",
   "metadata": {},
   "source": [
    "## 4.1.4 Worked example---single variable function\n",
    "Check the worked examples using S(6), defined above. The book discusses the functional and calculus-based approach for alphaA = 0.1 and alphaA = 0.4. The %5.1g format operator displays the input in floating-point format to one ''significant figure'', as appropriate for uncertainties (%5.1f will produce one digit after the decimal place, regardless of its significance)."
   ]
  }
 ],
 "metadata": {
  "kernelspec": {
   "display_name": "Python 3",
   "language": "python",
   "name": "python3"
  },
  "language_info": {
   "codemirror_mode": {
    "name": "ipython",
    "version": 3
   },
   "file_extension": ".py",
   "mimetype": "text/x-python",
   "name": "python",
   "nbconvert_exporter": "python",
   "pygments_lexer": "ipython3",
   "version": "3.6.8"
  }
 },
 "nbformat": 4,
 "nbformat_minor": 2
}
