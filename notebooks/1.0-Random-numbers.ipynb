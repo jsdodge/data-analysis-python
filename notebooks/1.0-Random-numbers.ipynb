{
 "cells": [
  {
   "cell_type": "markdown",
   "metadata": {},
   "source": [
    "# Random numbers\n",
    "\n",
    "Python activities to complement *Measurements and their Uncertainties*, Chapter 1, \"Errors in the physical sciences.\"\n",
    "\n",
    "Author: J. S. Dodge, 2019©\n",
    "\n",
    "*Note:* NumPy 1.17.0 made several changes to its random number generation routines, including changes to its default RNG algorithm. This notebook is based on NumPy 1.16, since that is what the SFU Syzygy server is using at the time of writing, and subsequent versions should be backward-compatible. Once Syzygy adopts NumPy 1.17, however, this notebook should be revised. –JSD, August 2019"
   ]
  },
  {
   "cell_type": "markdown",
   "metadata": {},
   "source": [
    "* [Random number generation](#Random-number-generation)\n",
    "    * [Exercise 1](#Exercise-1)\n",
    "    * [Computational example](#Computational-example)\n",
    "        * [Programming notes 1](#Programming-notes-1)\n",
    "        * [Programming notes 2](#Programming-notes-2)\n",
    "    * [Plot the results](#Plot-the-results)\n",
    "        * [Programming notes 3](#Programming-notes-3)\n",
    "    * [Modern random number generators](#Modern-random-number-generators)\n",
    "    * [Exercise 2](#Exercise-2)\n",
    "    * [Random numbers with NumPy](#Random-numbers-with-NumPy)\n",
    "        * [Programming notes 4](#Programming-notes-4)\n",
    "* [Histograms](#Histograms)\n",
    "    * [Basic histogram of `rand`](#Basic-histogram-of-rand)\n",
    "    * [Histogram options in Matplotlib](#Histogram-options-in-Matplotlib)\n",
    "        * [Programming notes 5](#Programming-notes-5)\n",
    "    * [Alternative histograms of `rand`](#Alternative-histograms-of-rand)\n",
    "    * [Exercise 3](#Exercise-3)\n",
    "    * [Exercise 4](#Exercise-4)\n",
    "    * [Exercise 5](#Exercise-5)\n",
    "* [Summary](#Summary)\n",
    "* [Further reading](#Further-reading)"
   ]
  },
  {
   "cell_type": "markdown",
   "metadata": {},
   "source": [
    "## Preliminaries\n",
    "Before proceeding with this notebook you should read *MU* Ch. 1, \"Errors in the physical sciences,\" with the following [goals](https://wiki.its.sfu.ca/departments/phys-students/index.php/Reading_goals_for_Hughes_and_Hase#Errors_in_the_physical_sciences) in mind.\n",
    "\n",
    "1. Be able to explain what the following terms mean and be able to provide representative examples:\n",
    "    1. An accurate measurement;\n",
    "    2. A precise measurement;\n",
    "    3. Random errors/uncertainty;\n",
    "    4. Systematic errors/uncertainty;\n",
    "    5. Mistakes."
   ]
  },
  {
   "cell_type": "markdown",
   "metadata": {},
   "source": [
    "## Random number generation\n",
    "\n",
    "Random number generators (RNGs) are widely used in statistics, experimental simulation, and even in certain types of theoretical calculations. We'll be using the random number generator routines in NumPy to simulate experimental data and to develop an intuition for statistical analysis. You might wonder how a computer, a completely deterministic machine, can generate random numbers. The short answer is that it does not; the functions use algorithms that are cleverly designed to produce numbers that satisfy most statistical requirements associated with randomness, but actually follow a well-defined sequence. If this sounds strange, you are not alone: the great 20th century mathematician John von Neumann [wrote](https://babel.hathitrust.org/cgi/pt?id=osu.32435030295547&view=image&seq=48), \"Anyone who considers arithmetical methods of producing random digits is, of course, in a state of sin.\"\n",
    "\n",
    "Von Neumann was in a position to know: he is credited with developing the first algorithm to generate random numbers with the [first general-purpose computer](https://en.wikipedia.org/wiki/ENIAC), although there is some evidence that his [middle-square method](https://en.wikipedia.org/wiki/Middle-square_method) first appeared in the 13th century. This method is obsolete now, but it illustrates some important principles of modern random number generators, so we will describe it here for the case of generating a random sequence of integers from 0 to 9999 (the original application involved 10-digit integers, from 0 to 9999999999).\n",
    "\n",
    "1. Start by choosing a number from 0 to 9999, which we call the *seed*. This will be the first number, $n_1$, in our sequence.\n",
    "2. For all subsequent numbers $\\{n_2,\\ldots,n_i,n_{i+1},\\ldots\\}$, the element $n_{i+1}$ is given by *the middle four digits* of $n_i^2$ after prepending it with as many zeros as necessary to form an eight-digit number; for example, if $n_1 = 1862$, then $n_1^2 = 3467044$, which we write as 03<u>4670</u>44, so $n_2 = 4670$. This is an example of a mathematical [recurrence relation](https://en.wikipedia.org/wiki/Recurrence_relation), in which element $n_{i+1}$ of the sequence is defined by the preceding term, $n_{i}$.\n",
    "\n",
    "All modern random number generators have this basic structure: a nonrandom *seed* that initiates the sequence, and a *recurrence relation* that generates all subsequent elements in the sequence, which should be indistinguishable from a random sequence if the algorithm is any good. Despite this appearance of randomness, however, the sequence is perfectly reproducible once the seed has been specified, so often they are called *pseudorandom* numbers to distinguish them from their purer counterparts."
   ]
  },
  {
   "cell_type": "markdown",
   "metadata": {},
   "source": [
    "### Exercise 1\n",
    "Find $n_3$ and $n_4$ in the sequence $\\{n_1 = 1862, n_2 = 4670, n_3, n_4, \\ldots\\}$ produced by the middle-square method with $n_1 = 1862$ as the seed."
   ]
  },
  {
   "cell_type": "code",
   "execution_count": 1,
   "metadata": {},
   "outputs": [],
   "source": [
    "# Use this cell for your response, adding cells if necessary.\n",
    "# You can check your result by comparing it with the output\n",
    "# of the subsequent cells."
   ]
  },
  {
   "cell_type": "markdown",
   "metadata": {},
   "source": [
    "### Computational example\n",
    "The recurrence relation makes it easy to generate a pseudorandom sequence automatically, as shown in the next two code cells. The first code cell shows the computational steps for one iteration of the recurrence relation. The second code cell embeds these computational steps in a `for` loop to produce a sequence with 50 elements automatically."
   ]
  },
  {
   "cell_type": "markdown",
   "metadata": {},
   "source": [
    "#### Programming notes 1\n",
    "The computations in the following cells rely on routines from the [NumPy](https://www.numpy.org/) library, which we load in the first line of the cell below. The syntax `import numpy as np` tells Python to import the NumPy library and use the alias `np` to refer to it. After importing the library, we can then use any of its routines by prepending the routine name with `np`, separated by a period (`.`). For example, in Step 2 below, we use `np.remainder` to use the [`remainder`](https://www.numpy.org/devdocs/reference/generated/numpy.remainder.html) routine, and we use `np.trunc` to use the [`trunc`](https://www.numpy.org/devdocs/reference/generated/numpy.trunc.html) routine. The [NumPy documentation](https://www.numpy.org/devdocs/reference/index.html) lists all of its routines."
   ]
  },
  {
   "cell_type": "code",
   "execution_count": 2,
   "metadata": {
    "scrolled": true
   },
   "outputs": [
    {
     "name": "stdout",
     "output_type": "stream",
     "text": [
      "First term, n1:\n",
      "1862\n",
      "\n",
      "Square of n1:\n",
      "3467044\n",
      "\n",
      "Last six digits of n1**2:\n",
      "467044\n",
      "\n",
      "Middle four digits of n1**2:\n",
      "4670\n",
      "\n",
      "Second term, n2:\n",
      "4670\n"
     ]
    }
   ],
   "source": [
    "# Load NumPy for the computations\n",
    "import numpy as np\n",
    "\n",
    "# Choose the seed\n",
    "n1 = 1862\n",
    "print(\"First term, n1:\")\n",
    "print(n1)\n",
    "print()\n",
    "\n",
    "# Step 1: Square  n1\n",
    "step1 = n1**2\n",
    "print(\"Square of n1:\")\n",
    "print(step1)\n",
    "print()\n",
    "\n",
    "# Step 2: Divide by 1e6 and take the remainder to\n",
    "# determine the last six digits of n1**2.\n",
    "step2 = int(np.remainder(step1,1e6))\n",
    "print(\"Last six digits of n1**2:\")\n",
    "print(step2)\n",
    "print()\n",
    "\n",
    "# Step 3: Divide by 1e2 and truncate the result to\n",
    "# drop the last two digits to get the middle four digits\n",
    "step3 = int(np.trunc(step2/1e2))\n",
    "print(\"Middle four digits of n1**2:\")\n",
    "print(step3)\n",
    "print()\n",
    "\n",
    "# Compose the operations in one line to compute n2 directly from n1\n",
    "n2 = int(np.trunc(np.remainder(n1**2,1e6)/100))\n",
    "print(\"Second term, n2:\")\n",
    "print(n2)"
   ]
  },
  {
   "cell_type": "markdown",
   "metadata": {},
   "source": [
    "#### Programming notes 2\n",
    "The following cell includes some new NumPy routines that merit explanation.\n",
    "\n",
    "The [`zeros`](https://www.numpy.org/devdocs/reference/generated/numpy.zeros.html) routine initializes an array and fills it with zeros. In the specific case here, the input to `zeros` is a single number, `N = 50`, so the array is one-dimensional with length `N`. We do this because we plan to fill the array in the subsequent `for` loop, and it is good practice to preallocate the memory for the array before filling it—otherwise, a new block of memory must be allocated each time the `for` loop adds a new array element.\n",
    "\n",
    "The [`arange`](https://www.numpy.org/devdocs/reference/generated/numpy.arange.html) creates an array with evenly spaced values. Here, `arange(1,N)` returns the array `[1, 2, ..., N-1]`, starting at the first input (`1`) and increasing with the default increment (`1`) until the next value would exceed or be equal to the second input (`N`)."
   ]
  },
  {
   "cell_type": "code",
   "execution_count": 3,
   "metadata": {},
   "outputs": [
    {
     "name": "stdout",
     "output_type": "stream",
     "text": [
      "[1862. 4670. 8089. 4319.]\n"
     ]
    }
   ],
   "source": [
    "# Initialize a one-dimensional array of length N\n",
    "N = 50\n",
    "x  = np.zeros(N)\n",
    "\n",
    "# Assign the seed to the first element in the array\n",
    "# and use the recurrence relation to compute the rest\n",
    "x[0] = 1862\n",
    "for i in np.arange(1,N):\n",
    "    x[i] = int(np.trunc(np.remainder(x[i-1]**2,1e6)/100))\n",
    "\n",
    "# Print the first four elements to compare with the results\n",
    "# of the previous exercise\n",
    "print(x[:4])"
   ]
  },
  {
   "cell_type": "markdown",
   "metadata": {},
   "source": [
    "### Plot the results\n",
    "Plotting all 50 values reveals an important weakness of the middle square method: the sequences tend to evolve into a repeating pattern. With 1862 as the seed, the 29th element of the sequence is zero, so every subsequent element is also zero!\n",
    "\n",
    "#### Programming notes 3\n",
    "We use the [pyplot](https://matplotlib.org/api/_as_gen/matplotlib.pyplot.html) module of the [Matplotlib](https://matplotlib.org/) library to produce the plot.\n",
    "\n",
    "The first line imports `pyplot` from the `matplotlib` library and assigns it the alias `plt`.\n",
    "\n",
    "The second line is an example of a [magic command](https://ipython.readthedocs.io/en/stable/interactive/magics.html), which is specific to the Interactive Python kernel that provides the interface between Python and the Jupyter notebook interface. This one, `%matplotlib inline`, tells the notebook server to render plots as a static images inside the notebook interface. This command only needs to be invoked once during a single Jupyter notebook session.\n",
    "\n",
    "The third line uses the [arange](https://www.numpy.org/devdocs/reference/generated/numpy.arange.html) NumPy routine to create an array of `N` integers `[0, 1, ..., N-1]` and assign it to the variable `i`.\n",
    "\n",
    "The remaining lines produce the plot. The [`plot`](https://matplotlib.org/api/_as_gen/matplotlib.pyplot.plot.html) routine from pyplot makes a [`plot`](https://matplotlib.org/api/_as_gen/matplotlib.pyplot.plot.html) of `x` as a function of `i` with black circles as markers (`ko`, where `k` indicates the color blac<u>k</u> and `o` indicates circular markers). The axis labels are then set by the [`xlabel`](https://matplotlib.org/api/_as_gen/matplotlib.pyplot.xlabel.html) and [`ylabel`](https://matplotlib.org/api/_as_gen/matplotlib.pyplot.ylabel.html) routines. Note the semicolon at the end: this is used to suppress the output of `ylabel`. Delete it and run the cell again to see what happens when it is omitted."
   ]
  },
  {
   "cell_type": "code",
   "execution_count": 4,
   "metadata": {},
   "outputs": [
    {
     "data": {
      "image/png": "[encoded data removed]",
      "text/plain": [
       "<Figure size 432x288 with 1 Axes>"
      ]
     },
     "metadata": {
      "needs_background": "light"
     },
     "output_type": "display_data"
    }
   ],
   "source": [
    "# Load PyPlot from Matplotlib\n",
    "import matplotlib.pyplot as plt\n",
    "\n",
    "# Tell the Jupyter notebook server to show plots in the notebook.\n",
    "%matplotlib inline\n",
    "\n",
    "# Create array i = [0, 1, ..., N-1], then\n",
    "# plot x versus i using black circles as markers ('ko');\n",
    "# assign labels to the x and y axes; and finish with a semicolon\n",
    "# to suppress the output of the ylabel routine.\n",
    "i = np.arange(N)\n",
    "plt.plot(i,x,'ko') \n",
    "plt.xlabel('i')\n",
    "plt.ylabel('x[i]');"
   ]
  },
  {
   "cell_type": "markdown",
   "metadata": {},
   "source": [
    "### Modern random number generators\n",
    "\n",
    "This example demonstrates a lesson articulated by the celebrated computer scientist [Donald Knuth](#Knuth):\n",
    "\n",
    "> Random numbers should not be generated with a method chosen at random. Some theory should be used.\n",
    "\n",
    "Random number generation is now an active field of research in mathematics and computer science, so we will leave the interested reader to explore the [literature](#Refs) to understand how modern RNGs work. An algorithm widely used today, including many of the standard Python libraries, is known as the [Mersenne Twister](https://en.wikipedia.org/wiki/Mersenne_Twister), which was published in 1997 by Makoto Matsumoto and Takuji Nishimura. It produces pseudorandom sequences of floating-point numbers that are uniformly distributed over \\[0.0, 1.0). These sequences are periodic, with a period of 2<sup>19937</sup>–1 elements—infinite, for all practical purposes. The number 2<sup>19937</sup>–1 is a *Marsenne prime*, which are prime numbers of the form 2<sup>*n*</sup>–1. Prof. Matsumoto [explains](http://www.math.sci.hiroshima-u.ac.jp/~m-mat/MT/ename.html) how he and his colleague arrived at the algorithm name on the [Marsenne Twister Home Page](http://www.math.sci.hiroshima-u.ac.jp/~m-mat/MT/emt.html). (Don Knuth famously [does not use email](https://www.youtube.com/watch?v=QS8qwMna8_o), which is why they refer to letters from him.)\n",
    "\n",
    "> MT was firstly named \"Primitive Twisted Generalized Feedback Shift Register Sequence\" by a historical reason. \n",
    "> \n",
    "> Makoto: Prof. Knuth said in his letter \"the name is mouthful.\"\n",
    "> Takuji:........\n",
    "> \n",
    "> a few days later\n",
    ">\n",
    "> Makoto: Hi, Takkun, How about \"Mersenne Twister?\" Since it uses Mersenne primes, and it shows that it has its ancestor Twisted GFSR.\n",
    ">\n",
    "> Takuji: Well.\n",
    ">\n",
    "> Makoto: It sounds like a jet coaster, so it sounds quite fast, easy to remember and easy to pronounce. Moreover, although it is a secret, it hides in its name the initials of the inventors.\n",
    ">\n",
    "> Takuji:.......\n",
    ">\n",
    "> Makoto: Come on, let's go with MT!\n",
    ">\n",
    "> Takuji:....well, affirmative.\n",
    "> \n",
    "> Later, we got a letter from Prof. Knuth saying \"it sounds a nice name.\" :-) "
   ]
  },
  {
   "cell_type": "markdown",
   "metadata": {},
   "source": [
    "### Exercise 2\n",
    "In the cell below, express 2<sup>19937</sup>–1 in scientific notation with 5 significant figures, and compare this to the age of the universe ($13.772\\times 10^9$ years) in seconds.\n",
    "\n",
    "*Hint:* It is possible to do this with just a hand calculator."
   ]
  },
  {
   "cell_type": "code",
   "execution_count": 5,
   "metadata": {},
   "outputs": [],
   "source": [
    "# Use this cell for your response, adding cells if necessary."
   ]
  },
  {
   "cell_type": "markdown",
   "metadata": {},
   "source": [
    "### Random numbers with NumPy\n",
    "NumPy has an entire module for random numbers, called [`random`](https://www.numpy.org/doc/1.16/reference/routines.random.html). Within this module, the routine [`rand`](https://www.numpy.org/doc/1.16/reference/generated/numpy.random.rand.html) returns random numbers that are uniformly distributed over \\[0.0, 1.0). NumPy used the Marsenne Twister algorithm until it reached version 1.17.0, when newer, better algorithms were available. The current default (as of version 1.18) is the [PCG64](https://www.numpy.org/devdocs/reference/random/bit_generators/pcg64.html) algorithm (short for Parallel Congruent Generator with 64-bit output), published in 2014 by Melissa O'Neill."
   ]
  },
  {
   "cell_type": "markdown",
   "metadata": {},
   "source": [
    "#### Programming notes 4\n",
    "In addition to `rand`, there are several equivalent routines that produce uniformly distributed random numbers, including [`random_sample`](https://www.numpy.org/doc/1.16/reference/generated/numpy.random.random_sample.html), [`random`](https://www.numpy.org/doc/1.16/reference/generated/numpy.random.random.html), [`ranf`](https://www.numpy.org/doc/1.16/reference/generated/numpy.random.ranf.html), and [`sample`](https://www.numpy.org/doc/1.16/reference/generated/numpy.random.sample.html). They're all basically the [same](https://stackoverflow.com/questions/18829185/difference-between-various-numpy-random-functions).\n",
    "\n",
    "Run the following cell a few times."
   ]
  },
  {
   "cell_type": "code",
   "execution_count": 6,
   "metadata": {},
   "outputs": [
    {
     "name": "stdout",
     "output_type": "stream",
     "text": [
      "0.6511161819417575\n",
      "0.3687362730895387\n",
      "0.058047215415768294\n",
      "0.3112992998622157\n"
     ]
    }
   ],
   "source": [
    "# Import the random module\n",
    "from numpy import random\n",
    "\n",
    "# Print some random numbers\n",
    "print(random.rand())\n",
    "print(random.rand())\n",
    "print(random.rand())\n",
    "print(random.rand())"
   ]
  },
  {
   "cell_type": "markdown",
   "metadata": {},
   "source": [
    "Notice that you get different results every time you run this cell. We can use the [`random.seed`](https://www.numpy.org/doc/1.16/reference/generated/numpy.random.seed.html#numpy.random.seed) routine to generate reproducible results, as you will see if you run the following cell multiple times (you should also try changing the seed)."
   ]
  },
  {
   "cell_type": "code",
   "execution_count": 7,
   "metadata": {},
   "outputs": [
    {
     "name": "stdout",
     "output_type": "stream",
     "text": [
      "0.5488135039273248\n",
      "0.7151893663724195\n",
      "0.6027633760716439\n",
      "0.5448831829968969\n"
     ]
    }
   ],
   "source": [
    "# Set the seed (must be an integer from 0 to 2**32-1)\n",
    "random.seed(0)\n",
    "\n",
    "# Print some random numbers\n",
    "print(random.rand())\n",
    "print(random.rand())\n",
    "print(random.rand())\n",
    "print(random.rand())"
   ]
  },
  {
   "cell_type": "markdown",
   "metadata": {},
   "source": [
    "Frequently we will want an *array* of random numbers, not just one at a time. We can pass the desired array size as an input argument to `rand` to produce such an array."
   ]
  },
  {
   "cell_type": "code",
   "execution_count": 8,
   "metadata": {},
   "outputs": [
    {
     "name": "stdout",
     "output_type": "stream",
     "text": [
      "[0.5488135  0.71518937 0.60276338 0.54488318 0.4236548  0.64589411\n",
      " 0.43758721 0.891773   0.96366276 0.38344152]\n"
     ]
    },
    {
     "data": {
      "image/png": "[encoded data removed]",
      "text/plain": [
       "<Figure size 432x288 with 1 Axes>"
      ]
     },
     "metadata": {
      "needs_background": "light"
     },
     "output_type": "display_data"
    }
   ],
   "source": [
    "# Set the array length\n",
    "N  = 1000\n",
    "\n",
    "# Reset the seed and generate the array\n",
    "random.seed(0)\n",
    "x = random.rand(N)\n",
    "\n",
    "# Print the first 10 values\n",
    "print(x[:10])\n",
    "\n",
    "# Plot x[i] versus i\n",
    "plt.plot(np.arange(N),x,'ko') \n",
    "plt.xlabel('i')\n",
    "plt.ylabel('x[i]');"
   ]
  },
  {
   "cell_type": "markdown",
   "metadata": {},
   "source": [
    "## Histograms\n",
    "### Basic histogram of `rand`\n",
    "We can use the [`hist`](https://matplotlib.org/api/_as_gen/matplotlib.pyplot.hist.html) routine in PyPlot to show a histogram of 1000 samples from `rand`."
   ]
  },
  {
   "cell_type": "code",
   "execution_count": 9,
   "metadata": {},
   "outputs": [
    {
     "data": {
      "image/png": "[encoded data removed]",
      "text/plain": [
       "<Figure size 432x288 with 1 Axes>"
      ]
     },
     "metadata": {
      "needs_background": "light"
     },
     "output_type": "display_data"
    }
   ],
   "source": [
    "N = 1000\n",
    "random.seed(0)\n",
    "x = random.rand(N)\n",
    "\n",
    "plt.hist(x)\n",
    "plt.xlabel('x')\n",
    "plt.ylabel('Occurrence');"
   ]
  },
  {
   "cell_type": "markdown",
   "metadata": {},
   "source": [
    "### Histogram options in Matplotlib\n",
    "The [`hist`](https://matplotlib.org/3.0.3/api/_as_gen/matplotlib.pyplot.hist.html) routine provides options to control several aspects of the histogram appearance, which you can review using the online help or by printing the *docstring* for `hist`,  as shown in the code cell below."
   ]
  },
  {
   "cell_type": "markdown",
   "metadata": {},
   "source": [
    "#### Programming notes 5\n",
    "To get help on just about any Python expression (not just functions), just type the expression followed immediately (no space) by a question mark `?`. In the instance below, you will see the following elements:\n",
    "* `Signature`, which specifies all of the input arguments;\n",
    "* `Docstring`, which is the documentation string included by the authors of `hist`;\n",
    "* `File`, which gives the full path to the file that contains `hist`; and\n",
    "* `Type`, the object type for `hist`."
   ]
  },
  {
   "cell_type": "code",
   "execution_count": 17,
   "metadata": {},
   "outputs": [],
   "source": [
    "plt.hist?"
   ]
  },
  {
   "cell_type": "markdown",
   "metadata": {},
   "source": [
    "### Alternative histograms of `rand`\n",
    "We explore some of the more common options for `hist` in the cells below.\n",
    "\n",
    "The first option, `bins`, lets us adjust the bin size. The documentation provides a couple of different options within this option. First, it says,\n",
    "\n",
    "> If an integer is given, bins + 1 bin edges are calculated and returned, consistent with numpy.histogram.\n",
    "\n",
    "The cell below creates a histogram  with 20 bins. Note that for fixed `N`, the number of occurrences within each bin decreases as the bin number increases, so that the total number of occurrences is constant."
   ]
  },
  {
   "cell_type": "code",
   "execution_count": 18,
   "metadata": {},
   "outputs": [
    {
     "data": {
      "image/png": "[encoded data removed]",
      "text/plain": [
       "<Figure size 432x288 with 1 Axes>"
      ]
     },
     "metadata": {
      "needs_background": "light"
     },
     "output_type": "display_data"
    }
   ],
   "source": [
    "N = 1000\n",
    "random.seed(0)\n",
    "x = random.rand(N)\n",
    "\n",
    "plt.hist(x, bins=20)\n",
    "plt.xlabel('x')\n",
    "plt.ylabel('Occurrence');"
   ]
  },
  {
   "cell_type": "markdown",
   "metadata": {},
   "source": [
    "The next section of the docstring for `bins` says,\n",
    "\n",
    "> If bins is a sequence, gives bin edges, including left edge of first bin and right edge of last bin. In this case, bins is returned unmodified.\n",
    "\n",
    "This statement is followed by an example, along with some information about string options such as 'auto', 'sturges', 'fd', etc., that can be assigned to `bins` to select among different automatic methods for determining the bin sizes.\n",
    "\n",
    "The cell below creates a histogram with bin edges at 0.0, 0.1, ..., 1.0. (Note that `arange` does not include the stop value in the interval, so we set it to be above 1.0, at 1.05.)"
   ]
  },
  {
   "cell_type": "code",
   "execution_count": 20,
   "metadata": {},
   "outputs": [
    {
     "data": {
      "image/png": "[encoded data removed]",
      "text/plain": [
       "<Figure size 432x288 with 1 Axes>"
      ]
     },
     "metadata": {
      "needs_background": "light"
     },
     "output_type": "display_data"
    }
   ],
   "source": [
    "N = 1000\n",
    "random.seed(0)\n",
    "x = random.rand(N)\n",
    "edges = np.arange(0.0,1.05,0.1)\n",
    "\n",
    "plt.hist(x, bins=edges)\n",
    "plt.xlabel('x')\n",
    "plt.ylabel('Occurrence');"
   ]
  },
  {
   "cell_type": "markdown",
   "metadata": {},
   "source": [
    "The documentation also says that we can use nonuniform bins. The cell below sets the bin edges to \\[0.0, 0.3, 0.4, 0.5, 0.6, 0.7, 0.8, 1.0\\]. Note that the bin *areas* are no longer proportional to the number of occurrences when we do this, which produces an erroneous impression of the distribution. Use this option with care!"
   ]
  },
  {
   "cell_type": "code",
   "execution_count": 22,
   "metadata": {},
   "outputs": [
    {
     "data": {
      "image/png": "[encoded data removed]",
      "text/plain": [
       "<Figure size 432x288 with 1 Axes>"
      ]
     },
     "metadata": {
      "needs_background": "light"
     },
     "output_type": "display_data"
    }
   ],
   "source": [
    "N = 1000\n",
    "random.seed(0)\n",
    "x = random.rand(N)\n",
    "edges = [0.0, 0.3, 0.4, 0.5, 0.6, 0.7, 0.8, 1.0]\n",
    "\n",
    "plt.hist(x, bins=edges)\n",
    "plt.xlabel('x')\n",
    "plt.ylabel('Occurrence');"
   ]
  },
  {
   "cell_type": "markdown",
   "metadata": {},
   "source": [
    "Now let's look at some of the other options. The `range` option, for example, allows you to manually select the minimum and maximum values for the bins. The default is `None`, which causes the range to be determined automatically from the data. When specified, the documentation indicates that must be passed as a [*tuple*](https://docs.python.org/3/tutorial/datastructures.html#tuples-and-sequences), which must be enclosed by parentheses."
   ]
  },
  {
   "cell_type": "code",
   "execution_count": 27,
   "metadata": {
    "scrolled": true
   },
   "outputs": [
    {
     "data": {
      "image/png": "[encoded data removed]",
      "text/plain": [
       "<Figure size 432x288 with 1 Axes>"
      ]
     },
     "metadata": {
      "needs_background": "light"
     },
     "output_type": "display_data"
    }
   ],
   "source": [
    "N = 1000\n",
    "random.seed(0)\n",
    "x = random.rand(N)\n",
    "\n",
    "plt.hist(x, range=(-1.0,2.0))\n",
    "plt.xlabel('x')\n",
    "plt.ylabel('Occurrence');"
   ]
  },
  {
   "cell_type": "markdown",
   "metadata": {},
   "source": [
    "The next option is `density`, which takes boolean values `True` or `False`. The default is `False`. When set to `True`, it normalizes the vertical axis so that the area of the histogram is equal to one."
   ]
  },
  {
   "cell_type": "code",
   "execution_count": 29,
   "metadata": {
    "scrolled": true
   },
   "outputs": [
    {
     "data": {
      "image/png": "[encoded data removed]",
      "text/plain": [
       "<Figure size 432x288 with 1 Axes>"
      ]
     },
     "metadata": {
      "needs_background": "light"
     },
     "output_type": "display_data"
    }
   ],
   "source": [
    "N = 1000\n",
    "random.seed(0)\n",
    "x = random.rand(N)\n",
    "\n",
    "plt.hist(x, density=True)\n",
    "plt.xlabel('x')\n",
    "plt.ylabel('Probability density');"
   ]
  },
  {
   "cell_type": "markdown",
   "metadata": {},
   "source": [
    "We can set multiple options by separating them with commas."
   ]
  },
  {
   "cell_type": "code",
   "execution_count": 30,
   "metadata": {},
   "outputs": [
    {
     "data": {
      "image/png": "[encoded data removed]",
      "text/plain": [
       "<Figure size 432x288 with 1 Axes>"
      ]
     },
     "metadata": {
      "needs_background": "light"
     },
     "output_type": "display_data"
    }
   ],
   "source": [
    "N = 1000\n",
    "random.seed(0)\n",
    "x = random.rand(N)\n",
    "\n",
    "plt.hist(x, bins = 20, density=True)\n",
    "plt.xlabel('x')\n",
    "plt.ylabel('Probability density');"
   ]
  },
  {
   "cell_type": "markdown",
   "metadata": {},
   "source": [
    "### Exercise 3\n",
    "Create a histogram of 1000 samples from `rand` that uses 100 bins, horizontal bars, and appropriately labeled axes. Normally it would be reasonable to just cut and paste from elsewhere in this notebook for some of the code, but you should type the expressions yourself to develop familiarity with them."
   ]
  },
  {
   "cell_type": "code",
   "execution_count": 32,
   "metadata": {},
   "outputs": [],
   "source": [
    "# Use this cell for your response, adding cells if necessary."
   ]
  },
  {
   "cell_type": "markdown",
   "metadata": {},
   "source": [
    "### Exercise 4\n",
    "Use `rand` and `hist` to produce a histogram of 1000 random numbers that are uniformly distributed on the interval \\[-1.0,1.0).\n",
    "*Hint:* If you have trouble producing the right interval, see the documentation for the [random](https://docs.scipy.org/doc/numpy-1.16.1/reference/generated/numpy.random.random.html) function."
   ]
  },
  {
   "cell_type": "code",
   "execution_count": 32,
   "metadata": {},
   "outputs": [],
   "source": [
    "# Use this cell for your response, adding cells if necessary."
   ]
  },
  {
   "cell_type": "markdown",
   "metadata": {},
   "source": [
    "### Exercise 5\n",
    "Use `rand` and `hist` to produce a histogram of 1000 random numbers, each of which is the sum of five random numbers that are uniformly distributed on the interval \\[0.0, 1.0); that is,\n",
    "$$ y_i = x_{i1} + x_{i2} + x_{i3} + x_{i4} + x_{i5},\\quad i = \\{0, 1, \\ldots, 999\\},$$\n",
    "where each $x_{ij}$ is drawn from `rand`."
   ]
  },
  {
   "cell_type": "code",
   "execution_count": 34,
   "metadata": {},
   "outputs": [],
   "source": [
    "# Use this cell for your response, adding cells if necessary."
   ]
  },
  {
   "cell_type": "markdown",
   "metadata": {},
   "source": [
    "## Summary\n",
    "Here is a list of what you should be able to do after completing this notebook.\n",
    "* Explain the basic principles of how computers generate random numbers.\n",
    "* Describe what the seed of a random number generator is and why it is useful.\n",
    "* Import the NumPy and Matplotlib libraries and use the `%matplotlib inline` magic command to display plots in a Jupyter notebook.\n",
    "* Use `zeros` from NumPy to initialize an array.\n",
    "* Use `arange` from NumPy to create an array of equally distributed values.\n",
    "* Construct a basic `for` loop.\n",
    "* Use  `rand` from NumPy to produce uniformly distributed random numbers on the interval \\[0.0, 1.0).\n",
    "* Use `plot` and `hist` from Matplotlib to produce basic *x*-*y* plots and histograms.\n",
    "* Get help on Python functions.\n",
    "* Use Python documentation to identify and set optional arguments to functions."
   ]
  },
  {
   "cell_type": "markdown",
   "metadata": {},
   "source": [
    "## Further reading<a name=\"Refs\"></a>\n",
    "<a name=\"Knuth\"></a>Donald E. Knuth, [The Art of Computer Programming, volume 2: Seminumerical Algorithms](https://sfu-primo.hosted.exlibrisgroup.com/permalink/f/15tu09f/01SFUL_ALMA51188956220003611), provides a comprehensive and mathematical review of random number generation. The third edition was published in 1997, so it does not discuss the [Mersenne Twister](https://en.wikipedia.org/wiki/Mersenne_Twister) algorithm, which was published the same year.\n",
    "\n",
    "<a id=\"NR\"></a> W. H. Press, S. A. Teukolsky, W. T. Vetterling, and B. P. Flannery, [Numerical Recipes](http://numerical.recipes/). [Chapter 7](http://apps.nrbook.com/empanel/index.html?pg=340) includes more abbreviated discussion of random number generator algorithms.\n",
    "\n",
    "<a id=\"Khan\"></a>Khan Academy, [Random vs. pseudorandom number generators](https://www.khanacademy.org/computing/computer-science/cryptography/crypt/v/random-vs-pseudorandom-number-generators), for a video overview in less than seven minutes.\n",
    "\n",
    "<a id=\"WikiRNGlist\"></a>Wikipedia, [List of random number generators](https://en.wikipedia.org/wiki/List_of_random_number_generators).\n",
    "\n",
    "<a id=\"Random\"></a>[RANDOM.ORG](https://www.random.org/) A website that provides *true* random numbers generated from atmospheric fluctuations."
   ]
  }
 ],
 "metadata": {
  "kernelspec": {
   "display_name": "Python 3",
   "language": "python",
   "name": "python3"
  },
  "language_info": {
   "codemirror_mode": {
    "name": "ipython",
    "version": 3
   },
   "file_extension": ".py",
   "mimetype": "text/x-python",
   "name": "python",
   "nbconvert_exporter": "python",
   "pygments_lexer": "ipython3",
   "version": "3.6.9"
  }
 },
 "nbformat": 4,
 "nbformat_minor": 2
}
