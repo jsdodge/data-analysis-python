{
 "cells": [
  {
   "cell_type": "markdown",
   "metadata": {},
   "source": [
    "# Introduction to Python\n",
    "\n",
    "## How to use these notebooks\n",
    "These notebooks are designed to teach you a bit of statistics and to acquaint you with the scientific programming language Python. Most modules contains questions related to the required textbook for this course, *Measurements and their Uncertainties*, by Hughes and Hase.\n"
   ]
  },
  {
   "cell_type": "markdown",
   "metadata": {
    "slideshow": {
     "slide_type": "slide"
    }
   },
   "source": [
    "### Chapter 0: Introduction to Python programming \n",
    "\n",
    "- Using Python as a calculator\n",
    "- Variables\n",
    "    - Numbers\n",
    "        - Integer\n",
    "        - Float\n",
    "    - Strings\n",
    "    - Collections (list, tuple, dictionary, set)\n",
    "    - Ranges\n",
    " - Conditionals (if/elif/else)\n",
    "- Looping (for/while loops)\n",
    "- Functions   "
   ]
  },
  {
   "cell_type": "markdown",
   "metadata": {
    "slideshow": {
     "slide_type": "slide"
    }
   },
   "source": [
    "## Using Python as a calculator"
   ]
  },
  {
   "cell_type": "code",
   "execution_count": 1,
   "metadata": {
    "slideshow": {
     "slide_type": "-"
    }
   },
   "outputs": [
    {
     "data": {
      "text/plain": [
       "7"
      ]
     },
     "execution_count": 1,
     "metadata": {},
     "output_type": "execute_result"
    }
   ],
   "source": [
    "# You can make comments by including a pound symbol (#) at the beginning of the line\n",
    "# The follwoing line calculates the sum of the two numbers. In order to run this cell hold Shift and press the Enter\n",
    "\n",
    "2 + 5"
   ]
  },
  {
   "cell_type": "code",
   "execution_count": 2,
   "metadata": {},
   "outputs": [
    {
     "data": {
      "text/plain": [
       "30"
      ]
     },
     "execution_count": 2,
     "metadata": {},
     "output_type": "execute_result"
    }
   ],
   "source": [
    "# It is possible to run multiple lines in the same cell\n",
    "# Note that the output only displays the result of the last line\n",
    "2 + 1\n",
    "5*6"
   ]
  },
  {
   "cell_type": "code",
   "execution_count": 3,
   "metadata": {},
   "outputs": [
    {
     "name": "stdout",
     "output_type": "stream",
     "text": [
      "5\n",
      "28\n"
     ]
    },
    {
     "data": {
      "text/plain": [
       "7"
      ]
     },
     "execution_count": 3,
     "metadata": {},
     "output_type": "execute_result"
    }
   ],
   "source": [
    "# In order to display the results of multiple line use print() funtion\n",
    "print(2 + 3)\n",
    "print(4*7)\n",
    "8 - 1"
   ]
  },
  {
   "cell_type": "code",
   "execution_count": 5,
   "metadata": {},
   "outputs": [
    {
     "name": "stdout",
     "output_type": "stream",
     "text": [
      "2.0\n",
      "2.6666666666666665\n"
     ]
    }
   ],
   "source": [
    "# division\n",
    "# note that division always returns a floating point number!\n",
    "print(4/2)\n",
    "print(8/3)"
   ]
  },
  {
   "cell_type": "code",
   "execution_count": 12,
   "metadata": {},
   "outputs": [
    {
     "name": "stdout",
     "output_type": "stream",
     "text": [
      "2 8 4.5\n"
     ]
    }
   ],
   "source": [
    "# it is possible to display multiple values with one print() function\n",
    "print(2, 5 + 3, 9/2)"
   ]
  },
  {
   "cell_type": "code",
   "execution_count": 6,
   "metadata": {},
   "outputs": [
    {
     "name": "stdout",
     "output_type": "stream",
     "text": [
      "25\n",
      "3.0\n"
     ]
    }
   ],
   "source": [
    "# In Python ** is used to calculate powers\n",
    "print(5**2)\n",
    "print(9**0.5)"
   ]
  },
  {
   "cell_type": "markdown",
   "metadata": {
    "slideshow": {
     "slide_type": "slide"
    }
   },
   "source": [
    "## Variables\n",
    "In python you can easily define variables."
   ]
  },
  {
   "cell_type": "code",
   "execution_count": 13,
   "metadata": {
    "slideshow": {
     "slide_type": "-"
    }
   },
   "outputs": [
    {
     "name": "stdout",
     "output_type": "stream",
     "text": [
      "25\n"
     ]
    }
   ],
   "source": [
    "# equal sign (=) is used to assigne value to a variable\n",
    "a = 1\n",
    "b = 24\n",
    "print(a + b)"
   ]
  },
  {
   "cell_type": "markdown",
   "metadata": {
    "slideshow": {
     "slide_type": "subslide"
    }
   },
   "source": [
    "In Python each variable has a type. \n",
    "Note: You can return the varible's type by using the funtion type().\n"
   ]
  },
  {
   "cell_type": "markdown",
   "metadata": {},
   "source": [
    "### Numbers:\n",
    "    - Integer numbers"
   ]
  },
  {
   "cell_type": "code",
   "execution_count": 9,
   "metadata": {},
   "outputs": [
    {
     "name": "stdout",
     "output_type": "stream",
     "text": [
      "<class 'int'>\n"
     ]
    }
   ],
   "source": [
    "# the follwing line assing value 3 to 'a'. In this case the vaiable type is integer.\n",
    "a = 3\n",
    "\n",
    "print(type(a))"
   ]
  },
  {
   "cell_type": "markdown",
   "metadata": {},
   "source": [
    "    - Float numbers"
   ]
  },
  {
   "cell_type": "code",
   "execution_count": 14,
   "metadata": {},
   "outputs": [
    {
     "name": "stdout",
     "output_type": "stream",
     "text": [
      "<class 'float'>\n"
     ]
    }
   ],
   "source": [
    "# the follwing line assing value 2.2 to 'b'. In this case the vaiable type is flaot.\n",
    "b = 2.2\n",
    "print(type(b))"
   ]
  },
  {
   "cell_type": "code",
   "execution_count": 68,
   "metadata": {},
   "outputs": [
    {
     "name": "stdout",
     "output_type": "stream",
     "text": [
      "<class 'int'> <class 'float'> <class 'float'>\n"
     ]
    }
   ],
   "source": [
    "# if you add an integer number to a float number the result will be a float number\n",
    "# define an integer number\n",
    "a = 1\n",
    "# define a float number\n",
    "b = 7.3\n",
    "# check what is the type of a + b\n",
    "print(type(a), type(b), type(a + b))"
   ]
  },
  {
   "cell_type": "markdown",
   "metadata": {
    "slideshow": {
     "slide_type": "subslide"
    }
   },
   "source": [
    "### Strings \n",
    "There are different ways of defining strings in Python:"
   ]
  },
  {
   "cell_type": "code",
   "execution_count": 26,
   "metadata": {},
   "outputs": [
    {
     "name": "stdout",
     "output_type": "stream",
     "text": [
      "c is an  <class 'str'>\n"
     ]
    }
   ],
   "source": [
    "# use '' to define a string\n",
    "a = 'Mercury'\n",
    "# use \"\" to define a string\n",
    "b = \"Venus\"\n",
    "# if the string contains ' you can use \"\" to define it\n",
    "c = \"Ceres isn't a planet \"\n",
    "print('c is an ', type(c))\n"
   ]
  },
  {
   "cell_type": "code",
   "execution_count": 25,
   "metadata": {},
   "outputs": [
    {
     "name": "stdout",
     "output_type": "stream",
     "text": [
      "There I travel, it’s awfully dark. Then I see a great gleaming spark. Our Sun’s a bright  star, I should say\n",
      "as I continue to lead the way. \n",
      "\n",
      "- Annablle (Trinity Anglican School – White Rock)\n"
     ]
    }
   ],
   "source": [
    "# for longer phrases use \"\"\" \"\"\" or ''''''\n",
    "\n",
    "d = '''There I travel, it’s awfully dark. Then I see a great gleaming spark. Our Sun’s a bright  star, I should say\n",
    "as I continue to lead the way. \\n\n",
    "- Annablle (Trinity Anglican School – White Rock)'''\n",
    "\n",
    "print(d)"
   ]
  },
  {
   "cell_type": "code",
   "execution_count": 27,
   "metadata": {},
   "outputs": [
    {
     "name": "stdout",
     "output_type": "stream",
     "text": [
      "Neptune\n"
     ]
    }
   ],
   "source": [
    "# you can concatenate strings using (+)\n",
    "\n",
    "a = 'Nep'\n",
    "b = 'tune'\n",
    "\n",
    "c = a + b\n",
    "print(c)"
   ]
  },
  {
   "cell_type": "code",
   "execution_count": 37,
   "metadata": {},
   "outputs": [
    {
     "name": "stdout",
     "output_type": "stream",
     "text": [
      "K\n",
      "i\n",
      "ipe\n",
      "belt\n",
      "Kuiper\n",
      "t\n"
     ]
    }
   ],
   "source": [
    "# it is possible to access different sections of a given string\n",
    "\n",
    "a = 'Kuiper belt'\n",
    "# print the fist letter\n",
    "print(a[0])\n",
    "# print the third letter\n",
    "print(a[2])\n",
    "# print a secsion \n",
    "print(a[2:5])\n",
    "print(a[7:])\n",
    "print(a[:6])\n",
    "\n",
    "# print the last letter\n",
    "print(a[-1])"
   ]
  },
  {
   "cell_type": "markdown",
   "metadata": {
    "slideshow": {
     "slide_type": "slide"
    }
   },
   "source": [
    "### Lists\n",
    "Sometimes we need to group different values together. One way to do that is using a List. \n",
    "\n",
    "**Note: never use 'list' as a variable name - it is a reserved name in Python.**"
   ]
  },
  {
   "cell_type": "code",
   "execution_count": 51,
   "metadata": {},
   "outputs": [
    {
     "name": "stdout",
     "output_type": "stream",
     "text": [
      "<class 'list'>\n"
     ]
    }
   ],
   "source": [
    "# assign a list of numbers to a and b\n",
    "a = [1, 2, 3, 4, 5, 6, 7, 8]\n",
    "b = [5, 6, 7, 8]\n",
    "\n",
    "print(type(a))"
   ]
  },
  {
   "cell_type": "code",
   "execution_count": 52,
   "metadata": {},
   "outputs": [
    {
     "name": "stdout",
     "output_type": "stream",
     "text": [
      "5\n"
     ]
    }
   ],
   "source": [
    "# Similar to strings, you can access different elemenets of the list \n",
    "\n",
    "# assing the first element of b to c\n",
    "c = b[0]\n",
    "print(c)"
   ]
  },
  {
   "cell_type": "code",
   "execution_count": 53,
   "metadata": {},
   "outputs": [
    {
     "name": "stdout",
     "output_type": "stream",
     "text": [
      "8\n"
     ]
    }
   ],
   "source": [
    "# last element of the list\n",
    "print(a[-1])"
   ]
  },
  {
   "cell_type": "code",
   "execution_count": 54,
   "metadata": {},
   "outputs": [
    {
     "name": "stdout",
     "output_type": "stream",
     "text": [
      "6\n"
     ]
    }
   ],
   "source": [
    "# you can also do\n",
    "print(a[-3])"
   ]
  },
  {
   "cell_type": "markdown",
   "metadata": {},
   "source": [
    "#### Slicing\n",
    "It is possible to access different parts of a given list. \n"
   ]
  },
  {
   "cell_type": "code",
   "execution_count": 59,
   "metadata": {},
   "outputs": [
    {
     "name": "stdout",
     "output_type": "stream",
     "text": [
      "[2, 3, 4]\n"
     ]
    }
   ],
   "source": [
    "# the general format is \n",
    "# a[start_index:end_index:step]\n",
    "\n",
    "d = a[1:4] # step size is not mentioned - by default it is 1\n",
    "print(d)"
   ]
  },
  {
   "cell_type": "code",
   "execution_count": 61,
   "metadata": {},
   "outputs": [
    {
     "name": "stdout",
     "output_type": "stream",
     "text": [
      "[1, 3, 5, 7]\n"
     ]
    }
   ],
   "source": [
    "# every other element of the list \n",
    "print(a[::2]) # note that start_index and end_index are not specified - default values are 0 and -1"
   ]
  },
  {
   "cell_type": "code",
   "execution_count": 63,
   "metadata": {},
   "outputs": [
    {
     "name": "stdout",
     "output_type": "stream",
     "text": [
      "[3, 5]\n"
     ]
    }
   ],
   "source": [
    "print(a[2:6:2])"
   ]
  },
  {
   "cell_type": "markdown",
   "metadata": {},
   "source": [
    "A list can contains varialbes of different types:"
   ]
  },
  {
   "cell_type": "code",
   "execution_count": 65,
   "metadata": {},
   "outputs": [
    {
     "name": "stdout",
     "output_type": "stream",
     "text": [
      "[1, 4, 7]\n"
     ]
    }
   ],
   "source": [
    "my_list = [1, 2, 'a', 5, [1, 4, 7]]\n",
    "print(my_list[-1])"
   ]
  },
  {
   "cell_type": "code",
   "execution_count": 67,
   "metadata": {},
   "outputs": [
    {
     "name": "stdout",
     "output_type": "stream",
     "text": [
      "[1, 2, 4, 'a', 'b', 'c']\n"
     ]
    }
   ],
   "source": [
    "# can we add two lists?\n",
    "a = [1, 2, 4]\n",
    "b = ['a', 'b', 'c']\n",
    "c = a + b\n",
    "print(c)"
   ]
  },
  {
   "cell_type": "code",
   "execution_count": null,
   "metadata": {},
   "outputs": [],
   "source": []
  }
 ],
 "metadata": {
  "celltoolbar": "Slideshow",
  "kernelspec": {
   "display_name": "Python 3",
   "language": "python",
   "name": "python3"
  },
  "language_info": {
   "codemirror_mode": {
    "name": "ipython",
    "version": 3
   },
   "file_extension": ".py",
   "mimetype": "text/x-python",
   "name": "python",
   "nbconvert_exporter": "python",
   "pygments_lexer": "ipython3",
   "version": "3.6.9"
  }
 },
 "nbformat": 4,
 "nbformat_minor": 2
}
