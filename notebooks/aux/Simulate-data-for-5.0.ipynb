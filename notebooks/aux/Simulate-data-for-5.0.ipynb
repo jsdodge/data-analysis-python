{
 "cells": [
  {
   "cell_type": "code",
   "execution_count": 1,
   "metadata": {},
   "outputs": [],
   "source": [
    "import numpy as np\n",
    "from numpy import random\n",
    "import matplotlib.pyplot as plt\n",
    "\n",
    "%matplotlib inline"
   ]
  },
  {
   "cell_type": "markdown",
   "metadata": {},
   "source": [
    "Consider the voltage across a 47 nF capacitor as it discharges from an initial value of 1 V across a 100 kΩ resistor. Add noise with a 10 microvolt amplitude using the random number generator."
   ]
  },
  {
   "cell_type": "code",
   "execution_count": 7,
   "metadata": {},
   "outputs": [],
   "source": [
    "t = np.linspace(0,100)    # s\n",
    "R = 100e3             # Ohm\n",
    "C = 47e-9             # Farad\n",
    "tau = R * C * 1000         # ms\n",
    "V0 = 1.                 # V\n",
    "alphaV = 10e-6         # V\n",
    "\n",
    "V = V0*np.exp(-t/tau)\n",
    "\n",
    "random.seed(0)\n",
    "Vm = V + alphaV*np.random.randn(np.size(V))\n",
    "\n",
    "np.savetxt('../data/rc_circuit.csv', np.stack((t,Vm,alphaV*np.ones(np.shape(Vm))), axis=1), \n",
    "           fmt='%5.1f,%10.6f,%10.6f', header=\"Time (s), Voltage (V), alpha_V(V)\")"
   ]
  },
  {
   "cell_type": "markdown",
   "metadata": {},
   "source": [
    "Simulate the measurements shown in *MU* Fig. 5.5, which shows the number of atoms in a trap as a function of time. The data show a double-exponential decay from an initial value of $n=70\\times 10^6$ atoms, with decay constants $\\tau_1 = 8.67~\\text{s}$ and $\\tau_2 = 67~\\text{s}$"
   ]
  },
  {
   "cell_type": "code",
   "execution_count": 10,
   "metadata": {},
   "outputs": [],
   "source": [
    "tau = (8.67, 67)\n",
    "a = (6.5e7, 0.5e7)\n",
    "\n",
    "alpha_n = 1e5\n",
    "\n",
    "n_points = 200\n",
    "\n",
    "t = np.linspace(0, 60, n_points)\n",
    "\n",
    "n = a[0]*np.exp(-t/tau[0]) + a[1]*np.exp(-t/tau[1])\n",
    "nm = n + alpha_n*np.random.randn(np.size(n))\n",
    "\n",
    "np.savetxt('../data/atom_trap.csv', np.stack((t,nm/1e6,(alpha_n/1e6)*np.ones(np.shape(nm))), axis=1), \n",
    "           fmt='%5.1f,%10.6f,%10.6f', header=\"Time (s), Number of atoms/1e6, alpha_(Number of atoms)/1e6\")"
   ]
  },
  {
   "cell_type": "markdown",
   "metadata": {},
   "source": [
    "Current through an ideal diode as a function of applied voltage."
   ]
  },
  {
   "cell_type": "code",
   "execution_count": 13,
   "metadata": {},
   "outputs": [
    {
     "data": {
      "image/png": "[encoded data removed]",
      "text/plain": [
       "<Figure size 432x288 with 1 Axes>"
      ]
     },
     "metadata": {
      "needs_background": "light"
     },
     "output_type": "display_data"
    }
   ],
   "source": [
    "v = np.arange(0, 0.6, 0.001)   # V\n",
    "\n",
    "k_b= 1.3806e-23     # J/K\n",
    "q_e = 1.6022e-19    # C\n",
    "T_r = 296           # Room temperature, in degrees Kelvin\n",
    "\n",
    "v_t = k_b*T_r/q_e   # Thermal voltage, in Volts\n",
    "i_s = 1e-12         # Saturation current, in Amperes\n",
    "\n",
    "i = i_s*(np.exp(v/v_t) -1)\n",
    "alpha_i = 1e-9\n",
    "im = i + alpha_i*random.randn(np.size(i))\n",
    "\n",
    "plt.semilogy(v,im,'.');"
   ]
  }
 ],
 "metadata": {
  "kernelspec": {
   "display_name": "Python 3",
   "language": "python",
   "name": "python3"
  },
  "language_info": {
   "codemirror_mode": {
    "name": "ipython",
    "version": 3
   },
   "file_extension": ".py",
   "mimetype": "text/x-python",
   "name": "python",
   "nbconvert_exporter": "python",
   "pygments_lexer": "ipython3",
   "version": "3.6.9"
  }
 },
 "nbformat": 4,
 "nbformat_minor": 2
}
