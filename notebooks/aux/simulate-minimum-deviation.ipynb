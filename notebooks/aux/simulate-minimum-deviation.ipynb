{
 "cells": [
  {
   "cell_type": "markdown",
   "metadata": {},
   "source": [
    "# Simulate minimum deviation data"
   ]
  },
  {
   "cell_type": "code",
   "execution_count": 1,
   "metadata": {},
   "outputs": [],
   "source": [
    "# Import packages\n",
    "import numpy as np\n",
    "rng = np.random.RandomState(0)"
   ]
  },
  {
   "cell_type": "code",
   "execution_count": 2,
   "metadata": {},
   "outputs": [],
   "source": [
    "theta_deg = np.arange(45,85,5)\n",
    "n0 = 1.67\n",
    "alpha0_deg = 60\n",
    "err_deg = 0.5/60"
   ]
  },
  {
   "cell_type": "code",
   "execution_count": 3,
   "metadata": {},
   "outputs": [],
   "source": [
    "# Define model function\n",
    "def model(theta_deg,n,alpha_deg):\n",
    "    # Convert from degrees to radians, and add '0j' to theta so it is treated as a complex variable\n",
    "    theta = np.deg2rad(theta_deg) + 0j\n",
    "    alpha = np.deg2rad(alpha_deg)\n",
    "    # Compute delta\n",
    "    delta = theta + np.arcsin(np.sin(alpha)*np.sqrt(n**2-np.sin(theta)**2)- np.sin(theta)*np.cos(alpha)) - alpha\n",
    "    # Warn the user if the argument of arcsin exceeds one\n",
    "    if any(np.sin(alpha)*np.sqrt(n**2-np.sin(theta)**2)- np.sin(theta)*np.cos(alpha))>1:\n",
    "        warnings.warn('Argument to arcsin exceeds one, returning the complex norm')\n",
    "    #  Take the absolute value and convert to back to degrees\n",
    "    delta_deg = np.rad2deg(np.absolute(delta))\n",
    "    return delta_deg"
   ]
  },
  {
   "cell_type": "code",
   "execution_count": 4,
   "metadata": {},
   "outputs": [],
   "source": [
    "delta = model(theta_deg,n0,alpha0_deg) + err_deg*rng.randn(*theta_deg.shape)\n",
    "delta_deg = np.floor(delta)\n",
    "delta_min = np.round(60*(delta-delta_deg))"
   ]
  },
  {
   "cell_type": "code",
   "execution_count": 5,
   "metadata": {},
   "outputs": [],
   "source": [
    "data = np.column_stack((theta_deg,delta_deg,delta_min))"
   ]
  },
  {
   "cell_type": "code",
   "execution_count": 6,
   "metadata": {},
   "outputs": [
    {
     "name": "stdout",
     "output_type": "stream",
     "text": [
      "[[45. 58.  5.]\n",
      " [50. 54. 26.]\n",
      " [55. 53. 18.]\n",
      " [60. 53. 30.]\n",
      " [65. 54. 37.]\n",
      " [70. 56. 31.]\n",
      " [75. 59. 11.]\n",
      " [80. 62. 30.]]\n"
     ]
    }
   ],
   "source": [
    "print(data)"
   ]
  },
  {
   "cell_type": "code",
   "execution_count": 7,
   "metadata": {},
   "outputs": [],
   "source": [
    "np.savetxt('mindevdatasim.csv',data,\\\n",
    "           fmt='%d',\\\n",
    "           delimiter=',',\\\n",
    "           header='theta (deg), delta (deg), delta (min)',\\\n",
    "           comments='')"
   ]
  }
 ],
 "metadata": {
  "kernelspec": {
   "display_name": "Python 3",
   "language": "python",
   "name": "python3"
  },
  "language_info": {
   "codemirror_mode": {
    "name": "ipython",
    "version": 3
   },
   "file_extension": ".py",
   "mimetype": "text/x-python",
   "name": "python",
   "nbconvert_exporter": "python",
   "pygments_lexer": "ipython3",
   "version": "3.6.8"
  }
 },
 "nbformat": 4,
 "nbformat_minor": 2
}
