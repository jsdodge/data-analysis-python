{
 "cells": [
  {
   "cell_type": "markdown",
   "metadata": {},
   "source": [
    "# Chaper 1: Errors in the physical sciences\n",
    "## Accuracy vs precision:\n",
    "\n",
    "Let's assume the expected values for a variable is 28.7 meters (length  of a basketball field)."
   ]
  },
  {
   "cell_type": "code",
   "execution_count": 9,
   "metadata": {},
   "outputs": [],
   "source": [
    "l_expected = 28.7\n"
   ]
  },
  {
   "cell_type": "markdown",
   "metadata": {},
   "source": [
    "As we know we are dealing with three sources of errors:\n",
    "* random errors\n",
    "* systematic errors\n",
    "* mistakes\n",
    "\n",
    "## Random errors:\n",
    "Random errors can be simulated by RNG. Let say we want to simulate n=3000 measurements that follow a normal distribution. \n"
   ]
  },
  {
   "cell_type": "code",
   "execution_count": 2,
   "metadata": {},
   "outputs": [
    {
     "data": {
      "text/plain": [
       "Text(0.5, 1.0, 'Simulation 1')"
      ]
     },
     "execution_count": 2,
     "metadata": {},
     "output_type": "execute_result"
    }
   ],
   "source": [
    "# import numpy library and rename it \"np\".\n",
    "import numpy as np\n",
    "# import matplotlib.pyplot and rename it \"plt\"\n",
    "import matplotlib.pyplot as plt\n",
    "\n",
    "# initialize a pseudorandom number generator\n",
    "np.random.seed(2)\n",
    "\n",
    "# define variables\n",
    "mu = l_expected\n",
    "sigma_1 = 1\n",
    "n = 3000 \n",
    "\n",
    "# generate n random numbers \n",
    "simulation_1 = np.random.randn(n) * sigma_1 + mu\n",
    "\n",
    "plt.hist(simulation_1, range=(0, l_expected * 1.5), bins=30)\n",
    "\n",
    "# draw a vertical dashed line to show the expected value\n",
    "plt.axvline(l_expected, linestyle='--', color='r')\n",
    "\n",
    "# set the y-limit\n",
    "plt.ylim((0, 1500))\n",
    "\n",
    "# make labels \n",
    "plt.xlabel('Variable')\n",
    "plt.ylabel('Occurrence')\n",
    "plt.title('Simulation 1')"
   ]
  },
  {
   "cell_type": "markdown",
   "metadata": {},
   "source": [
    "In the above simulation what happens if you set $\\sigma$ to 0?\n",
    "\n",
    "<br>\n",
    "<br>\n",
    "\n",
    "\n",
    "\n",
    "\n",
    "\n",
    "\n",
    "\n",
    "In the following simulations we increase $\\sigma$ by a factor of 2. "
   ]
  },
  {
   "cell_type": "code",
   "execution_count": 3,
   "metadata": {},
   "outputs": [
    {
     "data": {
      "text/plain": [
       "Text(0.5, 1.0, 'Simulation 2')"
      ]
     },
     "execution_count": 3,
     "metadata": {},
     "output_type": "execute_result"
    },
    {
     "data": {
      "image/png": "[encoded data removed]",
      "text/plain": [
       "<Figure size 432x288 with 1 Axes>"
      ]
     },
     "metadata": {
      "needs_background": "light"
     },
     "output_type": "display_data"
    }
   ],
   "source": [
    "sigma_2 = sigma_1 * 2\n",
    "\n",
    "simulation_2 = np.random.randn(n) * sigma_2 + mu\n",
    "\n",
    "plt.hist(simulation_2, range=(0, l_expected * 1.5), bins=30)\n",
    "\n",
    "plt.axvline(l_expected, linestyle='--', color='r')\n",
    "\n",
    "# set the y-limit\n",
    "plt.ylim((0, 1500))\n",
    "# make labels \n",
    "plt.xlabel('Variable')\n",
    "plt.ylabel('Occurrence')\n",
    "plt.title('Simulation 2')"
   ]
  },
  {
   "cell_type": "markdown",
   "metadata": {},
   "source": [
    "## Systematic errors:\n",
    "\n",
    "When you have systematic  error in your measured values, all your values are shifted away from the expected value. The following simulation illustrates how systematic errors affect your data. "
   ]
  },
  {
   "cell_type": "code",
   "execution_count": 4,
   "metadata": {},
   "outputs": [
    {
     "data": {
      "text/plain": [
       "Text(0.5, 1.0, 'Simulation 3')"
      ]
     },
     "execution_count": 4,
     "metadata": {},
     "output_type": "execute_result"
    },
    {
     "data": {
      "image/png": "[encoded data removed]",
      "text/plain": [
       "<Figure size 432x288 with 1 Axes>"
      ]
     },
     "metadata": {
      "needs_background": "light"
     },
     "output_type": "display_data"
    }
   ],
   "source": [
    "sigma_3 = sigma_1\n",
    "systematic_error = 5\n",
    "\n",
    "# include the systematic error \n",
    "mu_systematic_error = mu - systematic_error\n",
    "simulation_3 = np.random.randn(n) * sigma_3 + mu_systematic_error\n",
    "\n",
    "plt.hist(simulation_3, range=(0, l_expected * 1.5), bins=30)\n",
    "\n",
    "# draw a vertical dashed line to show the expected value\n",
    "plt.axvline(l_expected, linestyle='--', color='r')\n",
    "\n",
    "# set the y-limit\n",
    "plt.ylim((0, 1500))\n",
    "# make labels \n",
    "plt.xlabel('Variable')\n",
    "plt.ylabel('Occurrence')\n",
    "plt.title('Simulation 3')"
   ]
  },
  {
   "cell_type": "markdown",
   "metadata": {},
   "source": [
    "Can you think of a situation that systematic error happens?\n",
    "<br>\n",
    "<br>\n",
    "<br>\n",
    "\n"
   ]
  },
  {
   "cell_type": "markdown",
   "metadata": {},
   "source": [
    "In the following simulation  we have systematic errors and also sigma is increased by a factor of two compared to simulation 1."
   ]
  },
  {
   "cell_type": "code",
   "execution_count": 5,
   "metadata": {},
   "outputs": [
    {
     "data": {
      "text/plain": [
       "Text(0.5, 1.0, 'Simulation 4')"
      ]
     },
     "execution_count": 5,
     "metadata": {},
     "output_type": "execute_result"
    },
    {
     "data": {
      "image/png": "[encoded data removed]",
      "text/plain": [
       "<Figure size 432x288 with 1 Axes>"
      ]
     },
     "metadata": {
      "needs_background": "light"
     },
     "output_type": "display_data"
    }
   ],
   "source": [
    "sigma_3 = sigma_1 * 2\n",
    "systematic_error = 5\n",
    "\n",
    "mu_systematic_error = mu - systematic_error\n",
    "simulation_4 = np.random.randn(n) * sigma_3 + mu_systematic_error\n",
    "\n",
    "plt.hist(simulation_4, range=(0, l_expected * 1.5), bins=30)\n",
    "\n",
    "# draw a vertical dashed line to show the expected value\n",
    "plt.axvline(l_expected, linestyle='--', color='r')\n",
    "\n",
    "# set the y-limit\n",
    "plt.ylim((0, 1500))\n",
    "\n",
    "plt.xlabel('Variable')\n",
    "plt.ylabel('Occurrence')\n",
    "plt.title('Simulation 4')"
   ]
  },
  {
   "cell_type": "markdown",
   "metadata": {},
   "source": [
    "## Mistakes\n",
    "Imagine a case when 10% of the data was misread and hence shifted by mistake_shift = - 10 (m). "
   ]
  },
  {
   "cell_type": "code",
   "execution_count": 6,
   "metadata": {},
   "outputs": [
    {
     "data": {
      "text/plain": [
       "Text(0.5, 1.0, 'Simulation 5')"
      ]
     },
     "execution_count": 6,
     "metadata": {},
     "output_type": "execute_result"
    },
    {
     "data": {
      "image/png": "[encoded data removed]",
      "text/plain": [
       "<Figure size 432x288 with 1 Axes>"
      ]
     },
     "metadata": {
      "needs_background": "light"
     },
     "output_type": "display_data"
    }
   ],
   "source": [
    "# defining shift in the data due to a mistake (miss reading the scale)\n",
    "mistake_shift = - 10\n",
    "\n",
    "# randomly chose 10% of the data\n",
    "mis_read_ind = np.random.randint(low=0, high=n, size=(int(n/10),))\n",
    "\n",
    "# using simulation  1 data to start with\n",
    "simulation_5 = simulation_1 \n",
    "# apply the mistake\n",
    "simulation_5[mis_read_ind] +=  mistake_shift\n",
    "\n",
    "# plot the results\n",
    "plt.hist(simulation_5, range=(0, l_expected * 1.5), bins=30)\n",
    "\n",
    "# draw a vertical dashed line to show the expected value\n",
    "plt.axvline(l_expected, linestyle='--', color='r')\n",
    "\n",
    "# set the y-limit\n",
    "plt.ylim((0, 1500))\n",
    "\n",
    "plt.xlabel('Variable')\n",
    "plt.ylabel('Occurrence')\n",
    "plt.title('Simulation 5')"
   ]
  },
  {
   "cell_type": "code",
   "execution_count": null,
   "metadata": {},
   "outputs": [],
   "source": []
  }
 ],
 "metadata": {
  "kernelspec": {
   "display_name": "Python 3",
   "language": "python",
   "name": "python3"
  },
  "language_info": {
   "codemirror_mode": {
    "name": "ipython",
    "version": 3
   },
   "file_extension": ".py",
   "mimetype": "text/x-python",
   "name": "python",
   "nbconvert_exporter": "python",
   "pygments_lexer": "ipython3",
   "version": "3.6.8"
  }
 },
 "nbformat": 4,
 "nbformat_minor": 2
}
