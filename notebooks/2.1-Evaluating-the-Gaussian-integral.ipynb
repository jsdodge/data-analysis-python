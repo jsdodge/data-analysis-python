{
 "cells": [
  {
   "cell_type": "markdown",
   "metadata": {},
   "source": [
    "# Evaluating the Gaussian integral\n",
    "\n",
    "Evaluating a Gaussian integral requires a trick that you may not have learned in your introductory calculus class, so we'll go over it here. For simplicity, we will strip out the various numerical factors and solve\n",
    "\n",
    "$$ I = \\int_{-\\infty}^{\\infty}\\text{d}x\\, e^{-x^2}, $$\n",
    "\n",
    "then put the numerical factors back in at the end. The trick is to recognize the similarity between the *one-dimensional* integral $I$ and the *two-dimensional integral*\n",
    "\n",
    "$$ K = \\int_{0}^{\\infty}\\text{d}r\\int_{0}^{2\\pi}r\\,\\text{d}\\theta\\,e^{-r^2} = 2\\pi\\int_{0}^{\\infty}\\text{d}r\\,re^{-r^2} = \\pi\\int_{0}^{\\infty}\\text{d}u\\,e^{-u} = \\pi, $$\n",
    "\n",
    "where the factor of $r$ in the two-dimensional area element $r\\,\\text{d}\\theta\\,\\text{d}r$ allows us to solve the integral with a straightforward change of variables, $u = r^2$, $\\text{d}u = 2r\\,\\text{d}r.$ To get $I$ into the form $K$, we *square it*, replace the dummy variable $x$ with $y$ in one of the integrals, rearrange the order of operations, and change the *two-dimensional* infinitesimal area element from $\\text{d}x\\,\\text{d}y$ to $r\\,\\text{d}\\theta\\,\\text{d}r$:\n",
    "\n",
    "\\begin{align}\n",
    "I^2 &= \\left[\\int_{-\\infty}^{\\infty}\\text{d}x\\, e^{-x^2}\\right]\\left[\\int_{-\\infty}^{\\infty}\\text{d}x\\, e^{-x^2}\\right]\\\\\n",
    "&= \\left[\\int_{-\\infty}^{\\infty}\\text{d}x\\, e^{-x^2}\\right]\\left[\\int_{-\\infty}^{\\infty}\\text{d}y\\, e^{-y^2}\\right]\\\\\n",
    "&= \\int_{-\\infty}^{\\infty}\\text{d}x\\int_{-\\infty}^{\\infty}\\text{d}y\\,e^{-x^2}e^{-y^2}\\\\\n",
    "&= \\int_{0}^{\\infty}\\text{d}r\\int_{0}^{2\\pi}r\\,\\text{d}\\theta\\,e^{-r^2}\\\\\n",
    "&= K\\\\\n",
    "&= \\pi.\n",
    "\\end{align}\n",
    "\n",
    "Consequently,\n",
    "\n",
    "$$ I = \\int_{-\\infty}^{\\infty}\\text{d}x\\, e^{-x^2} = \\sqrt{\\pi},$$\n",
    "\n",
    "and\n",
    "\n",
    "$$ \\int_{-\\infty}^{\\infty}\\text{d}x\\, P_\\text{DF}(x) = \\frac{1}{\\sqrt{2\\pi}}\\int_{-\\infty}^{\\infty}\\text{d}x\\,\\exp\\left(-\\frac{x^2}{2}\\right) = \\frac{1}{\\sqrt{\\pi}}\\int_{-\\infty}^{\\infty}\\text{d}u\\,\\exp(-u^2) = 1,$$\n",
    "\n",
    "where we use the change of variables $u = x/\\sqrt{2}, \\text{d}u = \\text{d}x/\\sqrt{2}$."
   ]
  },
  {
   "cell_type": "code",
   "execution_count": null,
   "metadata": {},
   "outputs": [],
   "source": []
  }
 ],
 "metadata": {
  "kernelspec": {
   "display_name": "Python 3",
   "language": "python",
   "name": "python3"
  },
  "language_info": {
   "codemirror_mode": {
    "name": "ipython",
    "version": 3
   },
   "file_extension": ".py",
   "mimetype": "text/x-python",
   "name": "python",
   "nbconvert_exporter": "python",
   "pygments_lexer": "ipython3",
   "version": "3.6.9"
  }
 },
 "nbformat": 4,
 "nbformat_minor": 2
}
