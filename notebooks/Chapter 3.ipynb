{
 "cells": [
  {
   "cell_type": "markdown",
   "metadata": {
    "slideshow": {
     "slide_type": "slide"
    }
   },
   "source": [
    "# Python xercises for Hughes and Hase: Chapter 3\n",
    "\n",
    "Python activities to complement Measurements and their Uncertainties, Chapter 3, \"Uncertainties as probabilities.\" Section numbers in the book correspond to those listed below.\n",
    "To use a module, first read the appropriate chapter in the textbook, and then read the module. \n",
    "<-- Explain how to use Jupyter notebook!!! -->\n",
    "Most modules will include an exercise for you to practice what you have learned. After you are done, save the result in a pdf file for submission to Canvas. \n",
    "<-- this has to be modified -->\n",
    "\n",
    "Author: J. S. Dodge, 2016"
   ]
  },
  {
   "cell_type": "markdown",
   "metadata": {
    "slideshow": {
     "slide_type": "slide"
    }
   },
   "source": [
    "## 3.1 Distributions and probability\n",
    "scipy library in Python defines several common probability distributions. Consider the normal distribution."
   ]
  },
  {
   "cell_type": "code",
   "execution_count": 2,
   "metadata": {},
   "outputs": [
    {
     "data": {
      "text/plain": [
       "[<matplotlib.lines.Line2D at 0x7fc3a5c68e48>]"
      ]
     },
     "execution_count": 2,
     "metadata": {},
     "output_type": "execute_result"
    }
   ],
   "source": [
    "# import normal distribution from scipy\n",
    "from scipy.stats import norm\n",
    "# import numpy library and name it \"np\".\n",
    "import numpy as np\n",
    "# import matplotlib.pyplot and name it \"plt\"\n",
    "import matplotlib.pyplot as plt\n",
    "\n",
    "mu = 0\n",
    "sigma = 1\n",
    "x = np.linspace(-5, 5)\n",
    "\n",
    "plt.plot(x, norm.pdf(x, mu, sigma))\n"
   ]
  },
  {
   "cell_type": "markdown",
   "metadata": {},
   "source": [
    "Confirm that it is properly normalized. Define normal_distribution_function(x, mu, sigma) as an anonymous function of x, with mu = 0 and sigma = 1 inherited from the earlier assignments."
   ]
  },
  {
   "cell_type": "code",
   "execution_count": 2,
   "metadata": {},
   "outputs": [
    {
     "name": "stdout",
     "output_type": "stream",
     "text": [
      "1.0\n"
     ]
    }
   ],
   "source": [
    "# quad method computes a definite integral and it is a method in scipy.integrate\n",
    "from scipy.integrate import quad\n",
    "\n",
    "# fist we need to define our function\n",
    "def normal_distribution_function(x, mu, sigma):\n",
    "    return norm.pdf(x, mu, sigma)\n",
    "\n",
    "check_norm, err = quad(normal_distribution_function, -np.inf, np.inf, args=(mu, sigma))\n",
    "print(np.around(check_norm, decimals=4))"
   ]
  },
  {
   "cell_type": "markdown",
   "metadata": {},
   "source": [
    "Confirm that 68% of the area lies in the range $x \\in(-\\sigma, \\sigma)$."
   ]
  },
  {
   "cell_type": "code",
   "execution_count": 3,
   "metadata": {},
   "outputs": [
    {
     "name": "stdout",
     "output_type": "stream",
     "text": [
      "0.6827\n"
     ]
    }
   ],
   "source": [
    "check_area, err = quad(normal_distribution_function, -sigma, sigma, args=(mu, sigma))\n",
    "print(np.around(check_area, decimals=4))"
   ]
  },
  {
   "cell_type": "markdown",
   "metadata": {},
   "source": [
    "Determine the first two moments. Analytically, the first moment is zero and the second moment is unity. The numerical result for the first moment is nonzero but insignificant."
   ]
  },
  {
   "cell_type": "code",
   "execution_count": 4,
   "metadata": {},
   "outputs": [
    {
     "name": "stdout",
     "output_type": "stream",
     "text": [
      "1.0\n"
     ]
    }
   ],
   "source": [
    "# fist we need to define our function\n",
    "def func_first_moment(x, mu, sigma):\n",
    "    return x**2 * norm.pdf(x, mu, sigma)\n",
    "\n",
    "first_moment, err = quad(func_first_moment, -np.inf, np.inf, args=(mu, sigma))\n",
    "\n",
    "print(np.around(first_moment, decimals=4))"
   ]
  },
  {
   "cell_type": "markdown",
   "metadata": {
    "slideshow": {
     "slide_type": "slide"
    }
   },
   "source": [
    "## 3.2 The Gaussian probability distribution function\n",
    "### 3.2.1 Probability calculations\n",
    "Hughes and Hase define the error function differently from Python and other standard references. In Python the function defined by (3.8) is called the normal cumulative distribution function, and is given by the function normcdf. The more common notation is\n",
    "$$ \\Phi(x; \\bar{x}, \\sigma) \\equiv \\frac{1}{\\sigma \\sqrt{2\\pi}} \\int^{x_1}_{-\\infty} \\exp [-\\frac{(x-\\bar{x})^2}{2\\sigma^2}] d x\n",
    "$$\n",
    "\n",
    "the *error function* is defined (usually) as,\n",
    "$$\n",
    "\\text{erf}{(x)} \\equiv \\frac{2}{\\sqrt{\\pi}}\\int^{x}_{0}e^{-t^2}dt,\n",
    "$$\n",
    "and is realted to $\\Phi(x, \\bar{x}, \\sigma)$ (or $\\text{Erf}(x;\\bar{x}, \\sigma) $ in the notation of Hughes and Hase) by\n",
    "$$\n",
    "\\Phi(x; \\bar{x}, \\sigma) = \\frac{1}{2}[1 - \\text{erf}(\\frac{-(x-\\bar{x})}{\\sigma\\sqrt{2}}) ]\n",
    "$$\n",
    "\n",
    "Check:"
   ]
  },
  {
   "cell_type": "code",
   "execution_count": 44,
   "metadata": {},
   "outputs": [
    {
     "data": {
      "text/plain": [
       "<matplotlib.legend.Legend at 0x7fdf40adb6d8>"
      ]
     },
     "execution_count": 44,
     "metadata": {},
     "output_type": "execute_result"
    },
    {
     "data": {
      "image/png": "[encoded data removed]",
      "text/plain": [
       "<Figure size 432x288 with 1 Axes>"
      ]
     },
     "metadata": {
      "needs_background": "light"
     },
     "output_type": "display_data"
    }
   ],
   "source": [
    "from scipy.special import erf\n",
    "import matplotlib.pyplot as plt\n",
    "plt.plot(x, norm.cdf(x, mu, sigma), 'k-', x, (1/2) * (1 - erf(-(x-mu)/(sigma*np.sqrt(2)))), 'r:')\n",
    "plt.xlabel('Variable, x')\n",
    "plt.ylabel('Normal CDF')\n",
    "# plt.legend([r'$\\Phi(x;\\mu,\\sigma)$', r'$\\{1 - erf[-(x-\\mu)/(\\sigma\\surd{2})]\\}/2$'])\n",
    "plt.legend([r'$\\Phi(x;\\mu,\\sigma)$', '$\\{1 - erf[-(x-\\mu)/(\\sigma\\sqrt{2})]\\}/2$'])"
   ]
  },
  {
   "cell_type": "markdown",
   "metadata": {
    "slideshow": {
     "slide_type": "slide"
    }
   },
   "source": [
    "## 3.3 Confidence limits and error bars\n",
    "Check (3.10) using normcdf."
   ]
  },
  {
   "cell_type": "code",
   "execution_count": 6,
   "metadata": {},
   "outputs": [
    {
     "name": "stdout",
     "output_type": "stream",
     "text": [
      "0.6827\n"
     ]
    }
   ],
   "source": [
    "one_sigma_frac = norm.cdf(mu+sigma, mu, sigma) - norm.cdf(mu-sigma, mu, sigma)\n",
    "print(np.around(one_sigma_frac, decimals=4))"
   ]
  },
  {
   "cell_type": "markdown",
   "metadata": {},
   "source": [
    "Alternatively, use $\\text{erf}$. The symmetry $\\text{erf}{(x)} = \\text{erf}{(-x)} $ allows simplification:\n",
    "\n",
    "$$P = \\Phi(\\bar{x}+\\sigma; \\bar{x}, \\sigma) - P = \\Phi(\\bar{x}-\\sigma; \\bar{x}, \\sigma) =\\text{erf}{(\\frac{1}{\\sqrt2})}$$"
   ]
  },
  {
   "cell_type": "code",
   "execution_count": 145,
   "metadata": {},
   "outputs": [
    {
     "name": "stdout",
     "output_type": "stream",
     "text": [
      "0.6827\n"
     ]
    }
   ],
   "source": [
    "\n",
    "print(np.around(erf(1/np.sqrt(2)), decimals=4))"
   ]
  },
  {
   "cell_type": "markdown",
   "metadata": {
    "slideshow": {
     "slide_type": "subslide"
    }
   },
   "source": [
    "### 3.3.1 Extended ranges\n",
    "Check Table 3.1. "
   ]
  },
  {
   "cell_type": "code",
   "execution_count": 148,
   "metadata": {},
   "outputs": [
    {
     "name": "stdout",
     "output_type": "stream",
     "text": [
      "[1.   1.65 2.   2.58 3.  ] [68.2689 90.1057 95.45   99.012  99.73  ]\n"
     ]
    }
   ],
   "source": [
    "range_in_sigma = [1, 1.65, 2, 2.58, 3]\n",
    "frac_percent = erf(range_in_sigma/np.sqrt(2))*100\n",
    "print(np.around(range_in_sigma, decimals=4), np.around(frac_percent, decimals=4))"
   ]
  },
  {
   "cell_type": "markdown",
   "metadata": {
    "slideshow": {
     "slide_type": "subslide"
    }
   },
   "source": [
    "### 3.3.2 Rejecting outliers\n",
    "### 3.3.3 Experimental example of a Gaussian distribution\n",
    "### 3.3.4 Comparing experimental results with an accepted value\n",
    "### Poisson probability function for discrete events \n",
    "\n",
    "The Scipy function poisson.pmf returns the Poisson distribution function.\n",
    "Reproduce Fig. 3.5."
   ]
  },
  {
   "cell_type": "code",
   "execution_count": 30,
   "metadata": {},
   "outputs": [
    {
     "data": {
      "text/plain": [
       "Text(7.5, 0.3, '(b)')"
      ]
     },
     "execution_count": 30,
     "metadata": {},
     "output_type": "execute_result"
    },
    {
     "data": {
      "image/png": "[encoded data removed]",
      "text/plain": [
       "<Figure size 432x288 with 1 Axes>"
      ]
     },
     "metadata": {
      "needs_background": "light"
     },
     "output_type": "display_data"
    }
   ],
   "source": [
    "from scipy.stats import poisson\n",
    "\n",
    "n = range(8)\n",
    "n_bar = 1.5\n",
    "\n",
    "p = poisson.pmf(n, n_bar)\n",
    "\n",
    "plt.bar(n, p)\n",
    "plt.xlim([-0.5, 8.5])\n",
    "plt.xlabel('Number of counts, n')\n",
    "plt.ylabel('Posson PDF')\n",
    "plt.text(7.5, 0.3, '(b)')"
   ]
  },
  {
   "cell_type": "code",
   "execution_count": 34,
   "metadata": {},
   "outputs": [
    {
     "data": {
      "text/plain": [
       "Text(37, 0.08, '(b)')"
      ]
     },
     "execution_count": 34,
     "metadata": {},
     "output_type": "execute_result"
    },
    {
     "data": {
      "image/png": "[encoded data removed]",
      "text/plain": [
       "<Figure size 432x288 with 1 Axes>"
      ]
     },
     "metadata": {
      "needs_background": "light"
     },
     "output_type": "display_data"
    }
   ],
   "source": [
    "n = range(40)\n",
    "n_bar = 15\n",
    "\n",
    "p = poisson.pmf(n, n_bar)\n",
    "\n",
    "plt.bar(n, p)\n",
    "plt.xlim([-0.5, 40.5])\n",
    "plt.xlabel('Number of counts, n')\n",
    "plt.ylabel('Posson PDF')\n",
    "plt.text(37, 0.08, '(b)')"
   ]
  },
  {
   "cell_type": "markdown",
   "metadata": {
    "slideshow": {
     "slide_type": "slide"
    }
   },
   "source": [
    "### 3.4.1 Worked example - Poisson counts\n",
    "### 3.4.2 Error bars and confidence limits for Poisson statistics\n",
    "### 3.4.3 Approximations for higher means\n",
    "### 3.5 The central limit theorem\n",
    "### 3.5.1 Examples of the central limit theorem\n",
    "Reproduce the top row of Fig. 3.7. The left-most plot is the PDF for a uniform distribution over (0,1)."
   ]
  },
  {
   "cell_type": "code",
   "execution_count": 42,
   "metadata": {},
   "outputs": [
    {
     "data": {
      "text/plain": [
       "Text(0, 0.5, 'Probability Density, f(x)')"
      ]
     },
     "execution_count": 42,
     "metadata": {},
     "output_type": "execute_result"
    },
    {
     "data": {
      "image/png": "[encoded data removed]",
      "text/plain": [
       "<Figure size 432x288 with 1 Axes>"
      ]
     },
     "metadata": {
      "needs_background": "light"
     },
     "output_type": "display_data"
    }
   ],
   "source": [
    "x_var = np.linspace(0, 1, 100)\n",
    "f = np.ones(x_var.shape)\n",
    "\n",
    "plt.plot(x_var, f)\n",
    "plt.xlabel('Varriable x')\n",
    "plt.ylabel('Probability Density, f(x)')"
   ]
  },
  {
   "cell_type": "markdown",
   "metadata": {},
   "source": [
    "The center plot is a histogram of 1000 trials."
   ]
  },
  {
   "cell_type": "code",
   "execution_count": 59,
   "metadata": {},
   "outputs": [
    {
     "data": {
      "text/plain": [
       "Text(0, 0.5, 'Occurrence')"
      ]
     },
     "execution_count": 59,
     "metadata": {},
     "output_type": "execute_result"
    },
    {
     "data": {
      "image/png": "[encoded data removed]",
      "text/plain": [
       "<Figure size 432x288 with 1 Axes>"
      ]
     },
     "metadata": {
      "needs_background": "light"
     },
     "output_type": "display_data"
    }
   ],
   "source": [
    "np.random.seed(1)\n",
    "\n",
    "x = np.random.rand(1000)\n",
    "\n",
    "plt.hist(x, 10, ec='black')\n",
    "plt.xlabel('Variable, x')\n",
    "plt.ylabel('Occurrence')"
   ]
  },
  {
   "cell_type": "markdown",
   "metadata": {},
   "source": [
    "The right-most plot is a histogram of 1000 trials, where the result of each trial is the mean of five numbers drawn from the uniform distribution. To simplify the computation, note that the mean function operates independently on the columns of an array."
   ]
  },
  {
   "cell_type": "code",
   "execution_count": 8,
   "metadata": {},
   "outputs": [
    {
     "data": {
      "text/plain": [
       "Text(0, 0.5, 'Occurrence')"
      ]
     },
     "execution_count": 8,
     "metadata": {},
     "output_type": "execute_result"
    },
    {
     "data": {
      "image/png": "[encoded data removed]",
      "text/plain": [
       "<Figure size 432x288 with 1 Axes>"
      ]
     },
     "metadata": {
      "needs_background": "light"
     },
     "output_type": "display_data"
    }
   ],
   "source": [
    "x = np.random.rand(5, 1000)\n",
    "\n",
    "x_bar = np.mean(x, axis=0)\n",
    "\n",
    "plt.hist(x_bar, 20, ec='black')\n",
    "plt.xlabel('Mean')\n",
    "plt.ylabel('Occurrence')"
   ]
  },
  {
   "cell_type": "markdown",
   "metadata": {},
   "source": [
    "Let's look at how this evolves from N=2 to N=5, using 10,000 trials to get better statistics."
   ]
  },
  {
   "cell_type": "code",
   "execution_count": 33,
   "metadata": {},
   "outputs": [
    {
     "data": {
      "image/png": "[encoded data removed]",
      "text/plain": [
       "<Figure size 432x288 with 4 Axes>"
      ]
     },
     "metadata": {
      "needs_background": "light"
     },
     "output_type": "display_data"
    }
   ],
   "source": [
    "n_start = 2\n",
    "n_end = 5 + 1\n",
    "trials = 10000\n",
    "\n",
    "\n",
    "for i in range(n_start, n_end):\n",
    "\n",
    "    plt.subplot(2, 2, i - n_start  + 1)\n",
    "\n",
    "    x = np.random.rand(i, trials)\n",
    "    x_bar = np.mean(x, axis=0)\n",
    "\n",
    "    plt.hist(x_bar, 20, ec='black')\n",
    "    plt.xlabel('Mean')\n",
    "    plt.ylabel('Occurrence')\n",
    "    plt.title('n = ' + str(i))\n",
    "# adjust spacing between subplots to minimize the overlaps\n",
    "plt.tight_layout()\n",
    "\n"
   ]
  },
  {
   "cell_type": "markdown",
   "metadata": {
    "slideshow": {
     "slide_type": "slide"
    }
   },
   "source": [
    "### Exercises\n",
    "#### 1 - Exercise (3.2)\n",
    "#### 2 Exercise (3.2)"
   ]
  }
 ],
 "metadata": {
  "celltoolbar": "Slideshow",
  "kernelspec": {
   "display_name": "Python 3",
   "language": "python",
   "name": "python3"
  },
  "language_info": {
   "codemirror_mode": {
    "name": "ipython",
    "version": 3
   },
   "file_extension": ".py",
   "mimetype": "text/x-python",
   "name": "python",
   "nbconvert_exporter": "python",
   "pygments_lexer": "ipython3",
   "version": "3.6.8"
  }
 },
 "nbformat": 4,
 "nbformat_minor": 2
}
