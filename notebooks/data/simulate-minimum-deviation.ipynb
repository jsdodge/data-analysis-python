{
 "cells": [
  {
   "cell_type": "markdown",
   "source": [
    "# Simulate minimum deviation measurement of the refractive index"
   ],
   "metadata": {
    "collapsed": false
   },
   "id": "f7ede4d22f579355"
  },
  {
   "cell_type": "code",
   "execution_count": 1,
   "outputs": [],
   "source": [
    "import numpy as np"
   ],
   "metadata": {
    "collapsed": false,
    "ExecuteTime": {
     "end_time": "2023-08-26T09:32:15.294706Z",
     "start_time": "2023-08-26T09:32:15.183083Z"
    }
   },
   "id": "c2eb48dd11abc07c"
  },
  {
   "cell_type": "markdown",
   "source": [
    "## Initialize parameters"
   ],
   "metadata": {
    "collapsed": false
   },
   "id": "14224d6fd14a65f"
  },
  {
   "cell_type": "code",
   "execution_count": 2,
   "outputs": [],
   "source": [
    "theta_deg = np.arange(45, 85, 5)\n",
    "n0 = 1.67\n",
    "alpha0_deg = 60\n",
    "err_deg = 0.5 / 60\n",
    "\n",
    "rng = np.random.default_rng(26)"
   ],
   "metadata": {
    "collapsed": false,
    "ExecuteTime": {
     "end_time": "2023-08-26T09:32:15.300516Z",
     "start_time": "2023-08-26T09:32:15.297954Z"
    }
   },
   "id": "8f4231ed62717bd1"
  },
  {
   "cell_type": "markdown",
   "source": [
    "## Define model function"
   ],
   "metadata": {
    "collapsed": false
   },
   "id": "eab1240044b94e9a"
  },
  {
   "cell_type": "code",
   "execution_count": 3,
   "outputs": [],
   "source": [
    "\n",
    "\n",
    "def model(_theta_deg, n, alpha_deg):\n",
    "    # Convert from degrees to radians, and treat as a complex variable\n",
    "    theta = np.deg2rad(_theta_deg).astype(complex)\n",
    "    alpha = np.deg2rad(alpha_deg)\n",
    "    # Compute delta\n",
    "    _delta = theta + np.arcsin(np.sin(alpha)\n",
    "                               * np.sqrt(n**2 - np.sin(theta)**2)\n",
    "                               - np.sin(theta) * np.cos(alpha)) - alpha\n",
    "    # Warn the user if the argument of arcsin exceeds one\n",
    "    if any(np.sin(alpha) * np.sqrt(n**2 - np.sin(theta)**2)\n",
    "           - np.sin(theta) * np.cos(alpha)) > 1:\n",
    "        msg = 'Argument to arcsin exceeds one, returning the complex norm'\n",
    "        warnings.warn(msg)\n",
    "    #  Take the absolute value and convert to back to degrees\n",
    "    _delta_deg = np.rad2deg(np.absolute(_delta))\n",
    "    return _delta_deg\n"
   ],
   "metadata": {
    "collapsed": false,
    "ExecuteTime": {
     "end_time": "2023-08-26T09:32:15.303968Z",
     "start_time": "2023-08-26T09:32:15.301328Z"
    }
   },
   "id": "fc7c7c8d39597da5"
  },
  {
   "cell_type": "markdown",
   "source": [
    "## Simulate measurement"
   ],
   "metadata": {
    "collapsed": false
   },
   "id": "caf2f79197e8feac"
  },
  {
   "cell_type": "code",
   "execution_count": 4,
   "outputs": [],
   "source": [
    "delta = (model(theta_deg, n0, alpha0_deg)\n",
    "         + err_deg * rng.standard_normal(*theta_deg.shape))\n",
    "delta_deg = np.floor(delta)\n",
    "delta_min = np.round(60 * (delta-delta_deg))\n",
    "\n",
    "data = np.column_stack((theta_deg, delta_deg, delta_min))"
   ],
   "metadata": {
    "collapsed": false,
    "ExecuteTime": {
     "end_time": "2023-08-26T09:32:15.305742Z",
     "start_time": "2023-08-26T09:32:15.304236Z"
    }
   },
   "id": "259472cebeb5a96"
  },
  {
   "cell_type": "markdown",
   "source": [
    "## Save data"
   ],
   "metadata": {
    "collapsed": false
   },
   "id": "94a9c0e643fa162c"
  },
  {
   "cell_type": "code",
   "execution_count": 5,
   "outputs": [],
   "source": [
    "np.savetxt('mindevdatasim.csv', data,\n",
    "           fmt='%d',\n",
    "           delimiter=',',\n",
    "           header='theta (deg), delta (deg), delta (min)',\n",
    "           comments='')"
   ],
   "metadata": {
    "collapsed": false,
    "ExecuteTime": {
     "end_time": "2023-08-26T09:32:15.309796Z",
     "start_time": "2023-08-26T09:32:15.307613Z"
    }
   },
   "id": "aec93a817a67be28"
  }
 ],
 "metadata": {
  "kernelspec": {
   "display_name": "Python 3",
   "language": "python",
   "name": "python3"
  },
  "language_info": {
   "codemirror_mode": {
    "name": "ipython",
    "version": 2
   },
   "file_extension": ".py",
   "mimetype": "text/x-python",
   "name": "python",
   "nbconvert_exporter": "python",
   "pygments_lexer": "ipython2",
   "version": "2.7.6"
  }
 },
 "nbformat": 4,
 "nbformat_minor": 5
}
