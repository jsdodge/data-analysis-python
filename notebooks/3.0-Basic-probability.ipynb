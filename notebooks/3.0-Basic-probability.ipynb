{
 "cells": [
  {
   "cell_type": "markdown",
   "metadata": {
    "slideshow": {
     "slide_type": "slide"
    }
   },
   "source": [
    "# Basic probability\n",
    "\n",
    "Python activities to complement Measurements and their Uncertainties, Chapter 3, \"Uncertainties as probabilities.\" \n",
    "\n",
    "Author: J. S. Dodge, 2019"
   ]
  },
  {
   "cell_type": "markdown",
   "metadata": {},
   "source": [
    "* [Preliminaries](#Preliminaries)\n",
    "* [Probability calculations](#Probability-calculations)\n",
    "* [The Poisson distribution](#The-Poisson-distribution)\n",
    "* [The central limit theorem](#The-central-limit-theorem)\n",
    "* [Summary](#Summary)\n",
    "* [Further reading](#Further-reading)"
   ]
  },
  {
   "cell_type": "markdown",
   "metadata": {},
   "source": [
    "## Preliminaries\n",
    "Before proceeding with this notebook you should review the topics from the [previous notebook](2.0-Basic-statistics.ipynb) and read *MU* Ch. 3, \"Uncertainties as probabilities,\" with the following [goals](https://wiki.its.sfu.ca/departments/phys-students/index.php/Reading_goals_for_Hughes_and_Hase#Uncertainties_as_probabilities) in mind.\n",
    "\n",
    "1. Be able to explain what a probability distribution function $P_\\text{DF}(x)$ represents and why Eqs. (3.1) - (3.6) follow from its definition.\n",
    "2. Be able to recall and use Eqs. (3.1) - (3.3) to perform simple probability calculations for an arbitrary $P_\\text{DF}(x)$, including:\n",
    "    1. Check that $P_\\text{DF}(x)$ is properly normalized, and identify the correct normalization factor if it is not;\n",
    "    2. Evaluate the expectation value of a function $f(x)$; and\n",
    "    3. Evaluate the expectation value of the mean and the variance.\n",
    "3. Be able to recall the definitions (3.7) and (3.8) of the Gaussian probability distribution function and the error function, respectively, and know how to use the error function in simple probability calculations like the one given in Sec. 3.2.2.\n",
    "4. Be aware of the rules described in Sec. 3.3.2 for rejecting outliers, be able to follow a well-defined procedure for doing so, and be able to suggest alternatives to throwing away data points.\n",
    "5. Be able to describe the basic properties of a Poisson distribution $P(N;\\bar{N})$, including:\n",
    "    1. its functional form;\n",
    "    2. the kind of experimental data that will be described by it;\n",
    "    3. the expectation values of its mean and variance; and\n",
    "    4. the Gaussian probability distribution that approximates it for $N\\rightarrow\\infty$.\n",
    "6. Be able to sketch a Poisson distribution for a given mean and standard deviation, and be able to estimate the mean and standard deviation from the plot of a Poisson distribution.\n",
    "7. Be able to state the central limit theorem and recognize how it is used to justify the assumption of Gaussian errors in many experiments.\n",
    "\n",
    "The following code cell includes the usual initialization commands, updated to load the normal distribution object `norm`."
   ]
  },
  {
   "cell_type": "code",
   "execution_count": null,
   "metadata": {},
   "outputs": [],
   "source": [
    "import numpy as np\n",
    "from numpy import random\n",
    "from scipy.stats import norm\n",
    "import matplotlib.pyplot as plt\n",
    "\n",
    "%matplotlib inline"
   ]
  },
  {
   "cell_type": "markdown",
   "metadata": {
    "slideshow": {
     "slide_type": "slide"
    }
   },
   "source": [
    "## Probability calculations\n",
    "scipy library in Python defines several common probability distributions. Consider the normal distribution."
   ]
  },
  {
   "cell_type": "code",
   "execution_count": 55,
   "metadata": {},
   "outputs": [
    {
     "data": {
      "text/plain": [
       "[<matplotlib.lines.Line2D at 0x7fc3a54ebda0>]"
      ]
     },
     "execution_count": 55,
     "metadata": {},
     "output_type": "execute_result"
    },
    {
     "data": {
      "image/png": "[encoded data removed]",
      "text/plain": [
       "<Figure size 432x288 with 1 Axes>"
      ]
     },
     "metadata": {
      "needs_background": "light"
     },
     "output_type": "display_data"
    }
   ],
   "source": [
    "# import normal distribution from scipy\n",
    "from scipy.stats import norm\n",
    "# import numpy library and name it \"np\".\n",
    "import numpy as np\n",
    "# import matplotlib.pyplot and name it \"plt\"\n",
    "import matplotlib.pyplot as plt\n",
    "\n",
    "mu = 0\n",
    "sigma = 1\n",
    "x = np.linspace(-5, 5, 100)\n",
    "\n",
    "plt.plot(x, norm.pdf(x, mu, sigma))\n"
   ]
  },
  {
   "cell_type": "markdown",
   "metadata": {},
   "source": [
    "Confirm that it is properly normalized. Define normal_distribution_function(x, mu, sigma) as an anonymous function of x, with mu = 0 and sigma = 1 inherited from the earlier assignments."
   ]
  },
  {
   "cell_type": "code",
   "execution_count": 35,
   "metadata": {},
   "outputs": [
    {
     "name": "stdout",
     "output_type": "stream",
     "text": [
      "1.0\n"
     ]
    }
   ],
   "source": [
    "# quad method computes a definite integral and it is a method in scipy.integrate\n",
    "from scipy.integrate import quad\n",
    "\n",
    "# fist we need to define our function\n",
    "def normal_distribution_function(x, mu, sigma):\n",
    "    return norm.pdf(x, mu, sigma)\n",
    "# use quad function to calculate the integral\n",
    "check_norm, err = quad(normal_distribution_function, -np.inf, np.inf, args=(mu, sigma))\n",
    "print(np.around(check_norm, decimals=4))"
   ]
  },
  {
   "cell_type": "markdown",
   "metadata": {},
   "source": [
    "Confirm that 68% of the area lies in the range $x \\in(-\\sigma, \\sigma)$."
   ]
  },
  {
   "cell_type": "code",
   "execution_count": 56,
   "metadata": {},
   "outputs": [
    {
     "name": "stdout",
     "output_type": "stream",
     "text": [
      "0.6827\n"
     ]
    }
   ],
   "source": [
    "check_area, err = quad(normal_distribution_function, -sigma, sigma, args=(mu, sigma))\n",
    "\n",
    "print(np.around(check_area, decimals=4))"
   ]
  },
  {
   "cell_type": "markdown",
   "metadata": {},
   "source": [
    "Determine the first two moments. Analytically, the first moment is zero and the second moment is unity. The numerical result for the first moment is nonzero but insignificant."
   ]
  },
  {
   "cell_type": "code",
   "execution_count": 60,
   "metadata": {},
   "outputs": [
    {
     "name": "stdout",
     "output_type": "stream",
     "text": [
      " first moment =  0.0\n",
      " second moment =  1.0\n"
     ]
    }
   ],
   "source": [
    "# defince n-th moment as a function\n",
    "def func_first_moment(x, mu, sigma, n=1):\n",
    "    return x**n * norm.pdf(x, mu, sigma)\n",
    "\n",
    "# set n = 1 for to calculate the first moment\n",
    "n = 1\n",
    "first_moment, err = quad(func_first_moment, -np.inf, np.inf, args=(mu, sigma, n))\n",
    "\n",
    "print(' first moment = ', np.around(first_moment, decimals=4))\n",
    "\n",
    "# set n = 2 for to calculate the first moment\n",
    "n = 2\n",
    "first_moment, err = quad(func_first_moment, -np.inf, np.inf, args=(mu, sigma, n))\n",
    "\n",
    "print(' second moment = ', np.around(first_moment, decimals=4))"
   ]
  },
  {
   "cell_type": "markdown",
   "metadata": {
    "slideshow": {
     "slide_type": "slide"
    }
   },
   "source": [
    "## 3.2 The Gaussian probability distribution function\n",
    "### 3.2.1 Probability calculations\n",
    "Hughes and Hase define the error function differently from Python and other standard references. In Python the function defined by (3.8) is called the normal cumulative distribution function, and is given by the function norm.cdf. The more common notation is\n",
    "$$ \\Phi(x; \\bar{x}, \\sigma) \\equiv \\frac{1}{\\sigma \\sqrt{2\\pi}} \\int^{x_1}_{-\\infty} \\exp [-\\frac{(x-\\bar{x})^2}{2\\sigma^2}] d x\n",
    "$$\n",
    "\n",
    "the *error function* is defined (usually) as,\n",
    "$$\n",
    "\\text{erf}{(x)} \\equiv \\frac{2}{\\sqrt{\\pi}}\\int^{x}_{0}e^{-t^2}dt,\n",
    "$$\n",
    "and is realted to $\\Phi(x; \\bar{x}, \\sigma)$ (or $\\text{Erf}(x;\\bar{x}, \\sigma) $ in the notation of Hughes and Hase) by\n",
    "$$\n",
    "\\Phi(x; \\bar{x}, \\sigma) = \\frac{1}{2}[1 - \\text{erf}(\\frac{-(x-\\bar{x})}{\\sigma\\sqrt{2}}) ]\n",
    "$$\n",
    "\n",
    "Check:"
   ]
  },
  {
   "cell_type": "code",
   "execution_count": 38,
   "metadata": {},
   "outputs": [
    {
     "data": {
      "text/plain": [
       "<matplotlib.legend.Legend at 0x7fc3a5081f60>"
      ]
     },
     "execution_count": 38,
     "metadata": {},
     "output_type": "execute_result"
    },
    {
     "data": {
      "image/png": "[encoded data removed]",
      "text/plain": [
       "<Figure size 432x288 with 1 Axes>"
      ]
     },
     "metadata": {
      "needs_background": "light"
     },
     "output_type": "display_data"
    }
   ],
   "source": [
    "# import the essential methods\n",
    "from scipy.special import erf\n",
    "\n",
    "import matplotlib.pyplot as plt\n",
    "\n",
    "# plot the two fucntions\n",
    "plt.plot(x, norm.cdf(x, mu, sigma), 'k-', x, (1/2) * (1 - erf(-(x-mu)/(sigma*np.sqrt(2)))), 'r:')\n",
    "# set the labels\n",
    "plt.xlabel('Variable, x')\n",
    "plt.ylabel('Normal CDF')\n",
    "# plt.legend([r'$\\Phi(x;\\mu,\\sigma)$', r'$\\{1 - erf[-(x-\\mu)/(\\sigma\\surd{2})]\\}/2$'])\n",
    "plt.legend([r'$\\Phi(x;\\mu,\\sigma)$', '$\\{1 - erf[-(x-\\mu)/(\\sigma\\sqrt{2})]\\}/2$'])"
   ]
  },
  {
   "cell_type": "markdown",
   "metadata": {
    "slideshow": {
     "slide_type": "slide"
    }
   },
   "source": [
    "## 3.3 Confidence limits and error bars\n",
    "Check (3.10) using normcdf."
   ]
  },
  {
   "cell_type": "code",
   "execution_count": 39,
   "metadata": {},
   "outputs": [
    {
     "name": "stdout",
     "output_type": "stream",
     "text": [
      "0.6827\n"
     ]
    }
   ],
   "source": [
    "one_sigma_frac = norm.cdf(mu+sigma, mu, sigma) - norm.cdf(mu-sigma, mu, sigma)\n",
    "print(np.around(one_sigma_frac, decimals=4))"
   ]
  },
  {
   "cell_type": "markdown",
   "metadata": {},
   "source": [
    "Alternatively, use $\\text{erf}$. The symmetry $\\text{erf}{(x)} = \\text{erf}{(-x)} $ allows simplification:\n",
    "\n",
    "$$P = \\Phi(\\bar{x}+\\sigma; \\bar{x}, \\sigma) - \\Phi(\\bar{x}-\\sigma; \\bar{x}, \\sigma) =\\text{erf}{(\\frac{1}{\\sqrt2})}$$"
   ]
  },
  {
   "cell_type": "code",
   "execution_count": 40,
   "metadata": {},
   "outputs": [
    {
     "name": "stdout",
     "output_type": "stream",
     "text": [
      "0.6827\n"
     ]
    }
   ],
   "source": [
    "\n",
    "print(np.around(erf(1/np.sqrt(2)), decimals=4))"
   ]
  },
  {
   "cell_type": "markdown",
   "metadata": {
    "slideshow": {
     "slide_type": "subslide"
    }
   },
   "source": [
    "### 3.3.1 Extended ranges\n",
    "Check Table 3.1. "
   ]
  },
  {
   "cell_type": "code",
   "execution_count": 61,
   "metadata": {},
   "outputs": [
    {
     "name": "stdout",
     "output_type": "stream",
     "text": [
      "[1.   1.65 2.   2.58 3.  ] [68.2689 90.1057 95.45   99.012  99.73  ]\n"
     ]
    }
   ],
   "source": [
    "range_in_sigma = [1, 1.65, 2, 2.58, 3]\n",
    "frac_percent = erf(range_in_sigma/np.sqrt(2))*100\n",
    "print(np.around(range_in_sigma, decimals=4), np.around(frac_percent, decimals=4))"
   ]
  },
  {
   "cell_type": "markdown",
   "metadata": {
    "slideshow": {
     "slide_type": "subslide"
    }
   },
   "source": [
    "### 3.3.2 Rejecting outliers\n",
    "### 3.3.3 Experimental example of a Gaussian distribution\n",
    "### 3.3.4 Comparing experimental results with an accepted value\n",
    "### Poisson probability function for discrete events \n",
    "\n",
    "The Scipy function poisson.pmf returns the Poisson distribution function.\n",
    "Reproduce Fig. 3.5."
   ]
  },
  {
   "cell_type": "code",
   "execution_count": 63,
   "metadata": {},
   "outputs": [
    {
     "data": {
      "text/plain": [
       "Text(7.5, 0.3, '(a)')"
      ]
     },
     "execution_count": 63,
     "metadata": {},
     "output_type": "execute_result"
    },
    {
     "data": {
      "image/png": "[encoded data removed]",
      "text/plain": [
       "<Figure size 432x288 with 1 Axes>"
      ]
     },
     "metadata": {
      "needs_background": "light"
     },
     "output_type": "display_data"
    }
   ],
   "source": [
    "from scipy.stats import poisson\n",
    "# define variables\n",
    "n = range(8)\n",
    "n_bar = 1.5\n",
    "# generate a Poisson distribution\n",
    "p = poisson.pmf(n, n_bar)\n",
    "\n",
    "plt.bar(n, p)\n",
    "plt.xlim([-0.5, 8.5])\n",
    "plt.xlabel('Number of counts, n')\n",
    "plt.ylabel('Posson PDF')\n",
    "plt.text(7.5, 0.3, '(a)')"
   ]
  },
  {
   "cell_type": "code",
   "execution_count": 43,
   "metadata": {},
   "outputs": [
    {
     "data": {
      "text/plain": [
       "Text(37, 0.08, '(b)')"
      ]
     },
     "execution_count": 43,
     "metadata": {},
     "output_type": "execute_result"
    },
    {
     "data": {
      "image/png": "[encoded data removed]",
      "text/plain": [
       "<Figure size 432x288 with 1 Axes>"
      ]
     },
     "metadata": {
      "needs_background": "light"
     },
     "output_type": "display_data"
    }
   ],
   "source": [
    "# define variables\n",
    "n = range(40)\n",
    "n_bar = 15\n",
    "# generate a poisson distribution\n",
    "p = poisson.pmf(n, n_bar)\n",
    "\n",
    "plt.bar(n, p)\n",
    "\n",
    "plt.xlim([-0.5, 40.5])\n",
    "plt.xlabel('Number of counts, n')\n",
    "plt.ylabel('Posson PDF')\n",
    "plt.text(37, 0.08, '(b)')"
   ]
  },
  {
   "cell_type": "markdown",
   "metadata": {
    "slideshow": {
     "slide_type": "slide"
    }
   },
   "source": [
    "### 3.4.1 Worked example - Poisson counts\n",
    "### 3.4.2 Error bars and confidence limits for Poisson statistics\n",
    "### 3.4.3 Approximations for higher means\n",
    "### 3.5 The central limit theorem\n",
    "### 3.5.1 Examples of the central limit theorem\n",
    "Reproduce the top row of Fig. 3.7. The left-most plot is the PDF for a uniform distribution over (0,1)."
   ]
  },
  {
   "cell_type": "code",
   "execution_count": 44,
   "metadata": {},
   "outputs": [
    {
     "data": {
      "text/plain": [
       "Text(0, 0.5, 'Probability Density, f(x)')"
      ]
     },
     "execution_count": 44,
     "metadata": {},
     "output_type": "execute_result"
    },
    {
     "data": {
      "image/png": "[encoded data removed]",
      "text/plain": [
       "<Figure size 432x288 with 1 Axes>"
      ]
     },
     "metadata": {
      "needs_background": "light"
     },
     "output_type": "display_data"
    }
   ],
   "source": [
    "x_var = np.linspace(0, 1, 100)\n",
    "f = np.ones(x_var.shape)\n",
    "\n",
    "plt.plot(x_var, f)\n",
    "plt.xlabel('Varriable x')\n",
    "plt.ylabel('Probability Density, f(x)')"
   ]
  },
  {
   "cell_type": "markdown",
   "metadata": {},
   "source": [
    "The center plot is a histogram of 1000 trials."
   ]
  },
  {
   "cell_type": "code",
   "execution_count": 45,
   "metadata": {},
   "outputs": [
    {
     "data": {
      "text/plain": [
       "Text(0, 0.5, 'Occurrence')"
      ]
     },
     "execution_count": 45,
     "metadata": {},
     "output_type": "execute_result"
    },
    {
     "data": {
      "image/png": "[encoded data removed]",
      "text/plain": [
       "<Figure size 432x288 with 1 Axes>"
      ]
     },
     "metadata": {
      "needs_background": "light"
     },
     "output_type": "display_data"
    }
   ],
   "source": [
    "np.random.seed(1)\n",
    "\n",
    "x = np.random.rand(1000)\n",
    "\n",
    "plt.hist(x, 10, ec='black')\n",
    "plt.xlabel('Variable, x')\n",
    "plt.ylabel('Occurrence')"
   ]
  },
  {
   "cell_type": "markdown",
   "metadata": {},
   "source": [
    "The right-most plot is a histogram of 1000 trials, where the result of each trial is the mean of five numbers drawn from the uniform distribution. To simplify the computation, note that the mean function operates independently on the columns of an array."
   ]
  },
  {
   "cell_type": "code",
   "execution_count": 64,
   "metadata": {},
   "outputs": [
    {
     "data": {
      "text/plain": [
       "Text(0, 0.5, 'Occurrence')"
      ]
     },
     "execution_count": 64,
     "metadata": {},
     "output_type": "execute_result"
    },
    {
     "data": {
      "image/png": "[encoded data removed]",
      "text/plain": [
       "<Figure size 432x288 with 1 Axes>"
      ]
     },
     "metadata": {
      "needs_background": "light"
     },
     "output_type": "display_data"
    }
   ],
   "source": [
    "# generage a 5 x 1000 matrix of random numbers\n",
    "x = np.random.rand(5, 1000)\n",
    "# calulate the mean value of each column\n",
    "x_bar = np.mean(x, axis=0)\n",
    "\n",
    "plt.hist(x_bar, 20, ec='black')\n",
    "plt.xlabel('Mean')\n",
    "plt.ylabel('Occurrence')"
   ]
  },
  {
   "cell_type": "markdown",
   "metadata": {},
   "source": [
    "Let's look at how this evolves from N=2 to N=5, using 10,000 trials to get better statistics."
   ]
  },
  {
   "cell_type": "code",
   "execution_count": 47,
   "metadata": {},
   "outputs": [
    {
     "data": {
      "image/png": "[encoded data removed]",
      "text/plain": [
       "<Figure size 432x288 with 4 Axes>"
      ]
     },
     "metadata": {
      "needs_background": "light"
     },
     "output_type": "display_data"
    }
   ],
   "source": [
    "n_start = 2\n",
    "n_end = 5 + 1\n",
    "trials = 10000\n",
    "\n",
    "\n",
    "for i in range(n_start, n_end):\n",
    "\n",
    "    plt.subplot(2, 2, i - n_start  + 1)\n",
    "\n",
    "    x = np.random.rand(i, trials)\n",
    "    x_bar = np.mean(x, axis=0)\n",
    "\n",
    "    plt.hist(x_bar, 20, ec='black')\n",
    "    plt.xlabel('Mean')\n",
    "    plt.ylabel('Occurrence')\n",
    "    plt.title('n = ' + str(i))\n",
    "# adjust spacing between subplots to minimize the overlaps\n",
    "plt.tight_layout()\n",
    "\n"
   ]
  },
  {
   "cell_type": "markdown",
   "metadata": {
    "slideshow": {
     "slide_type": "slide"
    }
   },
   "source": [
    "### Exercises\n",
    "#### 1 - Exercise (3.2)\n",
    "#### 2 - Exercise (3.5)\n",
    "#### 3 - Exercise (3.8)"
   ]
  },
  {
   "cell_type": "code",
   "execution_count": null,
   "metadata": {},
   "outputs": [],
   "source": []
  }
 ],
 "metadata": {
  "kernelspec": {
   "display_name": "Python 3",
   "language": "python",
   "name": "python3"
  },
  "language_info": {
   "codemirror_mode": {
    "name": "ipython",
    "version": 3
   },
   "file_extension": ".py",
   "mimetype": "text/x-python",
   "name": "python",
   "nbconvert_exporter": "python",
   "pygments_lexer": "ipython3",
   "version": "3.6.9"
  }
 },
 "nbformat": 4,
 "nbformat_minor": 2
}
