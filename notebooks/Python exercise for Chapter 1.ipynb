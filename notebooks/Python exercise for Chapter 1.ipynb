{
 "cells": [
  {
   "cell_type": "markdown",
   "metadata": {},
   "source": [
    "# Python Exercises for Hughes and Hase: Chapter 1\n",
    "\n",
    "\n",
    "Python activities to complement Measurements and their Uncertainties, Chapter 1, \"Errors in the physical sciences.\"\n",
    "\n",
    "Author: J. S. Dodge, 2016 ©\n",
    "\n",
    "## Preliminaries\n",
    "Over the next few weeks, you will be assigned notebooks designed to teach you a bit of statistics and to acquaint you with the scientific programming language Python. Most modules contains questions related to the required textbook for this course, Measurements and their Uncertainties, by Hughes and Hase. Sections in the worksheet are numbered to be consistent with the text. Please read the corresponding section of the book before beginning the associated section of the worksheet and then do the questions, using the book as a reference as you work. \n",
    "\n",
    "<- Explain how to use Jupyter Notebooks to run Python script and also how to submit files on Canvas -> \n"
   ]
  },
  {
   "cell_type": "markdown",
   "metadata": {},
   "source": [
    "## Python basics\n",
    "\n",
    "Review the following documentation pages to familiarize yourself with the basic elements of the Python language, integrated development environment (IDE) and Python libraries for data analysis.\n",
    "\n",
    "* [Python Lectures](https://sfu.syzygy.ca/jupyter/hub/user-redirect/git-pull?repo=https://github.com/nleehone/PythonLectures.git&branch=master)\n",
    "\n",
    "Additional resources: \n",
    "* [Getting Started With Jupyter Notebook for Python](https://medium.com/codingthesmartway-com-blog/getting-started-with-jupyter-notebook-for-python-4e7082bd5d46)\n",
    "\n",
    "For MATLAB users:\n",
    "\n",
    "* [NumPy for Matlab users](https://www.numpy.org/devdocs/user/numpy-for-matlab-users.html)\n",
    "\n",
    "Python online documentation: \n",
    "* [Python 3.7.4 documentation](https://docs.python.org/3/tutorial/)\n"
   ]
  },
  {
   "cell_type": "markdown",
   "metadata": {},
   "source": [
    "## Random number generation (RNG)\n",
    "\n",
    "RNGs are wonderful tools for learning about statistics, simulating experiments, and even doing certain types of theoretical calculations. You might wonder how a computer, a completely deterministic machine, can generate random numbers. The short answer is that it does not; the functions use algorithms that are cleverly designed to produce numbers that satisfy most statistical requirements associated with randomness, but actually follow a well-defined sequence. If this sounds strange, you are not alone: the great 20th century mathematician John von Neumann wrote, \"Anyone who considers arithmetical methods of producing random digits is, of course, in a state of sin.\" [J. von Neumann, NBS Applied Mathematics Series, (1951).](https://dornsifecms.usc.edu/assets/sites/520/docs/VonNeumann-ams12p36-38.pdf) \n",
    "\n",
    "\n",
    "\n",
    "\n",
    "Technically, the numbers produced by rand and randn are called pseudorandom numbers to distinguish them from their purer counterparts. A brief review of the algorithm used for rand is available in the short article [\"Random Thoughts\"](toBeAdded) by Cleve Moler; a more comprehensive and mathematical review of the subject is available in Don Knuth's [The Art of Computer Programming, volume 2: Seminumerical Algorithms](toBeAdded) , among others.\n",
    "\n",
    "We'll use Python's random number generation capabilities to simulate experimental errors. In order to use random number in Python we need to use a library called [\"random\"](https://docs.python.org/3/library/random.html). This library contains several functions that deal with random number generation. One of these function is random.random(). This function returns random numbers that are uniformly distributed over \\[0.0, 1.0).\n",
    "Try to run the following cell multiple times. "
   ]
  },
  {
   "cell_type": "code",
   "execution_count": 1,
   "metadata": {},
   "outputs": [
    {
     "name": "stdout",
     "output_type": "stream",
     "text": [
      "0.8069477342138756\n",
      "0.32258322549996266\n",
      "0.5841092508956212\n",
      "0.955899486034022\n"
     ]
    }
   ],
   "source": [
    "# import the essencial library\n",
    "import random\n",
    "# random(): return\n",
    "print(random.random())\n",
    "print(random.random())\n",
    "print(random.random())\n",
    "print(random.random())"
   ]
  },
  {
   "cell_type": "markdown",
   "metadata": {},
   "source": [
    "You will find that each time you get a different results. In order to make have reproducible results, we would like to used the same sequence of random numbers each time we run our code. In general this method is know as \"random seed\". In Python we can call this method(function) by [random.seed()](https://docs.python.org/3/library/random.html#random.seed). \n",
    "Try to run the following cell multiple times. "
   ]
  },
  {
   "cell_type": "code",
   "execution_count": 2,
   "metadata": {},
   "outputs": [
    {
     "name": "stdout",
     "output_type": "stream",
     "text": [
      "0.13436424411240122\n",
      "0.8474337369372327\n",
      "0.763774618976614\n",
      "0.2550690257394217\n"
     ]
    }
   ],
   "source": [
    "# import the essencial library\n",
    "import random\n",
    "# initialize a pseudorandom number generator\n",
    "random.seed(1)\n",
    "# print a few random numbers\n",
    "print(random.random())\n",
    "print(random.random())\n",
    "print(random.random())\n",
    "print(random.random())"
   ]
  },
  {
   "cell_type": "markdown",
   "metadata": {},
   "source": [
    "## One-dimentional random number:\n",
    "Sometime we want a one-dimensional **vector** of random numbers. We can use numpy to do so. numpy is one of the main libraries that deals with vectors in Python. In this library numpy.random.randn(n) generates an array(vector) of n random numbers from a uniform distribution over \\[0, 1). \n",
    "\n"
   ]
  },
  {
   "cell_type": "code",
   "execution_count": 3,
   "metadata": {},
   "outputs": [
    {
     "name": "stdout",
     "output_type": "stream",
     "text": [
      "[-0.41675785 -0.05626683 -2.1361961   1.64027081 -1.79343559 -0.84174737\n",
      "  0.50288142 -1.24528809 -1.05795222 -0.90900761]\n"
     ]
    }
   ],
   "source": [
    "# import the essential  library\n",
    "import numpy\n",
    "# initialize a pseudorandom number generator\n",
    "numpy.random.seed(2)\n",
    "# print some random victors of with length of 3\n",
    "random_noise = numpy.random.randn(3000)\n",
    "# print the fist 10 values in random_noise\n",
    "print(random_noise[:10])\n"
   ]
  },
  {
   "cell_type": "markdown",
   "metadata": {},
   "source": [
    "## Plot histogram\n",
    "Histogram plots are great visualization tools. In order to plot a histogram we need to import a library called matplotlib. Specifically we need to use a module called pyplot. We can import this module \"import matplotlib.pyplot\" also we can give it a local name. Additional reading: [How to import modules in Python 3](https://www.digitalocean.com/community/tutorials/how-to-import-modules-in-python-3)."
   ]
  },
  {
   "cell_type": "code",
   "execution_count": 4,
   "metadata": {},
   "outputs": [],
   "source": [
    "# import matplotlib.pyplot and rename it \"plt\"\n",
    "import matplotlib.pyplot as plt\n",
    "# import numpy and rename it \"np\"\n",
    "import numpy as np\n",
    "\n",
    "\n",
    "\n",
    "plt.hist(random_noise, bins=20);"
   ]
  },
  {
   "cell_type": "markdown",
   "metadata": {},
   "source": [
    "In the example above, random_noise is a normal distribution $$N(\\mu, \\sigma)$$\n",
    "in which $\\mu = 0$ and $\\sigma=1$. \n",
    "\n",
    "How do you generate a distribution with different values of $\\mu$ and $\\sigma$? (Hint: read the [online documentation  for numpy.random.randn()](https://docs.scipy.org/doc/numpy/reference/generated/numpy.random.randn.html))"
   ]
  },
  {
   "cell_type": "markdown",
   "metadata": {},
   "source": [
    "## More Python exercises\n",
    "\n",
    "### n-dimentional array of random numbers"
   ]
  },
  {
   "cell_type": "code",
   "execution_count": 5,
   "metadata": {},
   "outputs": [
    {
     "name": "stdout",
     "output_type": "stream",
     "text": [
      "[[ 1.44124887 -0.73663035]\n",
      " [ 2.03575408 -2.61692691]\n",
      " [-2.00642537 -0.93275023]]\n",
      "[[[ 0.51004579 -1.39206654 -1.32296471 -1.83039825]\n",
      "  [-0.15879289  0.44303943  1.18136873 -1.32542613]\n",
      "  [-0.17917593 -1.11180572  1.66166844 -0.97810241]]\n",
      "\n",
      " [[ 0.89848635  0.26730245 -2.17391158  0.4136864 ]\n",
      "  [ 0.8457478  -1.51754397  0.72775841 -0.45646931]\n",
      "  [ 0.91732559  0.57917099 -0.93150664  0.28428441]]\n",
      "\n",
      " [[-0.11704521  0.24071621 -0.90082023  1.16671914]\n",
      "  [ 0.04902425  0.27517919 -1.49584234  0.26009235]\n",
      "  [-0.19162538 -1.49580629  0.29071     0.13040491]]]\n"
     ]
    }
   ],
   "source": [
    "# print a 2-dimentinal matix of random numbers\n",
    "print(numpy.random.randn(3, 2))\n",
    "# print a 3-dimentinal matix of random numbers\n",
    "print(numpy.random.randn(3, 3, 4))"
   ]
  },
  {
   "cell_type": "markdown",
   "metadata": {},
   "source": [
    "## Re-initializing the random seed!\n",
    "run the following script to understand what happens if you re-initialize your random seed."
   ]
  },
  {
   "cell_type": "code",
   "execution_count": 6,
   "metadata": {},
   "outputs": [
    {
     "name": "stdout",
     "output_type": "stream",
     "text": [
      "[ 1.62434536 -0.61175641 -0.52817175]\n",
      "[-1.07296862  0.86540763 -2.3015387 ]\n",
      "[ 1.74481176 -0.7612069   0.3190391 ]\n",
      "pseudorandom number generator is initialized\n",
      "[ 1.62434536 -0.61175641 -0.52817175]\n",
      "[-1.07296862  0.86540763 -2.3015387 ]\n",
      "[ 1.74481176 -0.7612069   0.3190391 ]\n"
     ]
    }
   ],
   "source": [
    "# import the essential  library\n",
    "import numpy\n",
    "# initialize a pseudorandom number generator\n",
    "numpy.random.seed(1)\n",
    "# print some random victors of with length  of 3\n",
    "print(numpy.random.randn(3))\n",
    "print(numpy.random.randn(3))\n",
    "print(numpy.random.randn(3))\n",
    "# note: if you initialize the pseudorandom number generator, you will go back to the beginning of the random series\n",
    "print('pseudorandom number generator is initialized')\n",
    "numpy.random.seed(1)\n",
    "print(numpy.random.randn(3))\n",
    "print(numpy.random.randn(3))\n",
    "print(numpy.random.randn(3))"
   ]
  },
  {
   "cell_type": "code",
   "execution_count": null,
   "metadata": {},
   "outputs": [],
   "source": []
  },
  {
   "cell_type": "code",
   "execution_count": null,
   "metadata": {},
   "outputs": [],
   "source": []
  }
 ],
 "metadata": {
  "kernelspec": {
   "display_name": "Python 3",
   "language": "python",
   "name": "python3"
  },
  "language_info": {
   "codemirror_mode": {
    "name": "ipython",
    "version": 3
   },
   "file_extension": ".py",
   "mimetype": "text/x-python",
   "name": "python",
   "nbconvert_exporter": "python",
   "pygments_lexer": "ipython3",
   "version": "3.6.8"
  }
 },
 "nbformat": 4,
 "nbformat_minor": 2
}
