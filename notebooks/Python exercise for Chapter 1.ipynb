{
 "cells": [
  {
   "cell_type": "markdown",
   "metadata": {},
   "source": [
    "# Python Exercises for Hughes and Hase: Chapter 1\n",
    "\n",
    "\n",
    "Python activities to complement Measurements and their Uncertainties, Chapter 1, \"Errors in the physical sciences.\"\n",
    "\n",
    "Author: J. S. Dodge, 2016 ©\n",
    "\n",
    "## Preliminaries\n",
    "Over the next few weeks, you will be assigned notebooks designed to teach you a bit of statistics and to acquaint you with the scientific programming language Python. Most modules contains questions related to the required textbook for this course, Measurements and their Uncertainties, by Hughes and Hase. Sections in the worksheet are numbered to be consistent with the text. Please read the corresponding section of the book before beginning the associated section of the worksheet and then do the questions, using the book as a reference as you work. \n",
    "\n",
    "<- Explainatin on how to use Jupyter Notebooks to run Python script and also how to submit files on Canvas -> \n"
   ]
  },
  {
   "cell_type": "markdown",
   "metadata": {},
   "source": [
    "## Python basics\n",
    "\n",
    "Review the following documentation pages to familiarize yourself with the basic elements of the Python language, integrated development environment (IDE) and Python libraries for data analysis.\n",
    "\n",
    "* [Python Lectures](https://sfu.syzygy.ca/jupyter/hub/user-redirect/git-pull?repo=https://github.com/nleehone/PythonLectures.git&branch=master)\n",
    "\n",
    "Additional resources: \n",
    "* [Getting Started With Jupyter Notebook for Python](https://medium.com/codingthesmartway-com-blog/getting-started-with-jupyter-notebook-for-python-4e7082bd5d46)\n",
    "\n",
    "For MATLAB users:\n",
    "\n",
    "* [NumPy for Matlab users](https://www.numpy.org/devdocs/user/numpy-for-matlab-users.html)\n",
    "\n",
    "Python online documentation: \n",
    "* [Python 3.7.4 documentation](https://docs.python.org/3/tutorial/)\n"
   ]
  },
  {
   "cell_type": "markdown",
   "metadata": {},
   "source": [
    "## Random number generation (RNG)\n",
    "\n",
    "RNGs are wonderful tools for learning about statistics, simulating experiments, and even doing certain types of theoretical calculations. You might wonder how a computer, a completely deterministic machine, can generate random numbers. The short answer is that it does not; the functions use algorithms that are cleverly designed to produce numbers that satisfy most statistical requirements associated with randomness, but actually follow a well-defined sequence. If this sounds strange, you are not alone: the great 20th century mathematician John von Neumann wrote, \"Anyone who considers arithmetical methods of producing random digits is, of course, in a state of sin.\" [J. von Neumann, NBS Applied Mathematics Series, (1951).](https://dornsifecms.usc.edu/assets/sites/520/docs/VonNeumann-ams12p36-38.pdf) \n",
    "\n",
    "\n",
    "\n",
    "\n",
    "Technically, the numbers produced by rand and randn are called pseudorandom numbers to distinguish them from their purer counterparts. A brief review of the algorithm used for rand is available in the short article [\"Random Thoughts\"](toBeAdded) by Cleve Moler; a more comprehensive and mathematical review of the subject is available in Don Knuth's [The Art of Computer Programming, volume 2: Seminumerical Algorithms](toBeAdded) , among others.\n",
    "\n",
    "We'll use Python's random number generation capabilities to simulate experimental errors. In order to use random number in Python we need to use a library called [\"random\"](https://docs.python.org/3/library/random.html). This library contains several functions that deal with random number generation. One of these function is random.random(). This function returns random numbers that are uniformly distributed over \\[0.0, 1.0).\n",
    "Try to run the following cell multiple times. "
   ]
  },
  {
   "cell_type": "code",
   "execution_count": 1,
   "metadata": {},
   "outputs": [
    {
     "name": "stdout",
     "output_type": "stream",
     "text": [
      "0.9850645588874515\n",
      "0.0993592739201139\n",
      "0.3231424350120339\n",
      "0.3011321332773982\n"
     ]
    }
   ],
   "source": [
    "# import the essencial library\n",
    "import random\n",
    "# random(): return\n",
    "print(random.random())\n",
    "print(random.random())\n",
    "print(random.random())\n",
    "print(random.random())"
   ]
  },
  {
   "cell_type": "markdown",
   "metadata": {},
   "source": [
    "You will find that each time you get a differnt results. In order to make have reproducible results, we would like to used the same sequence of random numbers each time we run our code. In general this method is know as \"random seed\". In Python we can call this method(function) by [random.seed()](https://docs.python.org/3/library/random.html#random.seed). \n",
    "Try to run the following cell multiple times. "
   ]
  },
  {
   "cell_type": "code",
   "execution_count": 2,
   "metadata": {},
   "outputs": [
    {
     "name": "stdout",
     "output_type": "stream",
     "text": [
      "0.13436424411240122\n",
      "0.8474337369372327\n",
      "0.763774618976614\n",
      "0.2550690257394217\n"
     ]
    }
   ],
   "source": [
    "# import the essencial library\n",
    "import random\n",
    "# initialize a pseudorandom number generator\n",
    "random.seed(1)\n",
    "# print a few random numbers\n",
    "print(random.random())\n",
    "print(random.random())\n",
    "print(random.random())\n",
    "print(random.random())"
   ]
  },
  {
   "cell_type": "markdown",
   "metadata": {},
   "source": [
    "## One-dimentional random number:\n",
    "Sometime we want a one-dimentional **vector** of random numbers. We can use numpy to do so. numpy is one of the main libraries that deals with vectors in Python. In this library numpy.random.randn(n) generates an array(vector) of n random numbers from a uniform distribution over \\[0, 1). \n",
    "\n"
   ]
  },
  {
   "cell_type": "code",
   "execution_count": 3,
   "metadata": {},
   "outputs": [
    {
     "name": "stdout",
     "output_type": "stream",
     "text": [
      "[-0.41675785 -0.05626683 -2.1361961   1.64027081 -1.79343559 -0.84174737\n",
      "  0.50288142 -1.24528809 -1.05795222 -0.90900761]\n"
     ]
    }
   ],
   "source": [
    "# import the essencial library\n",
    "import numpy\n",
    "# initialize a pseudorandom number generator\n",
    "numpy.random.seed(2)\n",
    "# print some random victors of with lenght of 3\n",
    "random_noise = numpy.random.randn(3000)\n",
    "# print the fist 10 values in random_noise\n",
    "print(random_noise[:10])\n"
   ]
  },
  {
   "cell_type": "markdown",
   "metadata": {},
   "source": [
    "## Plot histogram\n",
    "Histogram plots are great visualization tools. In order to plot a histogram we need to import a library called matplotlib. Specificall we need to use a module called pyplot. We can import this module \"import matplotlib.pyplot\" also we can give it a local name. Addictional reading: [How to import modules in Python 3](https://www.digitalocean.com/community/tutorials/how-to-import-modules-in-python-3)."
   ]
  },
  {
   "cell_type": "code",
   "execution_count": 6,
   "metadata": {},
   "outputs": [
    {
     "data": {
      "text/plain": [
       "(array([  3.,  10.,  28.,  64., 132., 178., 289., 389., 451., 434., 379.,\n",
       "        275., 175.,  98.,  58.,  23.,   5.,   6.,   2.,   1.]),\n",
       " array([-3.32687011, -2.95509197, -2.58331383, -2.2115357 , -1.83975756,\n",
       "        -1.46797942, -1.09620129, -0.72442315, -0.35264501,  0.01913312,\n",
       "         0.39091126,  0.76268939,  1.13446753,  1.50624567,  1.8780238 ,\n",
       "         2.24980194,  2.62158008,  2.99335821,  3.36513635,  3.73691449,\n",
       "         4.10869262]),\n",
       " <a list of 20 Patch objects>)"
      ]
     },
     "execution_count": 6,
     "metadata": {},
     "output_type": "execute_result"
    },
    {
     "data": {
      "image/png": "[encoded data removed]",
      "text/plain": [
       "<Figure size 432x288 with 1 Axes>"
      ]
     },
     "metadata": {
      "needs_background": "light"
     },
     "output_type": "display_data"
    }
   ],
   "source": [
    "# import matplotlib.pyplot and name it \"plt\"\n",
    "import matplotlib.pyplot as plt\n",
    "# import numpy and name it \"np\"\n",
    "import numpy as np\n",
    "\n",
    "# the following command is notebood specific and makes sure that your plot appears \n",
    "%matplotlib inline\n",
    "\n",
    "plt.hist(random_noise, bins=20)"
   ]
  },
  {
   "cell_type": "markdown",
   "metadata": {},
   "source": [
    "In the example above, random_noise is a normal distribution $$N(\\mu, \\sigma)$$\n",
    "in which $\\mu = 0$ and $\\sigma=1$. \n",
    "\n",
    "How do you generate a distribution with different values of $\\mu$ and $\\sigma$? (Hint: read the [online documention for numpy.random.randn()](https://docs.scipy.org/doc/numpy/reference/generated/numpy.random.randn.html))"
   ]
  },
  {
   "cell_type": "markdown",
   "metadata": {},
   "source": [
    "## More Python exercises\n",
    "\n",
    "### n-dimentional array of random numbers"
   ]
  },
  {
   "cell_type": "code",
   "execution_count": 7,
   "metadata": {},
   "outputs": [
    {
     "name": "stdout",
     "output_type": "stream",
     "text": [
      "[[ 0.94631641  0.64122177]\n",
      " [ 1.53584392 -0.7233004 ]\n",
      " [ 2.06968412  1.8343767 ]]\n",
      "[[[ 1.02365825  0.64424918 -0.93988967  0.05487571]\n",
      "  [-1.65720821 -0.42665778  0.09017451  0.62289119]\n",
      "  [ 1.79110365 -2.17651491 -2.08871078 -0.66474985]]\n",
      "\n",
      " [[-0.44358131 -1.42743176 -0.02492167 -0.06238481]\n",
      "  [ 0.81333612 -0.58864857  0.10153986  4.13336231]\n",
      "  [-0.30049639  1.52418296  0.80306788 -2.06306675]]\n",
      "\n",
      " [[-0.92005436 -1.3593063   0.8496996  -0.42563485]\n",
      "  [-0.36943583 -0.2034202   1.43971331 -0.32281736]\n",
      "  [-0.6766149   0.64154519 -0.53858563  0.0483886 ]]]\n"
     ]
    }
   ],
   "source": [
    "# print a 2-dimentinal matix of random numbers\n",
    "print(numpy.random.randn(3, 2))\n",
    "# print a 3-dimentinal matix of random numbers\n",
    "print(numpy.random.randn(3, 3, 4))"
   ]
  },
  {
   "cell_type": "markdown",
   "metadata": {},
   "source": [
    "## Re-initializing the random seed!\n",
    "run the following script to understand what happens if you re-initialize your random seed."
   ]
  },
  {
   "cell_type": "code",
   "execution_count": 8,
   "metadata": {},
   "outputs": [
    {
     "name": "stdout",
     "output_type": "stream",
     "text": [
      "[ 1.62434536 -0.61175641 -0.52817175]\n",
      "[-1.07296862  0.86540763 -2.3015387 ]\n",
      "[ 1.74481176 -0.7612069   0.3190391 ]\n",
      "pseudorandom number generator is initialized\n",
      "[ 1.62434536 -0.61175641 -0.52817175]\n",
      "[-1.07296862  0.86540763 -2.3015387 ]\n",
      "[ 1.74481176 -0.7612069   0.3190391 ]\n"
     ]
    }
   ],
   "source": [
    "# import the essencial library\n",
    "import numpy\n",
    "# initialize a pseudorandom number generator\n",
    "numpy.random.seed(1)\n",
    "# print some random victors of with lenght of 3\n",
    "print(numpy.random.randn(3))\n",
    "print(numpy.random.randn(3))\n",
    "print(numpy.random.randn(3))\n",
    "# note: if you initialize the pseudorandom number generator, you will go back to the begining of the random series\n",
    "print('pseudorandom number generator is initialized')\n",
    "numpy.random.seed(1)\n",
    "print(numpy.random.randn(3))\n",
    "print(numpy.random.randn(3))\n",
    "print(numpy.random.randn(3))"
   ]
  }
 ],
 "metadata": {
  "kernelspec": {
   "display_name": "Python 3",
   "language": "python",
   "name": "python3"
  },
  "language_info": {
   "codemirror_mode": {
    "name": "ipython",
    "version": 3
   },
   "file_extension": ".py",
   "mimetype": "text/x-python",
   "name": "python",
   "nbconvert_exporter": "python",
   "pygments_lexer": "ipython3",
   "version": "3.6.8"
  }
 },
 "nbformat": 4,
 "nbformat_minor": 2
}
