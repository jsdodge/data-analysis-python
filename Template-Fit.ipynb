{
 "cells": [
  {
   "cell_type": "markdown",
   "metadata": {},
   "source": [
    "# Template fit"
   ]
  },
  {
   "cell_type": "markdown",
   "metadata": {},
   "source": [
    "This template is based on [Example-Fit.ipynb](https://gitlab.rcg.sfu.ca/teaching/data-analysis-python/Example-Fit.ipynb)"
   ]
  },
  {
   "cell_type": "markdown",
   "metadata": {},
   "source": [
    "## Step 1: Import packages"
   ]
  },
  {
   "cell_type": "code",
   "execution_count": 1,
   "metadata": {},
   "outputs": [],
   "source": [
    "# Import packages\n",
    "import numpy as np\n",
    "import matplotlib.pyplot as plt\n",
    "from scipy.optimize import curve_fit"
   ]
  },
  {
   "cell_type": "markdown",
   "metadata": {},
   "source": [
    "## Step 2: Load the data\n",
    "### Load the data: examine the format\n",
    "Change the file name from `Example-Data.csv` to the name of the file containing your data."
   ]
  },
  {
   "cell_type": "code",
   "execution_count": 2,
   "metadata": {},
   "outputs": [
    {
     "name": "stdout",
     "output_type": "stream",
     "text": [
      "Frequency (Hz),Voltage (mV),Error (mV)\n",
      "10,16,5\n",
      "20,45,5\n",
      "30,64,5\n",
      "40,75,5\n",
      "50,70,30\n",
      "60,115,5\n",
      "70,142,5\n",
      "80,167,5\n",
      "90,183,5\n",
      "100,160,30\n",
      "110,221,5\n"
     ]
    }
   ],
   "source": [
    "# Display file contents\n",
    "file = open('Example-Data.csv', 'r')\n",
    "print(file.read())"
   ]
  },
  {
   "cell_type": "markdown",
   "metadata": {},
   "source": [
    "### Load the data: import the data into an array\n",
    "Change the file name from `Example-Data.csv` to the name of the file containing your data and adjust the options to match your data file format."
   ]
  },
  {
   "cell_type": "code",
   "execution_count": 3,
   "metadata": {},
   "outputs": [
    {
     "name": "stdout",
     "output_type": "stream",
     "text": [
      "data =\n",
      "[[ 10.  16.   5.]\n",
      " [ 20.  45.   5.]\n",
      " [ 30.  64.   5.]\n",
      " [ 40.  75.   5.]\n",
      " [ 50.  70.  30.]\n",
      " [ 60. 115.   5.]\n",
      " [ 70. 142.   5.]\n",
      " [ 80. 167.   5.]\n",
      " [ 90. 183.   5.]\n",
      " [100. 160.  30.]\n",
      " [110. 221.   5.]]\n"
     ]
    }
   ],
   "source": [
    "# Load file into array\n",
    "data = np.genfromtxt('Example-Data.csv', delimiter=',', skip_header = 1)\n",
    "print(\"data =\")\n",
    "print(data)"
   ]
  },
  {
   "cell_type": "markdown",
   "metadata": {},
   "source": [
    "Assign each column of `data` to the new variables for later use."
   ]
  },
  {
   "cell_type": "code",
   "execution_count": 4,
   "metadata": {},
   "outputs": [
    {
     "name": "stdout",
     "output_type": "stream",
     "text": [
      "frequency = [ 10.  20.  30.  40.  50.  60.  70.  80.  90. 100. 110.]\n",
      "voltage = [ 16.  45.  64.  75.  70. 115. 142. 167. 183. 160. 221.]\n",
      "err = [ 5.  5.  5.  5. 30.  5.  5.  5.  5. 30.  5.]\n"
     ]
    }
   ],
   "source": [
    "# Assign each array column to a separate array\n",
    "frequency = data[:,0]\n",
    "voltage = data[:,1]\n",
    "err = data[:,2]\n",
    "print(\"frequency =\", frequency)\n",
    "print(\"voltage =\", voltage)\n",
    "print(\"err =\", err)"
   ]
  },
  {
   "cell_type": "markdown",
   "metadata": {},
   "source": [
    "## Step 3: Plot the data\n",
    "Change the variable names, title, axis labels, etc, as appropriate."
   ]
  },
  {
   "cell_type": "code",
   "execution_count": 5,
   "metadata": {},
   "outputs": [
    {
     "data": {
      "image/png": "[encoded data removed]",
      "text/plain": [
       "<Figure size 432x288 with 1 Axes>"
      ]
     },
     "metadata": {
      "needs_background": "light"
     },
     "output_type": "display_data"
    }
   ],
   "source": [
    "# Plot data\n",
    "plt.errorbar(frequency,voltage,yerr=err,fmt='ko')\n",
    "\n",
    "# Uncomment and revise the following lines to format plot\n",
    "# plt.xlabel('Frequency (Hz)')\n",
    "# plt.ylabel('Voltage (mV)')\n",
    "# plt.title('Data from Exercise 6.2')\n",
    "\n",
    "plt.show()"
   ]
  },
  {
   "cell_type": "markdown",
   "metadata": {},
   "source": [
    "## Step 4: Define the model function\n",
    "Revise to define your own model function."
   ]
  },
  {
   "cell_type": "code",
   "execution_count": 6,
   "metadata": {},
   "outputs": [],
   "source": [
    "# Define model function\n",
    "def model(x,m,b):\n",
    "    return m*x + b"
   ]
  },
  {
   "cell_type": "markdown",
   "metadata": {},
   "source": [
    "## Step 5: Choose initial parameter values for the model\n",
    "Select your initial parameters, select an appropriate range for your independent variable, and check that the resulting model curve is reasonably close to your data. Adust and repeat if they don't match."
   ]
  },
  {
   "cell_type": "code",
   "execution_count": 7,
   "metadata": {},
   "outputs": [
    {
     "data": {
      "image/png": "[encoded data removed]",
      "text/plain": [
       "<Figure size 432x288 with 1 Axes>"
      ]
     },
     "metadata": {
      "needs_background": "light"
     },
     "output_type": "display_data"
    }
   ],
   "source": [
    "# Set initial parameters m0 and b0\n",
    "mInit = 2\n",
    "bInit = 0\n",
    "\n",
    "# Define new frequency array, fModel, for displaying the model\n",
    "fModel = np.linspace(0,120,50)\n",
    "\n",
    "# Make the plot\n",
    "# Recall the order of the arguments in the model definition, model(x,m,b):\n",
    "plt.plot(fModel,model(fModel,mInit,bInit),'r-')\n",
    "plt.errorbar(frequency,voltage,yerr=err,fmt='ko')\n",
    "\n",
    "# Uncomment and revise the following lines to format plot\n",
    "# plt.xlabel('Frequency (Hz)')\n",
    "# plt.ylabel('Voltage (mV)')\n",
    "# plt.title('Data with linear model, initial parameters')\n",
    "# plt.xlim(0,120)\n",
    "# plt.ylim(0,250)\n",
    "\n",
    "plt.show()"
   ]
  },
  {
   "cell_type": "markdown",
   "metadata": {},
   "source": [
    "## Step 6: Fit the model to the data\n",
    "Change the variable names to the ones you have defined above. See the [help](https://docs.scipy.org/doc/scipy/reference/generated/scipy.optimize.curve_fit.html) for details on the `curve_fit` function."
   ]
  },
  {
   "cell_type": "code",
   "execution_count": 8,
   "metadata": {},
   "outputs": [
    {
     "name": "stdout",
     "output_type": "stream",
     "text": [
      "[mOpt bOpt] = [ 2.02846482 -0.94749648]\n",
      "\n",
      "pCov =\n",
      "[[ 2.70174409e-03 -1.53402709e-01]\n",
      " [-1.53402709e-01  1.14708105e+01]]\n"
     ]
    }
   ],
   "source": [
    "# Fit the model to the data and display results\n",
    "# The order of the parameter array elements p0, pOpt, and pCov\n",
    "# are determined by their order [m,b] in the model definition, model(x,m,b):\n",
    "pOpt, pCov = curve_fit(model,frequency,voltage,p0=[mInit,bInit],sigma=err,absolute_sigma=True)\n",
    "print(\"[mOpt bOpt] =\", pOpt)\n",
    "print()\n",
    "print(\"pCov =\")\n",
    "print(pCov)"
   ]
  },
  {
   "cell_type": "markdown",
   "metadata": {},
   "source": [
    "Assign the results of `curve_fit` to new variables."
   ]
  },
  {
   "cell_type": "code",
   "execution_count": 9,
   "metadata": {},
   "outputs": [],
   "source": [
    "# Assign results of curve_fit to new variables\n",
    "mOpt = pOpt[0]\n",
    "bOpt = pOpt[1]\n",
    "mAlpha = np.sqrt(pCov[0,0])\n",
    "bAlpha = np.sqrt(pCov[1,1])\n",
    "rho_mb = pCov[0,1]/(mAlpha*bAlpha)"
   ]
  },
  {
   "cell_type": "markdown",
   "metadata": {},
   "source": [
    "Display the variables. "
   ]
  },
  {
   "cell_type": "code",
   "execution_count": 10,
   "metadata": {},
   "outputs": [
    {
     "name": "stdout",
     "output_type": "stream",
     "text": [
      "Default precision:\n",
      "Model slope (mV/Hz):     2.0284648218983428  ±  0.05197830398834128\n",
      "Model intercept (mV): -0.9474964819135983  ±  3.3868584966351962\n",
      "Correlation coefficient: -0.8713926108446474\n"
     ]
    }
   ],
   "source": [
    "# Display formatted results\n",
    "print(\"Default precision:\")\n",
    "print(\"Model slope (mV/Hz):    \", mOpt, \" ± \", mAlpha)\n",
    "print(\"Model intercept (mV):\", bOpt, \" ± \", bAlpha)\n",
    "print(\"Correlation coefficient:\", rho_mb)"
   ]
  },
  {
   "cell_type": "markdown",
   "metadata": {},
   "source": [
    "_**Note that you should always round such parameter estimates and uncertainties to the appropriate number of significant figures!**_\n",
    "\n",
    "Follow the \"golden rules\" described in Sec. 2.9 of Hughes and Hase, adapted to the model-fitting context.\n",
    "\n",
    "1. *If and only if the fit between a model and the data is good* (see below for methods to assess fit quality), the best estimate of a parameter is the one returned by the fit, and may be understood as the mean value of the distribution that you would get if you were to conduct the same experiment many times.\n",
    "2. The error in each parameter is given by the square root of the associated diagonal element of the covariance matrix, and may be understood as the standard error for the parameter. Correlation coefficients between parameters may also be derived from the covariance matrix, using Eq. (7.30) in Hughes and Hase.\n",
    "3. Round up the error for each parameter to the appropriate number of significant figures (usually just one, but sometimes more—see the discussion on p. 17 of Hughes and Hase, including Footnote #7).\n",
    "4. Match the number of decimal places in the mean to the standard eror.\n",
    "5. Include units."
   ]
  },
  {
   "cell_type": "markdown",
   "metadata": {},
   "source": [
    "## Step 7: Assess the fit\n",
    "### Assessing the fit: visual inspection"
   ]
  },
  {
   "cell_type": "code",
   "execution_count": 11,
   "metadata": {},
   "outputs": [
    {
     "data": {
      "image/png": "[encoded data removed]",
      "text/plain": [
       "<Figure size 432x288 with 1 Axes>"
      ]
     },
     "metadata": {
      "needs_background": "light"
     },
     "output_type": "display_data"
    }
   ],
   "source": [
    "# Plot data with best-fit model\n",
    "plt.plot(fModel,model(fModel,mOpt,bOpt),'r-')\n",
    "plt.errorbar(frequency,voltage,yerr=err,fmt='ko')\n",
    "\n",
    "# Uncomment and revise the following lines to format plot\n",
    "# plt.xlabel('Frequency (Hz)')\n",
    "# plt.ylabel('Voltage (mV)')\n",
    "# plt.title('Data with linear model, optimal parameters')\n",
    "# plt.xlim(0,120)\n",
    "# plt.ylim(0,250)\n",
    "\n",
    "plt.show()"
   ]
  },
  {
   "cell_type": "markdown",
   "metadata": {},
   "source": [
    "### Assessing the fit: compute the $\\chi^2$ statistic\n",
    "Change the definition of `res` to match your dependent variable and model function."
   ]
  },
  {
   "cell_type": "code",
   "execution_count": 12,
   "metadata": {},
   "outputs": [
    {
     "name": "stdout",
     "output_type": "stream",
     "text": [
      "chi2 = 9.11590358805301\n"
     ]
    }
   ],
   "source": [
    "# Compute and display chi-squared\n",
    "res = voltage - model(frequency,mOpt,bOpt)\n",
    "normres = res/err\n",
    "chi2 = np.sum(normres**2)\n",
    "print(\"chi2 =\", chi2)"
   ]
  },
  {
   "cell_type": "markdown",
   "metadata": {},
   "source": [
    "Compare to the number of statistical degrees of freedom."
   ]
  },
  {
   "cell_type": "code",
   "execution_count": 13,
   "metadata": {},
   "outputs": [
    {
     "name": "stdout",
     "output_type": "stream",
     "text": [
      "dof = 9\n"
     ]
    }
   ],
   "source": [
    "# Compute and display DOF\n",
    "Ndata = np.size(voltage)\n",
    "Npar = np.size(pOpt)\n",
    "dof = Ndata - Npar\n",
    "print(\"dof =\", dof)"
   ]
  },
  {
   "cell_type": "markdown",
   "metadata": {},
   "source": [
    "### Assessing the fit: plot the (normalized) residuals\n",
    "Finally, we can check for statistical consistency by confirming that the residuals do not show any systematic pattern. In this example, the uncertainty in two of the measurements is much larger than the others, so the residual plot is overwhelmed by the deviations at these points, as seen below.\n",
    "\n",
    "The following cell uses the PyPlot `stem` routine to produce the residual plot, which often shows deviations from the zero line more effectively than a regular scatterplot."
   ]
  },
  {
   "cell_type": "code",
   "execution_count": 14,
   "metadata": {},
   "outputs": [
    {
     "data": {
      "image/png": "[encoded data removed]",
      "text/plain": [
       "<Figure size 432x288 with 1 Axes>"
      ]
     },
     "metadata": {
      "needs_background": "light"
     },
     "output_type": "display_data"
    }
   ],
   "source": [
    "# Show residuals\n",
    "plt.stem(frequency,res)\n",
    "\n",
    "# Uncomment and revise the following lines to format plot\n",
    "# plt.xlabel('Frequency (Hz)')\n",
    "# plt.ylabel('Residual (mV)')\n",
    "# plt.title('Fit residuals')\n",
    "# plt.xlim(0,120)\n",
    "\n",
    "plt.show()"
   ]
  },
  {
   "cell_type": "markdown",
   "metadata": {},
   "source": [
    "By plotting the normalized residuals, we can see that the large deviations at 50 Hz and 100 Hz are not unexpectedly large, and that the overall pattern of deviations is consistent with random fluctuations."
   ]
  },
  {
   "cell_type": "code",
   "execution_count": 15,
   "metadata": {},
   "outputs": [
    {
     "data": {
      "image/png": "[encoded data removed]",
      "text/plain": [
       "<Figure size 432x288 with 1 Axes>"
      ]
     },
     "metadata": {
      "needs_background": "light"
     },
     "output_type": "display_data"
    }
   ],
   "source": [
    "# Show normalized residuals\n",
    "plt.stem(frequency,normres)\n",
    "\n",
    "# Uncomment and revise the following lines to format plot\n",
    "# plt.xlabel('Frequency (Hz)')\n",
    "# plt.ylabel('Residual (mV)')\n",
    "# plt.title('Fit residuals')\n",
    "# plt.xlim(0,120)\n",
    "\n",
    "plt.show()"
   ]
  },
  {
   "cell_type": "markdown",
   "metadata": {},
   "source": [
    "## Step 8: Decide what to do next\n",
    "Ideally you will get to the end of this whole process and find that the model fits the data well, and you can report your results with confidence. If time allows, you might even go back and take more data to improve the precision of your parameter estimates. But what happens if your $\\chi^2$ statistic is too big or too small, or if the normalized residuals do not appear random? If that's the case, you have a few options:\n",
    "\n",
    "* Look for defects in your experimental procedure, including the procedure you used to prepare the raw data for analysis (ie, incorrect unit conversion).\n",
    "* Consider a different model. This may include changes that are based on physical reasoning, such as eliminating approximations to make it more realistic, or purely empirical, such as adding a constant background, or an extra term in a polynomial fit. The residuals should provide guidance on how to change the functional relationship to improve agreement. Just don't overdo it: if you find yourself needing to add many arbitrary fit parameters to achieve a good fit, that is usually a sign that you need to consider a different approach.\n",
    "* Consider restricting your fit to a narrower range of measurements (i.e., focus on limiting values of $x$ and/or $y$, or on the heights, widths and locations of peaks instead of their detailed shape).\n",
    "* Consider rescaling the uncertainties, as described in Sec. 8.9 of Hughes and Hase (though note their \"health warning\" in Footnote 9).\n",
    "* Accept that you may be unable to remove all sources of systematic error in the given time, and do your best to make a quantitative estimate of your parameter uncertainties in light of them. You don't have to throw all of your data away just because you don't have a model that fits it well.\n",
    "\n",
    "\n",
    "## Summary\n",
    "This example can serve as a template for more general problems in data analysis, whether you use Python in a Jupyter notebook or some other computational tool. Let's review the procedure.\n",
    "\n",
    "* *Load the data:* examine the data file format and import it into an array.\n",
    "* *Plot the data:* visually inspect the relationship between the independent and dependent variables and evaluate the best way to model it.\n",
    "* *Define the model:* the model should provide a plausible mathematical description of the data, and will usually involve unknown parameters that you will adjust to obtain the best fit.\n",
    "* *Fit the model to the data:* pick good initial values for the unknown parameters, then use the computer to determine the optimal values and their uncertainties.\n",
    "* *Assess the fit quality:* plot the model together with the data, evaluate the $\\chi^2$ statistic, and inspect the residuals.\n",
    "* *Decide what to do next:* if all goes well, report your results and move on. If not, use your results to guide changes to your experiment, your analysis, or both.\n",
    "\n",
    "This example can also serve as a template for how to use Python in a Jupyter notebook to complete these steps. Let's review the basic Python concepts and expressions.\n",
    "\n",
    "* *Importing packages:* these will typically include [NumPy](https://docs.scipy.org/doc/numpy-1.15.0/user/index.html), [matplotlib](https://matplotlib.org/users/index.html), and [SciPy](https://docs.scipy.org/doc/scipy/reference/tutorial/index.html). See [here](https://docs.python.org/3/tutorial/modules.html#packages) for a general introduction to packages.\n",
    "* *Importing data files:* for simple file formats, use [genfromtext](https://docs.scipy.org/doc/numpy/reference/generated/numpy.genfromtxt.html).\n",
    "* *Defining functions:* see [here](https://docs.python.org/3/tutorial/controlflow.html#defining-functions) for a general introduction to function definitions.\n",
    "* *Plotting data:* this is what [matplotlib](https://matplotlib.org/users/index.html) was designed for. Within that package, [PyPlot](https://matplotlib.org/api/_as_gen/matplotlib.pyplot.html) has many routines for interactive plotting, such as [errorbar](https://matplotlib.org/api/_as_gen/matplotlib.pyplot.errorbar.html), [plot](https://matplotlib.org/api/_as_gen/matplotlib.pyplot.plot.html), and [stem](https://matplotlib.org/api/_as_gen/matplotlib.pyplot.stem.html). Once you have the plot, you can use additional routines to format it, such as [xlabel](https://matplotlib.org/api/_as_gen/matplotlib.pyplot.xlabel.html), [ylabel](https://matplotlib.org/api/_as_gen/matplotlib.pyplot.ylabel.html), [title](https://matplotlib.org/api/_as_gen/matplotlib.pyplot.title.html), [xlim](https://matplotlib.org/api/_as_gen/matplotlib.pyplot.xlim.html), and [ylim](https://matplotlib.org/api/_as_gen/matplotlib.pyplot.ylim.html).\n",
    "* *Curve fitting:* the [curve_fit](https://docs.scipy.org/doc/scipy/reference/generated/scipy.optimize.curve_fit.html) routine includes all of the features that you need for basic use.\n",
    "* *Mathematical functions:* Python can perform [basic mathematical operations](https://docs.python.org/3/tutorial/introduction.html#numbers), and NumPy includes several additional [mathematical functions](https://docs.scipy.org/doc/numpy/reference/routines.math.html) such as trigonometric functions, exponentials, array products and sums, etc."
   ]
  }
 ],
 "metadata": {
  "kernelspec": {
   "display_name": "Python 3",
   "language": "python",
   "name": "python3"
  },
  "language_info": {
   "codemirror_mode": {
    "name": "ipython",
    "version": 3
   },
   "file_extension": ".py",
   "mimetype": "text/x-python",
   "name": "python",
   "nbconvert_exporter": "python",
   "pygments_lexer": "ipython3",
   "version": "3.6.6"
  }
 },
 "nbformat": 4,
 "nbformat_minor": 2
}
